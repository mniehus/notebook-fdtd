{
 "cells": [
  {
   "cell_type": "markdown",
   "metadata": {},
   "source": [
    "# Magnetostatické pole\n",
    "\n",
    "## Magnetická indukcia\n",
    "\n",
    "Magnetické pole vytvára uzatvorené slučky, ktoré nekončia v nejakom bode priestoru, pretože magnetické náboje neexistujú. Magnetické pole je popísané magnetickou indukciou $\\mathbf{B}$, na pohybujúci sa náboj pôsobí silou (Lorentzova sila)\n",
    "\n",
    "\\begin{equation*}\n",
    "\\mathbf{F} = Q \\, (\\mathbf{v} \\times \\mathbf{B} )\n",
    "\\end{equation*}\n",
    "\n",
    "Zdrojom magnetického poľa sú pohybujúce sa náboje - elektrický prúd. Prúd $I$ pretekajúci úsekom vodiča o dĺžke $\\mathrm{d} \\mathbf{l}$ vytvára vo svojom okolí magnetické pole (Biot-Savartov zákon)\n",
    "\n",
    "\\begin{equation*}\n",
    "\\mathrm{d} \\mathbf{B} = \\frac{\\mu_0}{4 \\pi} \\frac{I \\, \\mathrm{d} \\mathbf{l} \\times \\mathbf{r} }{r^3}\n",
    "\\end{equation*}\n",
    "\n",
    "kde $\\mathbf{r}$ je polohový vektor medzi úsekom vodiča a bodom pozorovania. Pretože z dôvodu princípu zachovania náboja musí elektrický prúd tiecť v uzatvorenom obvode, pre magnetické pole slučky s prúdom potom platí\n",
    "\n",
    "\\begin{equation*}\n",
    "\\mathbf{B} =  \\frac{\\mu_0}{4 \\pi} \\oint\\limits_L \\frac{I \\, \\mathrm{d} \\mathbf{l} \\times \\mathbf{r} }{r^3}\n",
    "\\end{equation*}\n"
   ]
  },
  {
   "cell_type": "markdown",
   "metadata": {},
   "source": [
    "## Ampérov zákon\n",
    "\n",
    "Vzťah medzi elektrickým prúdom a magnetickou indukciou vyjadruje Amperov zákon\n",
    "\n",
    "\\begin{equation*}\n",
    "\\oint\\limits_L \\mathbf{B} \\cdot \\mathrm{d} \\mathbf{l} = \\mu_0 I_c\n",
    "\\end{equation*}\n",
    "\n",
    "kde $I_c$ je celkový prúd pretekajúci plochou obopnutou krivkou $L$. \n",
    "\n",
    "Použitím Stokesovej vety dostaneme\n",
    "\n",
    "\\begin{equation*}\n",
    "\\oint\\limits_L \\mathbf{B} \\cdot \\mathrm{d} \\mathbf{l} = \\int\\limits_S \\nabla \\times \\mathbf{B} \\, \\mathrm{d} \\mathbf{s}\n",
    "= \\mu_0 I_c = \\mu_0 \\int\\limits_S \\mathbf{J} \\, \\mathrm{d} \\mathbf{s}\n",
    "\\end{equation*}\n",
    "\n",
    "Porovnaním podintegrálnych výrazov dostaneme Ampérov zákon v tvare\n",
    "\n",
    "\\begin{equation*}\n",
    "\\nabla \\times \\mathbf{B}  = \\mu_0 \\, \\mathbf{J} \n",
    "\\end{equation*}\n",
    "\n"
   ]
  }
 ],
 "metadata": {
  "kernelspec": {
   "display_name": "Python 3",
   "language": "python",
   "name": "python3"
  },
  "language_info": {
   "codemirror_mode": {
    "name": "ipython",
    "version": 3
   },
   "file_extension": ".py",
   "mimetype": "text/x-python",
   "name": "python",
   "nbconvert_exporter": "python",
   "pygments_lexer": "ipython3",
   "version": "3.6.7"
  },
  "latex_envs": {
   "LaTeX_envs_menu_present": true,
   "autoclose": false,
   "autocomplete": true,
   "bibliofile": "biblio.bib",
   "cite_by": "apalike",
   "current_citInitial": 1,
   "eqLabelWithNumbers": true,
   "eqNumInitial": 1,
   "hotkeys": {
    "equation": "Ctrl-E",
    "itemize": "Ctrl-I"
   },
   "labels_anchors": false,
   "latex_user_defs": false,
   "report_style_numbering": false,
   "user_envs_cfg": false
  },
  "varInspector": {
   "cols": {
    "lenName": 16,
    "lenType": 16,
    "lenVar": 40
   },
   "kernels_config": {
    "python": {
     "delete_cmd_postfix": "",
     "delete_cmd_prefix": "del ",
     "library": "var_list.py",
     "varRefreshCmd": "print(var_dic_list())"
    },
    "r": {
     "delete_cmd_postfix": ") ",
     "delete_cmd_prefix": "rm(",
     "library": "var_list.r",
     "varRefreshCmd": "cat(var_dic_list()) "
    }
   },
   "types_to_exclude": [
    "module",
    "function",
    "builtin_function_or_method",
    "instance",
    "_Feature"
   ],
   "window_display": false
  }
 },
 "nbformat": 4,
 "nbformat_minor": 2
}
