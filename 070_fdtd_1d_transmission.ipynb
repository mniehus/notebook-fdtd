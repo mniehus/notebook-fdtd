{
 "cells": [
  {
   "cell_type": "markdown",
   "metadata": {},
   "source": [
    "# FDTD 1D dlhé vedenia\n",
    "\n",
    "\n",
    "\n",
    "Elektromagnetickú vlnu vybudíme eletrickou zložkou v tvare exponenciálneho impulzu posunutom v čase voči začiatku simulácia\n",
    "\n",
    "\\begin{equation*}\n",
    "E_z[0] = \\exp \\left( -\\frac{(t-30)^2}{100} \\right) \\, [V \\, m^{-1}]\n",
    "\\end{equation*}\n"
   ]
  },
  {
   "cell_type": "code",
   "execution_count": 6,
   "metadata": {},
   "outputs": [
    {
     "data": {
      "image/png": "[encoded data removed]",
      "text/plain": [
       "<matplotlib.figure.Figure at 0x7f8065271a20>"
      ]
     },
     "metadata": {
      "needs_background": "light"
     },
     "output_type": "display_data"
    }
   ],
   "source": [
    "%reset -sf \n",
    "%matplotlib inline\n",
    "from scipy import *\n",
    "from utils.utils import *\n",
    "import matplotlib.pyplot as plt\n",
    "\n",
    "nodes = 500\n",
    "time =2000\n",
    "V = zeros(nodes)\n",
    "I = zeros(nodes)\n",
    "r = zeros((time, nodes))  \n",
    "\n",
    "dt = 1e-12\n",
    "dx = 1e-3\n",
    "Rs = 70\n",
    "Rz = 170\n",
    "L = 2.36e-7\n",
    "C = 4.69e-11\n",
    "\n",
    "def V0(t):\n",
    "    #return sin(2*pi*t*0.005)\n",
    "    return exp(-(t*0.7 -100)**2 / 1000.)\n",
    "\n",
    "\n",
    "for t in range(time):\n",
    "    \n",
    "    for m in range(nodes-1):                \n",
    "        I[m] = I[m] - (dt/(L*dx))*(V[m + 1] - V[m]) \n",
    "    \n",
    "    \n",
    "    V[0] = (1-2.0*dt/(Rs*C*dx))*V[0] + (2*dt)/(Rs*C*dx)*V0(t) - (2*dt)/(C*dx)*I[0]\n",
    "    #print(V[0])\n",
    "    \n",
    "    for m in range(1,nodes-1):                       \n",
    "        V[m] = V[m] - (dt/(C*dx))*(I[m] - I[m - 1])   \n",
    "        \n",
    "    V[nodes-1] = (1-2.0*dt/(Rz*C*dx))*V[nodes-1] + (2*dt)/(C*dx)*I[nodes-2]\n",
    "    \n",
    "    \n",
    "        \n",
    "    r[t,:] += V\n",
    "\n",
    "#tm_plot([250,600, 1200], r)\n",
    "#wv_plot(time, nodes, r)  \n",
    "\n",
    "tm=[1500]\n",
    "dt=r\n",
    "fig = plt.figure()\n",
    "ax = fig.add_subplot((len(tm))*100+10+(1+0) ) \n",
    "#        \n",
    "ax.plot(dt[tm[0],:], 'r-', label='t=' + str(tm[0]) )\n",
    "ax.set_xlim(0,500)\n",
    "#ax.set_ylim(-1,1)\n",
    "plt.grid()\n",
    "plt.show()"
   ]
  }
 ],
 "metadata": {
  "kernelspec": {
   "display_name": "Python 3",
   "language": "python",
   "name": "python3"
  },
  "language_info": {
   "codemirror_mode": {
    "name": "ipython",
    "version": 3
   },
   "file_extension": ".py",
   "mimetype": "text/x-python",
   "name": "python",
   "nbconvert_exporter": "python",
   "pygments_lexer": "ipython3",
   "version": "3.6.8"
  },
  "latex_envs": {
   "LaTeX_envs_menu_present": true,
   "autoclose": false,
   "autocomplete": true,
   "bibliofile": "biblio.bib",
   "cite_by": "apalike",
   "current_citInitial": 1,
   "eqLabelWithNumbers": true,
   "eqNumInitial": 1,
   "hotkeys": {
    "equation": "Ctrl-E",
    "itemize": "Ctrl-I"
   },
   "labels_anchors": false,
   "latex_user_defs": false,
   "report_style_numbering": false,
   "user_envs_cfg": false
  },
  "varInspector": {
   "cols": {
    "lenName": 16,
    "lenType": 16,
    "lenVar": 40
   },
   "kernels_config": {
    "python": {
     "delete_cmd_postfix": "",
     "delete_cmd_prefix": "del ",
     "library": "var_list.py",
     "varRefreshCmd": "print(var_dic_list())"
    },
    "r": {
     "delete_cmd_postfix": ") ",
     "delete_cmd_prefix": "rm(",
     "library": "var_list.r",
     "varRefreshCmd": "cat(var_dic_list()) "
    }
   },
   "position": {
    "height": "465px",
    "left": "993px",
    "right": "30px",
    "top": "120px",
    "width": "339px"
   },
   "types_to_exclude": [
    "module",
    "function",
    "builtin_function_or_method",
    "instance",
    "_Feature"
   ],
   "window_display": false
  }
 },
 "nbformat": 4,
 "nbformat_minor": 2
}
