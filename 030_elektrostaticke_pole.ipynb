{
 "cells": [
  {
   "cell_type": "markdown",
   "metadata": {},
   "source": [
    "# Elektrostatické pole\n",
    "\n",
    "## Coulombov zákon\n",
    "\n",
    "Coulombov zákon popisuje silové pôsobenie medzi nábojmi. \n",
    "\n",
    "<img src=\"./img/obr_f12.png\" width=350 alt=\"Silové pôsobenie dvoch nábojov\" scale=\"0.3\">\n",
    "\n",
    "Náboj $Q_2$ pôsobí vo vákuu na náboj $Q_1$ vo vzdialenosti $r$  silou $\\mathbf{F}_{1}$ ktorú môžeme vyjadriť vo vektorovej forme\n",
    "\n",
    "\\begin{equation}\n",
    "\\mathbf{F}_{1} = \\frac{1}{4 \\pi \\epsilon_0} \\frac{Q_1 \\, Q_2}{{r^2}} \\, \\mathbf{r}_{21}\n",
    "\\end{equation}\n",
    "\n",
    "kde $\\mathbf{r}_{21}$ je jednotkový vektor smerujúci od $Q_2$ ku $Q_1$. Vektorová forma zohľadňuje polaritu nábojov, pri rovnakej polarite sa náboje odpodzujú, pri opačnej priťahujú. Podľa  tretieho Newtonovho zákona platí $\\mathbf{F}_{1} =-\\mathbf{F}_{2}$\\\\\n",
    "\n",
    "V skalárnej forme\n",
    "\n",
    "\\begin{equation}\n",
    "| \\mathbf{F}| = \\frac{1}{4 \\pi \\epsilon_0} \\frac{ | Q_1 \\, Q_2 |}{{r^2}}\n",
    "\\end{equation}\n"
   ]
  },
  {
   "cell_type": "markdown",
   "metadata": {},
   "source": [
    "## Intenzita elektrického poľa\n",
    "\n",
    "Silové pôsobenie na náboj $Q_1$ vieme vyjadriť pomocou elektrického poľa $\\mathbf{E}$ náboja $Q_2$, ktoré tento vo svojom okolí vytvára\n",
    "\n",
    "\\begin{equation}\n",
    "\\mathbf{F} = Q_1 \\left( \\frac{1}{4 \\pi \\epsilon_0} \\frac{Q_2}{{r^2}}  \\mathbf{r}_{21} \\right) = Q_1 \\, \\mathbf{E}\n",
    "\\end{equation}\n",
    "\n",
    "Každý statický náboj vo svojom okolí vytvára elektrické pole\n",
    "\n",
    "\\begin{equation}\n",
    "\\mathbf{E} = \\frac{1}{4 \\pi \\epsilon_0} \\frac{Q}{{r^2}} \\, \\frac{\\mathbf{r}}{r} = \\frac{1}{4 \\pi \\epsilon_0} \\frac{Q}{{r^2}} \\, \\mathbf{r}_0\n",
    "\\end{equation}\n",
    "\n",
    "kde $\\mathbf{r}_0$ je jednotkový vektor. Vektor elektrického poľa smeruje od kladného náboja k zápornému, táto konvencia je určená historickými dôvodmi.  "
   ]
  },
  {
   "cell_type": "code",
   "execution_count": 2,
   "metadata": {},
   "outputs": [
    {
     "data": {
      "image/png": "[encoded data removed]",
      "text/plain": [
       "<Figure size 288x288 with 1 Axes>"
      ]
     },
     "metadata": {
      "needs_background": "light"
     },
     "output_type": "display_data"
    }
   ],
   "source": [
    "%reset -f \n",
    "%matplotlib inline\n",
    "import numpy as np\n",
    "import matplotlib.pyplot as plt\n",
    "\n",
    "dx = np.linspace(-1.0, 1.0, 10)             # rozsahy suradnic\n",
    "dy = np.linspace(-1.0, 1.0, 10)\n",
    "x, y = np.meshgrid(dx, dy)\n",
    "\n",
    "[Ex, Ey] = [ 1.0/(x**2+y**2)*x,  1.0/(x**2+y**2)*y ]  # zlozky vektoroveho pola\n",
    "\n",
    "fig = plt.figure(figsize=(4, 4))\n",
    "ax = fig.add_subplot(111)\n",
    "ax.quiver(dx, dy, Ex, Ey, color='r')\n",
    "plt.xlabel('x')\n",
    "plt.ylabel('y')\n",
    "plt.axis('equal')\n",
    "plt.grid()\n",
    "plt.show()"
   ]
  },
  {
   "cell_type": "markdown",
   "metadata": {},
   "source": [
    "## Potenciál\n",
    "\n",
    "Pre presun náboja $q$ medzi dvoma bodmi $a,b$ v elektrickom poli iného náboja $Q$ musíme vykonať prácu, ktorá je definovaná ako\n",
    "\n",
    "\\begin{equation*}\n",
    "A = \\int\\limits_a^b \\mathbf{F} \\, \\mathrm{d} \\mathbf{r} = \\int\\limits_a^b q \\,\\mathbf{E} \\, \\mathrm{d} \\mathbf{r}\n",
    "\\end{equation*}\n",
    "\n",
    "Predpokladajme, že $q$ je jednotkový náboj, potom\n",
    "\n",
    "\\begin{equation*}\n",
    "A = 1 \\int\\limits_a^b  \\,\\mathbf{E} \\, \\mathrm{d} \\mathbf{r} \n",
    "= \\frac{1}{4 \\pi \\epsilon_0} \\int\\limits_a^b \\ \\frac{Q}{r^2} \\mathrm{d} r \n",
    "=  \\frac{Q}{4 \\pi \\epsilon_0} \\left[ -\\frac{1}{r} \\right]_a^b = \\frac{Q}{4 \\pi \\epsilon_0} \\left( -\\frac{1}{b} + \\frac{1}{a}  \\right)\n",
    "\\end{equation*}\n",
    "\n",
    "Práca pre presunutie jednotkového náboja z bodu $a$ do bodu $b$ je potom rovná rozdielu prác, ktoré sme vynaložili pre presun náboja do bodu $a$ a potom do bodu $b$. Je ale zrejmé, že počiatočnú hodnotu v bode $a$ nepoznáme, preto by bolo vhodné zadefinovať nejaký referenčný bod, z ktorého by sme pri určení práce vychádzali s počiatočnou nulovou hodnotou. Pretože práca na presun náboja v elektrickom poli iného náboja je nepriamo úmerná ich vzdialenosti, zvoľme ako referenčný bod s nulovým potenciálom v nekonečne. \n",
    "\n",
    "Určime, akú prácu preto treba vykonať pri presune jednotkového náboja z nekonečna do vzdialenosti $r$ od náboja $Q$. Substitúciou za  $a \\rightarrow \\infty$ , $b \\rightarrow r$ dostaneme\n",
    "\n",
    "\\begin{equation*}\n",
    "A = - \\frac{Q}{4 \\pi \\epsilon_0} \\frac{1}{r} \n",
    "= - \\frac{Q}{4 \\pi \\epsilon_0} \\frac{1}{r^2} \\, \\mathbf{r}_0 \\, \\mathbf{r} \n",
    "=- \\mathbf{E} \\, \\mathbf{r}\n",
    "\\end{equation*}\n"
   ]
  },
  {
   "cell_type": "markdown",
   "metadata": {},
   "source": [
    "Potenciál v bode vzdialenom $r$ od bodového náboja, ktorý vytvára vo svojom okolí pole $E(e)$ je potom definovaný ako\n",
    "\n",
    "\\begin{equation}\n",
    "V(r) = -A =  \\mathbf{E} \\, \\mathbf{r}\n",
    "\\end{equation}\n",
    "\n",
    "**TODO - OBRAZOK**\n",
    "\n",
    "Potenciál medzi dvoma bodmi $a, b$ potom môžeme určiť ako \n",
    "\n",
    "\\begin{equation}\n",
    "V_{ab}= \\int\\limits_a^b  \\mathbf{E} \\, \\mathrm{d} \\mathbf{r} = V_b - V_a\n",
    "\\end{equation}\n",
    "\n",
    "pretože elektrické pole je konzervatívne, hodnota krivkového integrálu závisí len od jeho koncových bodov. Z tohoto vyplýva, že integrál po uzatvorenej krivke bude zrejme rovný nule (počuatočný a koncový bod krivky sú zhodné)\n",
    "\n",
    "\\begin{equation}\n",
    "\\oint\\limits_C  \\mathbf{E} \\, \\mathrm{d} \\mathbf{r} = 0\n",
    "\\end{equation}\n",
    "\n",
    "Uplatnením Stokesovej vety môžeme vzťah prepísať do tvaru\n",
    "\n",
    "\\begin{equation}\n",
    "\\oint\\limits_C  \\mathbf{E} \\, \\mathrm{d} \\mathbf{r} = \\int\\limits_S \\big( {\\nabla \\times \\mathbf{E}} \\big) \\cdot \\mathrm{d}\\mathbf{s} = 0\n",
    "\\end{equation}\n",
    "\n",
    "alebo v diferenciálnom tvare\n",
    "\n",
    "\\begin{equation}\n",
    "\\nabla \\times \\mathbf{E} = 0\n",
    "\\end{equation}\n",
    "\n",
    "ktorý hovorí o tom, že elektrostatické pole nevytvára slučky."
   ]
  },
  {
   "cell_type": "markdown",
   "metadata": {},
   "source": [
    "## Gaussov zákon\n",
    "\n",
    "Spočítajme, aký je tok elektrického poľa uzatvorenou spojitou hladkou plochou, ktorá obklopuje bodový náboj. Pre jednoduchosť zvoľme gulovú plochu a náboj umiestnime do jej stredu. V sférických súradniciach potom pre tok poľa dostaneme\n",
    "\n",
    "\\begin{equation*}\n",
    "\\oint\\limits_S \\mathbf{E} \\, \\mathrm{d} \\mathbf{s} = \\int\\limits_{\\phi = 0}^{\\pi} \\, \\int\\limits_{\\zeta = 0}^{2 \\pi} \\frac{Q}{4 \\pi \\epsilon_0} \\frac{1}{r^2} \\, r^2 \\sin(\\phi) \\, \\mathrm{d}  \\phi \\, \\mathrm{d}  \\zeta = \\frac{Q}{\\epsilon_0}\n",
    "\\end{equation*}\n",
    "\n",
    "\n",
    "Vo všeobecnosti nezávisí na tvare plochy (musí byť len hladká a spojitá) a ani na tom, či je náboj bodový, umiestnený v strede alebo je rozložený v objeme uzatvorenom plochou. Pre objemovo rozložený náboj s hustotou $\\rho$ v objeme V potom platí vzťah označovaný aj ako Gaussov zákon elektrostatiky v integrálnom tvare\n",
    "\n",
    "\\begin{equation}\n",
    "\\oint\\limits_S \\mathbf{E} \\, \\mathrm{d} \\mathbf{s} = \\frac{1}{\\epsilon_0} \\int\\limits_V \\rho(r) \\, \\mathrm{d}v\n",
    "\\end{equation}\n",
    "\n",
    "Použitím Gaussovej vety dostaneme\n",
    "\n",
    "\\begin{equation*}\n",
    "\\oint\\limits_S \\mathbf{E} \\, \\mathrm{d} \\mathbf{s} = \\int\\limits_V \\nabla \\cdot \\mathbf{E} \\, \\mathrm{d}v = \\frac{1}{\\epsilon_0} \\int\\limits_V \\rho(r) \\,  \\mathrm{d}v\n",
    "\\end{equation*}\n",
    "\n",
    "Porovnaním podintegrálnych funkcií dostaneme Gaussov zákon v diferenciálnom tvare, ktorý definuje divergenciu elektrického poľa vo zvolenom bode priestoru\n",
    "\n",
    "\\begin{equation}\n",
    "\\nabla \\cdot \\mathbf{E}  = \\frac{\\rho(r)}{\\epsilon_0} \n",
    "\\end{equation}"
   ]
  },
  {
   "cell_type": "markdown",
   "metadata": {},
   "source": [
    "**Príklad - Elektrické pole nabitej gule**\n",
    "\n",
    "Predpokladajme, že máme vodivú guľu s polomerom $r$, ktorá je nabitá nábojom $Q$. Z Gaussovho zákona vyplýva\n",
    "\n",
    "\\begin{equation*}\n",
    "\\oint\\limits_S \\mathbf{E} \\, d \\mathbf{s} = \\frac{Q}{\\epsilon_0}\n",
    "\\end{equation*}\n",
    "\n",
    "Ak predpokladáme, že absolútna hodnota poľa na povrchu gule je konštantná, môžeme vzťah upraviť s pomocou vzťahu pre plochu gule\n",
    "\n",
    "\\begin{equation*}\n",
    "E(r) \\, 4 \\pi  r^2 = \\frac{Q}{\\epsilon_0}\n",
    "\\end{equation*}\n",
    "\n",
    "Pre pole na povrchu nabitej gule potom platí\n",
    "\n",
    "\\begin{equation*}\n",
    "\\mathbf{E}  = \\frac{Q}{4 \\pi \\epsilon_0 r^2} \\mathbf{r}_0\n",
    "\\end{equation*}\n",
    "\n",
    "Porovnaním so vzťahom pre pole bodového náboja vyplýva, na povrchu vodivej gule také pole, ako keby bol všetok náboj z povrchu gule sústredený do jej stredu. Potenciál nabitej gule je potom\n",
    "\n",
    "\\begin{equation*}\n",
    "V(r) = \\mathbf{E} \\cdot \\mathbf{r} = \\frac{Q}{4 \\pi \\epsilon_0 r^2} \\mathbf{r}_0 \\mathbf{r} = \\frac{Q}{4 \\pi \\epsilon_0 r}\n",
    "\\end{equation*}"
   ]
  },
  {
   "cell_type": "markdown",
   "metadata": {},
   "source": [
    "## Kapacita\n",
    "\n",
    "Kapacita určuje mieru schopnosti telesa zhromažďovať náboj. Definovaná je ako pomer veľkosti náboja na telese voči potenciálu telesa, tento môže byť voči referenčnému nulovému potenciálu v nekonečne, vtedy hovoríme o vlastnej kapacite, alebo voči inému telesu, vtedy hovoríme o vzájomnej kapacite.\n",
    "\n",
    "\\begin{equation}\n",
    "C = \\frac{Q}{V}\n",
    "\\end{equation}\n",
    "\n",
    "**Príklad - Vlastná kapacita zemegule**\n",
    "\n",
    "Predpokladajme gulu v neohraničenom priestore, do vzťahu pre kapacitu dosadíme potenciál gule \n",
    "\n",
    "\\begin{equation*}\n",
    "C = \\frac{Q}{\\frac{Q}{4 \\pi \\epsilon_0 r}} = 4 \\pi \\epsilon_0 \\, r\n",
    "\\end{equation*}\n"
   ]
  },
  {
   "cell_type": "code",
   "execution_count": 3,
   "metadata": {},
   "outputs": [
    {
     "name": "stdout",
     "output_type": "stream",
     "text": [
      "C= 708.758 [uF]\n"
     ]
    }
   ],
   "source": [
    "# Kapacita zemegule\n",
    "from scipy import pi\n",
    "from scipy.constants import epsilon_0    # import konstant z databazy\n",
    "\n",
    "r = 6370e3                                # polomer zeme [m]\n",
    "Cap = 4*pi*epsilon_0*r\n",
    "print('C= {0:.3f} [uF]'.format(Cap*1e6) )"
   ]
  },
  {
   "cell_type": "markdown",
   "metadata": {},
   "source": [
    "**Priklad - Kapacita kondenzátora**\n",
    "\n",
    "Kondenzátor pozostáva z dvoch platní o ploche $S$ vzdialených od seba $d$, medzi platňami je potenciálový rozdiel $V$. Medzi doskami kondenzátora je homogénne elektrické pole E. Použitím Gaussovej vety a vzťahu pre výpočet potenciálu dostaneme \n",
    "\n",
    "**TODO - OBRAZOK**\n",
    "\n",
    "\\begin{equation*}\n",
    "C = \\frac{Q}{V} = \\frac{\\epsilon_0 \\, E S}{E d} = \\frac{\\epsilon_0 \\, S} {d}\n",
    "\\end{equation*}\n",
    "\n",
    "Reálne elektrické pole medzi doskami kondenzátora je ovplyvnené aj okrajovými efektami, vypočítaná kapacita sa od skutočnej môže mierne líšiť.\n",
    "\n",
    "<img src=\"./img/pw_03.png\" width=550 alt=\"Simulácia elektrického poľa medzi doskami kondenzátora\" scale=\"0.2\">\n"
   ]
  }
 ],
 "metadata": {
  "kernelspec": {
   "display_name": "Python 3",
   "language": "python",
   "name": "python3"
  },
  "language_info": {
   "codemirror_mode": {
    "name": "ipython",
    "version": 3
   },
   "file_extension": ".py",
   "mimetype": "text/x-python",
   "name": "python",
   "nbconvert_exporter": "python",
   "pygments_lexer": "ipython3",
   "version": "3.6.8"
  },
  "latex_envs": {
   "LaTeX_envs_menu_present": true,
   "autoclose": false,
   "autocomplete": true,
   "bibliofile": "biblio.bib",
   "cite_by": "apalike",
   "current_citInitial": 1,
   "eqLabelWithNumbers": true,
   "eqNumInitial": 1,
   "hotkeys": {
    "equation": "Ctrl-E",
    "itemize": "Ctrl-I"
   },
   "labels_anchors": false,
   "latex_user_defs": false,
   "report_style_numbering": false,
   "user_envs_cfg": false
  },
  "varInspector": {
   "cols": {
    "lenName": 16,
    "lenType": 16,
    "lenVar": 40
   },
   "kernels_config": {
    "python": {
     "delete_cmd_postfix": "",
     "delete_cmd_prefix": "del ",
     "library": "var_list.py",
     "varRefreshCmd": "print(var_dic_list())"
    },
    "r": {
     "delete_cmd_postfix": ") ",
     "delete_cmd_prefix": "rm(",
     "library": "var_list.r",
     "varRefreshCmd": "cat(var_dic_list()) "
    }
   },
   "types_to_exclude": [
    "module",
    "function",
    "builtin_function_or_method",
    "instance",
    "_Feature"
   ],
   "window_display": false
  }
 },
 "nbformat": 4,
 "nbformat_minor": 2
}
