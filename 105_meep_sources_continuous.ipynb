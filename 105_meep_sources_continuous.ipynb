{
 "cells": [
  {
   "cell_type": "markdown",
   "metadata": {},
   "source": [
    "# MEEP Zdroje \n",
    "\n",
    "V **MEEP** môžeme zdroje elektromagnetickej energie simulovať ako bodové, lineárne (v 2D) alebo plošné (v 3D) zdroje. Z časového hľadiska môžu byť zdroje harmonické (spojité) alebo impulzné.  Pre špeciálne prípady je možné definovať aj zdroje s uživateľsky definovaným časovým priebehom. Zdroje sú aditívne, v simulačnej oblasti ich môžeme umiestniť ľubovolný počet.\n",
    "\n",
    "## ContinuousSource\n",
    "\n",
    "Zdroj [*ContinuousSource*](https://meep.readthedocs.io/en/latest/Python_User_Interface/#continuoussource) reprezentuje bodový spojitý harmonický zdroj elektromagnetickej energie s konštantnou frekvenciou."
   ]
  },
  {
   "cell_type": "code",
   "execution_count": null,
   "metadata": {},
   "outputs": [],
   "source": [
    "%reset -f \n",
    "%matplotlib inline\n",
    "import meep as mp \n",
    "import matplotlib.pyplot as plt\n",
    "from utils.utils import src_plot\n",
    "\n",
    "dx = 100\n",
    "dy = 100\n",
    "area = mp.Vector3(dx, dy, 0)\n",
    "\n",
    "sources = [ mp.Source( mp.ContinuousSource(frequency=0.1), \n",
    "                component=mp.Ez, \n",
    "                center=mp.Vector3(0,0,0) )]\n",
    "                     \n",
    "sim = mp.Simulation(cell_size=area, boundary_layers=[mp.PML(5.0)],\n",
    "                geometry=[], sources=sources, resolution=2)\n",
    "\n",
    "sim.run(until=80)\n",
    "data = sim.get_array(center=mp.Vector3(), size=area, component=mp.Ez)\n",
    "src_plot(dx, dy, data.transpose())"
   ]
  },
  {
   "cell_type": "markdown",
   "metadata": {},
   "source": [
    "<!---  REMOVE -->  \n",
    "## Animácia časového vývoja poľa\n",
    "\n",
    "<!-- REMOVE -->\n",
    "<img src=\"./img/anim_cont_01.gif\" >\n",
    "\n",
    "<!-- REMOVE -->\n",
    "<img src=\"./img/anim_cont_02.gif\" >"
   ]
  }
 ],
 "metadata": {
  "kernelspec": {
   "display_name": "Python 3",
   "language": "python",
   "name": "python3"
  },
  "language_info": {
   "codemirror_mode": {
    "name": "ipython",
    "version": 3
   },
   "file_extension": ".py",
   "mimetype": "text/x-python",
   "name": "python",
   "nbconvert_exporter": "python",
   "pygments_lexer": "ipython3",
   "version": "3.6.7"
  },
  "latex_envs": {
   "LaTeX_envs_menu_present": true,
   "autoclose": false,
   "autocomplete": true,
   "bibliofile": "biblio.bib",
   "cite_by": "apalike",
   "current_citInitial": 1,
   "eqLabelWithNumbers": true,
   "eqNumInitial": 1,
   "hotkeys": {
    "equation": "Ctrl-E",
    "itemize": "Ctrl-I"
   },
   "labels_anchors": false,
   "latex_user_defs": false,
   "report_style_numbering": false,
   "user_envs_cfg": false
  },
  "varInspector": {
   "cols": {
    "lenName": 16,
    "lenType": 16,
    "lenVar": 40
   },
   "kernels_config": {
    "python": {
     "delete_cmd_postfix": "",
     "delete_cmd_prefix": "del ",
     "library": "var_list.py",
     "varRefreshCmd": "print(var_dic_list())"
    },
    "r": {
     "delete_cmd_postfix": ") ",
     "delete_cmd_prefix": "rm(",
     "library": "var_list.r",
     "varRefreshCmd": "cat(var_dic_list()) "
    }
   },
   "types_to_exclude": [
    "module",
    "function",
    "builtin_function_or_method",
    "instance",
    "_Feature"
   ],
   "window_display": false
  }
 },
 "nbformat": 4,
 "nbformat_minor": 2
}
