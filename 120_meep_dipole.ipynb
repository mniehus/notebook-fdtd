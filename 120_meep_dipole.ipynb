{
 "cells": [
  {
   "cell_type": "markdown",
   "metadata": {},
   "source": [
    "# MEEP Polvlnný dipól\n",
    "\n",
    "Polvlnný dipól je elemetárnym typom rezonančnej antény. Pre simulácia elektromagnetického poľa vyžarovaného dipólom zvolíme 2D simulačné prostredie o rozmere 200 x 200 uzlov. Dĺžku vlny $\\lambda$ zvolíme 100 uzlov, polvlnný dipól bude mať potom dĺžku 50 uzlov a bude orientovaný v smere osi Y. Kongigurácia dipólu a poloha zdroja sú zobrazené na obrázku.\n",
    "\n",
    "<img src=\"./img/dipol.png\" width=200px alt=\"Polvlnný dipól, rozmery a materiály\" scale=\"0.4\"/>\n",
    "\n",
    "Pre budenie použijeme zdroj so zložkou $E_Y$ elektromagnetického poľa, frekvencia harmonického signálu budiaceho dipól bude v normovanom prostredí ($c=1$) \n",
    "\n",
    "\\begin{equation*}\n",
    "f = \\frac{c}{\\lambda} = \\frac{1} {100} = 0.01\n",
    "\\end{equation*}\n",
    "\n",
    "Perióda harmonického signálu bude v normovaných časových jednotkách\n",
    "\n",
    "\\begin{equation*}\n",
    "T = \\frac{1}{f} = 100\n",
    "\\end{equation*}\n",
    "\n",
    "Materiálom dipólu je kov s $\\epsilon_r = -\\infty$, zdroj je umiestnený v strede v medzere medzi ramenami dipólu vo vodivom prostredí s $\\sigma_D = 0.05$"
   ]
  },
  {
   "cell_type": "code",
   "execution_count": null,
   "metadata": {},
   "outputs": [],
   "source": [
    "%reset -f \n",
    "%matplotlib inline\n",
    "import meep as mp \n",
    "import numpy as np\n",
    "import matplotlib.pyplot as plt\n",
    "\n",
    "f = 0.01                              # frekvencia zdroja\n",
    "area = mp.Vector3(200,200,0)          # simulacne prostredie\n",
    "\n",
    "dip = [mp.Block(mp.Vector3(1, 24),    # geometria dipolu\n",
    "        center=mp.Vector3(0,12),\n",
    "        material=mp.metal),\n",
    "\n",
    "        mp.Block(mp.Vector3(1, 24),\n",
    "        center=mp.Vector3(0,-12),\n",
    "        material=mp.metal),\n",
    "\n",
    "        mp.Block(mp.Vector3(1, 2),\n",
    "        center=mp.Vector3(0, 0),\n",
    "        material=mp.Medium( D_conductivity=0.05))\n",
    "        ]\n",
    "\n",
    "src = [mp.Source(mp.ContinuousSource(frequency=f),\n",
    "        component=mp.Ey,\n",
    "        center=mp.Vector3(0, 0,0)),    # zdroj\n",
    "        ]\n",
    "\n",
    "sim = mp.Simulation(cell_size=area, boundary_layers=[mp.PML(2.0)],\n",
    "                    geometry=dip, sources=src, resolution=2)\n",
    "\n",
    "sim.run(until=200)                     # simulacia cez 2*T"
   ]
  },
  {
   "cell_type": "markdown",
   "metadata": {},
   "source": [
    "Pre zobrazenie zložky elektrického a magnetického poľa a vyžiareného výkonu použijeme metódu *imshow()* z knižnice matplotlib."
   ]
  },
  {
   "cell_type": "code",
   "execution_count": null,
   "metadata": {},
   "outputs": [],
   "source": [
    "eps = sim.get_array(center=mp.Vector3(), size=area, component=mp.Dielectric)\n",
    "\n",
    "pw = sim.get_array(center=mp.Vector3(), size=area, component=mp.EnergyDensity)\n",
    "ey = sim.get_array(center=mp.Vector3(), size=area, component=mp.Ey)\n",
    "hz = sim.get_array(center=mp.Vector3(), size=area, component=mp.Hz)\n",
    "\n",
    "fig = plt.figure(dpi=100, figsize=(16,8))\n",
    "ax = fig.add_subplot(131)\n",
    "ax.imshow(ey.transpose(), interpolation='spline36', cmap='bwr', alpha=1.0,norm=plt.Normalize(-0.05, 0.05))\n",
    "ax.contour(ey.transpose(), levels=[-0.02, -0.01, 0.0, 0.01, 0.02], colors=\"k\", alpha=0.2)\n",
    "ax.imshow(eps.transpose(), interpolation='spline36', cmap='gray', alpha=0.2)\n",
    "ax.grid()\n",
    "ax.set_title('Ey')\n",
    "\n",
    "ax = fig.add_subplot(132)\n",
    "ax.imshow(hz.transpose(), interpolation='spline36', cmap='BrBG', alpha=1.0, norm=plt.Normalize(-0.07, 0.07))\n",
    "ax.imshow(eps.transpose(), interpolation='spline36', cmap='gray', alpha=0.2)\n",
    "ax.contour(hz.transpose(), levels=[-0.05, -0.03, 0.0, 0.03, 0.05], colors=\"k\", alpha=0.2)\n",
    "ax.set_title('Hz')\n",
    "ax.grid()\n",
    "\n",
    "ax = fig.add_subplot(133)\n",
    "ax.imshow(pw.transpose(), interpolation='spline36', cmap='OrRd', alpha=1.0,norm=plt.Normalize(-0.000, 0.004))\n",
    "ax.imshow(eps.transpose(), interpolation='spline36', cmap='gray', alpha=0.2)\n",
    "plt.contour(pw.transpose(), levels=[0.0005, 0.001, 0.002], colors=\"k\", alpha=0.2)\n",
    "ax.grid()\n",
    "ax.set_title('Power')\n",
    "plt.show()"
   ]
  }
 ],
 "metadata": {
  "kernelspec": {
   "display_name": "Python 3",
   "language": "python",
   "name": "python3"
  },
  "language_info": {
   "codemirror_mode": {
    "name": "ipython",
    "version": 3
   },
   "file_extension": ".py",
   "mimetype": "text/x-python",
   "name": "python",
   "nbconvert_exporter": "python",
   "pygments_lexer": "ipython3",
   "version": "3.6.7"
  },
  "latex_envs": {
   "LaTeX_envs_menu_present": true,
   "autoclose": false,
   "autocomplete": true,
   "bibliofile": "biblio.bib",
   "cite_by": "apalike",
   "current_citInitial": 1,
   "eqLabelWithNumbers": true,
   "eqNumInitial": 1,
   "hotkeys": {
    "equation": "Ctrl-E",
    "itemize": "Ctrl-I"
   },
   "labels_anchors": false,
   "latex_user_defs": false,
   "report_style_numbering": false,
   "user_envs_cfg": false
  },
  "varInspector": {
   "cols": {
    "lenName": 16,
    "lenType": 16,
    "lenVar": 40
   },
   "kernels_config": {
    "python": {
     "delete_cmd_postfix": "",
     "delete_cmd_prefix": "del ",
     "library": "var_list.py",
     "varRefreshCmd": "print(var_dic_list())"
    },
    "r": {
     "delete_cmd_postfix": ") ",
     "delete_cmd_prefix": "rm(",
     "library": "var_list.r",
     "varRefreshCmd": "cat(var_dic_list()) "
    }
   },
   "types_to_exclude": [
    "module",
    "function",
    "builtin_function_or_method",
    "instance",
    "_Feature"
   ],
   "window_display": false
  }
 },
 "nbformat": 4,
 "nbformat_minor": 2
}
