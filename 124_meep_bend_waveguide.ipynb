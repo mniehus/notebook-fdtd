{
 "cells": [
  {
   "cell_type": "code",
   "execution_count": 1,
   "metadata": {},
   "outputs": [
    {
     "name": "stdout",
     "output_type": "stream",
     "text": [
      "Using MPI version 3.1, 1 processes\n",
      "-----------\n",
      "Initializing structure...\n",
      "Meep progress: 196.60000000000002/200.0 = 98.3% done in 4.0s, 0.1s to go\n",
      "run 0 finished at t = 200.0 (4000 timesteps)\n"
     ]
    }
   ],
   "source": [
    "%reset -f \n",
    "%matplotlib inline\n",
    "import meep as mp\n",
    "\n",
    "cell = mp.Vector3(16,16,0)\n",
    "geometry = [mp.Block(mp.Vector3(12,1,mp.inf),\n",
    "                     center=mp.Vector3(-2.5,-3.5),\n",
    "                     material=mp.Medium(epsilon=12)),\n",
    "            mp.Block(mp.Vector3(1,12,mp.inf),\n",
    "                     center=mp.Vector3(3.5,2),\n",
    "                     material=mp.Medium(epsilon=12))]\n",
    "pml_layers = [mp.PML(1.0)]\n",
    "resolution = 10\n",
    "\n",
    "sources = [mp.Source(mp.ContinuousSource(wavelength=2*(11**0.5), width=20),\n",
    "                     component=mp.Ez,\n",
    "                     center=mp.Vector3(-7,-3.5),\n",
    "                     size=mp.Vector3(0,1))]\n",
    "\n",
    "sim = mp.Simulation(cell_size=cell,\n",
    "                    boundary_layers=pml_layers,\n",
    "                    geometry=geometry,\n",
    "                    sources=sources,\n",
    "                    resolution=resolution)\n",
    "\n",
    "sim.run(mp.at_beginning(mp.output_epsilon),\n",
    "        mp.to_appended(\"ez\", mp.at_every(0.6, mp.output_efield_z)),\n",
    "until=200)"
   ]
  }
 ],
 "metadata": {
  "kernelspec": {
   "display_name": "Python 3",
   "language": "python",
   "name": "python3"
  },
  "language_info": {
   "codemirror_mode": {
    "name": "ipython",
    "version": 3
   },
   "file_extension": ".py",
   "mimetype": "text/x-python",
   "name": "python",
   "nbconvert_exporter": "python",
   "pygments_lexer": "ipython3",
   "version": "3.5.2"
  },
  "latex_envs": {
   "LaTeX_envs_menu_present": true,
   "autoclose": false,
   "autocomplete": true,
   "bibliofile": "biblio.bib",
   "cite_by": "apalike",
   "current_citInitial": 1,
   "eqLabelWithNumbers": true,
   "eqNumInitial": 1,
   "hotkeys": {
    "equation": "Ctrl-E",
    "itemize": "Ctrl-I"
   },
   "labels_anchors": false,
   "latex_user_defs": false,
   "report_style_numbering": false,
   "user_envs_cfg": false
  },
  "varInspector": {
   "cols": {
    "lenName": 16,
    "lenType": 16,
    "lenVar": 40
   },
   "kernels_config": {
    "python": {
     "delete_cmd_postfix": "",
     "delete_cmd_prefix": "del ",
     "library": "var_list.py",
     "varRefreshCmd": "print(var_dic_list())"
    },
    "r": {
     "delete_cmd_postfix": ") ",
     "delete_cmd_prefix": "rm(",
     "library": "var_list.r",
     "varRefreshCmd": "cat(var_dic_list()) "
    }
   },
   "types_to_exclude": [
    "module",
    "function",
    "builtin_function_or_method",
    "instance",
    "_Feature"
   ],
   "window_display": false
  }
 },
 "nbformat": 4,
 "nbformat_minor": 2
}
