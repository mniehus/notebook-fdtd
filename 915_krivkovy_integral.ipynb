{
 "cells": [
  {
   "cell_type": "markdown",
   "metadata": {},
   "source": [
    "# Krivkový integrál \n",
    "\n",
    "Odvodenie vzťahov pre výpočet krivkového integrálu v skalárnom a vektorovom poli. \n",
    "\n",
    "## Krivkový integrál v skalárnom poli\n",
    "\n",
    "Všeobecný krivkový integrál v skalárnom poli v karteziánskej súradnicovej sústave je definovaný ako\n",
    "\n",
    "\\begin{equation}\n",
    "M = \\int\\limits_{C} f(x,y, z) \\, ds\n",
    "\\end{equation}\n",
    "\n",
    "Pri integrácii sa posúvame pozdĺž krivky $C$ po elementoch $ds$, výsledkom integrácie je skalárna hodnota. Analytické odvodenie vzťahov pre krivkový integrál závisí od formy definície integračnej krivky."
   ]
  },
  {
   "cell_type": "markdown",
   "metadata": {},
   "source": [
    "### Krivka definovaná funkčnou závislosťou\n",
    "\n",
    "Dĺžka krivky $y=h(x)$ v karteziánskych súradniciach je určená vzťahom\n",
    "\n",
    "\\begin{equation*}\n",
    "L = \\int\\limits_a^b \\sqrt{ 1 + \\left(\\frac{dy}{dx} \\right)^2 } dx, \\,\\,\\,\\,  a \\leq x \\leq b \n",
    "\\end{equation*}\n",
    "\n",
    "Krivkový integrál v skalárnom poli $f(x,y)$ vypočítame ako integrál hodnôt poľa pozdĺž tejto krivky  \n",
    "\n",
    "\\begin{equation*}\n",
    "C = \\int\\limits_a^b f(x, h(x)) \\, \\sqrt{ 1 + \\left(\\frac{d \\, h(x)}{dx} \\right)^2 } dx\n",
    "\\end{equation*}\n",
    "\n",
    "### Krivka definovaná parametricky\n",
    "\n",
    "Vyššie uvedený postup sa obmedzuje na krivky definované funkčnou závislosťou. Všeobecnejší postup získame použitím krivky v parametrickom tvare\n",
    "\n",
    "\\begin{equation*}\n",
    "x = u(t) \\\\\n",
    "y = v(t)\n",
    "\\end{equation*}\n",
    "\n",
    "dĺžka krivky zadanej parametricky je daná ako\n",
    "\n",
    "\\begin{equation*}\n",
    "L = \\int\\limits_c^d \\sqrt{ \\left(\\frac{dx}{dt} \\right)^2 + \\left(\\frac{dy}{dt} \\right)^2 } dt, \\,\\,\\,\\,  c \\leq t \\leq d \n",
    "\\end{equation*}\n",
    "\n",
    "a parametrický krivkový integrál je potom definovaný ako\n",
    "\n",
    "\\begin{equation*}\n",
    "C = \\int\\limits_c^d f( u(t), v(t)) \\, \\sqrt{ \\left(\\frac{d \\, u(t)}{dt} \\right)^2 + \\left(\\frac{d \\, v(t)}{dt} \\right)^2 } dt \n",
    "\\end{equation*}\n",
    "\n",
    "### Symbolický výpočet\n",
    "\n",
    "V nasledujúcom fragmente kódu spočítame krivkový integrál poľa $f(x,y)$ definovaného ako\n",
    "\n",
    "\\begin{equation*}\n",
    "f(x,y) = x^2 + \\frac{y^3}{2}\n",
    "\\end{equation*}\n",
    "\n",
    "Krivka je zadaná parametrickými rovnicami\n",
    "\n",
    "\\begin{equation*}\n",
    "x = \\cos(t) + 0.5 \\\\\n",
    "y = \\sin(t) + 0.5\n",
    "\\end{equation*}\n",
    "\n",
    "pre rozsah parametra $t \\in <0, \\pi>$ "
   ]
  },
  {
   "cell_type": "code",
   "execution_count": 1,
   "metadata": {},
   "outputs": [
    {
     "data": {
      "text/latex": [
       "$C=1.41666666666667 + 1.1875 \\pi$"
      ],
      "text/plain": [
       "<IPython.core.display.Latex object>"
      ]
     },
     "metadata": {},
     "output_type": "display_data"
    },
    {
     "data": {
      "text/latex": [
       "$C=5.147$"
      ],
      "text/plain": [
       "<IPython.core.display.Latex object>"
      ]
     },
     "metadata": {},
     "output_type": "display_data"
    }
   ],
   "source": [
    "%reset -sf \n",
    "from utils.utils import *\n",
    "from sympy import *\n",
    "\n",
    "x, y, t = symbols(\"x y t\")            # symbolicke premenne\n",
    "f = (x**2 + y**3/2)                   # skalarne pole f(x,y)\n",
    "\n",
    "u = cos(t) + 0.5                      # parametricka krivka\n",
    "v = sin(t) + 0.5             \n",
    "\n",
    "fp = f.subs([(x, u), (y, v)])         # substitucia\n",
    "ds = sqrt(u.diff(t)**2 + v.diff(t)**2) \n",
    "c = integrate(fp*ds, (t, 0, pi) )      \n",
    "\n",
    "ltxprint('C',c)\n",
    "ltxprint('C',c.evalf(4))"
   ]
  },
  {
   "cell_type": "markdown",
   "metadata": {},
   "source": [
    "### Numerický výpočet \n",
    "\n",
    "Rovnaký príklad spočítame s využitím knižnice *numpy* "
   ]
  },
  {
   "cell_type": "code",
   "execution_count": 4,
   "metadata": {},
   "outputs": [
    {
     "name": "stdout",
     "output_type": "stream",
     "text": [
      "C =  5.148435221324967\n"
     ]
    }
   ],
   "source": [
    "%reset -sf \n",
    "from numpy import *\n",
    "\n",
    "dx = linspace(-1.0, 1.0, 30)      # rozsahy suradnic   \n",
    "dy = linspace(-1.0, 1.0, 30)      \n",
    "x,y = meshgrid(dx, dy)            # polia suradnic (xi, yi) ...\n",
    "                 \n",
    "def f(x,y):                       # defincia funkcie\n",
    "    return (x**2 + y**3/2) \n",
    "\n",
    "c = 0\n",
    "ds = 0.001\n",
    "for p in arange(0, pi, ds):\n",
    "    px = cos(p) +.5\n",
    "    py = sin(p) +.5\n",
    "    c = c + f(px,py) * ds\n",
    "    \n",
    "print('C = ', c)"
   ]
  },
  {
   "cell_type": "markdown",
   "metadata": {},
   "source": [
    "Presnejší výsledok dostaneme integrácia s využitím optimalizovaných funkcií pre integráciu, ako je napr. funkcia *quad* z balíka *scipy*."
   ]
  },
  {
   "cell_type": "code",
   "execution_count": 5,
   "metadata": {},
   "outputs": [
    {
     "name": "stdout",
     "output_type": "stream",
     "text": [
      "C =  5.147307942804547\n"
     ]
    }
   ],
   "source": [
    "from scipy.integrate import quad\n",
    "    \n",
    "def integrand(t):\n",
    "    px = cos(t) +.5\n",
    "    py = sin(t) +.5\n",
    "    return f(px,py)    \n",
    "    \n",
    "C, err = quad(integrand, 0, pi)\n",
    "\n",
    "print('C = ', C)"
   ]
  },
  {
   "cell_type": "markdown",
   "metadata": {},
   "source": [
    "## Krivkový integrál vo vektorovom poli\n",
    "\n",
    "Krivkový integrál v 2D vektorovom poli je definovaný ako skalárny súčin, formálne platí\n",
    "\n",
    "\\begin{equation}\n",
    "M = \\int\\limits_{C} \\mathbf{F} .\\, d\\mathbf{r} = \\int\\limits_C \\left( \\mathbf{i} \\, F_x  + \\mathbf{j} \\, F_y \\right) . \\left( \\mathbf{i} \\, dx  + \\mathbf{j} \\,dy  \\right) =  \\int\\limits_{C_x} F_x \\, dx + \\int\\limits_{C_y} F_y \\, dy \n",
    "\\end{equation}\n",
    "\n",
    "Rozdiel medzi krivkovým integrálom v skalárnom a vektorovom polie je v tom, že pri skalárnom poli integrujeme hodnoty pola pozdĺž elementov krivky, vo vektorovom integrujeme hodnoty zložiek vektora pozdĺž zložiek elementov krivky. Je zrejmé, že výpočet integrálu sa redukuje na integráciu pre jednotlivé zložky poľa, výsledkom krivkového integrálu vo vektorom poli je potom  skalárna veličina. "
   ]
  },
  {
   "cell_type": "markdown",
   "metadata": {},
   "source": [
    "Z praktického hľadiska je lepšie pracovať s parametrickým vyjadrením integračných kriviek, \n",
    "\n",
    "\\begin{equation*}\n",
    "x = u(t) = u, \\,\\,\\,\\,\\,\\,\\, u' = \\frac{d u(t)}{dt} \\\\\n",
    "y = v(t) = v, \\,\\,\\,\\,\\,\\,\\, v' = \\frac{d v(t)}{dt}\n",
    "\\end{equation*}\n",
    "\n",
    "substitúciou dostaneme\n",
    "\n",
    "\\begin{equation}\n",
    "M = \\int\\limits_{C} \\mathbf{F} .\\, d\\mathbf{r} = \\int\\limits_C \\left( \\mathbf{i} \\, F_x(u, v)  + \\mathbf{j} \\, F_y(u, v) \\right) . \\left( \\mathbf{i} \\, u'  + \\mathbf{j} \\,v'  \\right) dt \n",
    "\\end{equation}\n",
    "\n"
   ]
  }
 ],
 "metadata": {
  "kernelspec": {
   "display_name": "Python 3",
   "language": "python",
   "name": "python3"
  },
  "language_info": {
   "codemirror_mode": {
    "name": "ipython",
    "version": 3
   },
   "file_extension": ".py",
   "mimetype": "text/x-python",
   "name": "python",
   "nbconvert_exporter": "python",
   "pygments_lexer": "ipython3",
   "version": "3.6.8"
  },
  "latex_envs": {
   "LaTeX_envs_menu_present": true,
   "autoclose": false,
   "autocomplete": true,
   "bibliofile": "biblio.bib",
   "cite_by": "apalike",
   "current_citInitial": 1,
   "eqLabelWithNumbers": true,
   "eqNumInitial": 1,
   "hotkeys": {
    "equation": "Ctrl-E",
    "itemize": "Ctrl-I"
   },
   "labels_anchors": false,
   "latex_user_defs": false,
   "report_style_numbering": false,
   "user_envs_cfg": false
  },
  "varInspector": {
   "cols": {
    "lenName": 16,
    "lenType": 16,
    "lenVar": 40
   },
   "kernels_config": {
    "python": {
     "delete_cmd_postfix": "",
     "delete_cmd_prefix": "del ",
     "library": "var_list.py",
     "varRefreshCmd": "print(var_dic_list())"
    },
    "r": {
     "delete_cmd_postfix": ") ",
     "delete_cmd_prefix": "rm(",
     "library": "var_list.r",
     "varRefreshCmd": "cat(var_dic_list()) "
    }
   },
   "types_to_exclude": [
    "module",
    "function",
    "builtin_function_or_method",
    "instance",
    "_Feature"
   ],
   "window_display": false
  }
 },
 "nbformat": 4,
 "nbformat_minor": 2
}
