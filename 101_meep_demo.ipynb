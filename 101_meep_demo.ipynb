{
 "cells": [
  {
   "cell_type": "markdown",
   "metadata": {},
   "source": [
    "# MEEP - Simulácia v 1D\n",
    "\n",
    "Princíp simulácie šírenia sa elektromagnetickej vlny v prostredí pomocou simulátora *meep* ukážeme na jednoduchom príklade. Jednotlivé časti API simulátora budú podrobnejšie rozobrané v nasledujúcich kapitolách.\n",
    "\n",
    "## Simulácia odrazu elektromagnetickej vlny od ideálne vodivej prekážky.\n",
    "\n",
    "Prostredie je tvorené lineárnou postupnosťou uzlov reprezentujúcich oblasť simulácie v smere osi Z, na krajoch je ohraničené ideálnym absorbérom PML, vo vnútri oblasti sa na jednom konci nachádza generátor impulzu so zložkou $E_x$ a na druhom dokonalý kovový vodič M s $\\epsilon_r = \\infty$. Uzly prostredia označené V reprezentujú ideálne vákuum.\n",
    "\n",
    "<img src=\"./img/obr_1d_config.png\" width=350 alt=\"Konfigurácia jednorozmerného simulačného prostredia\" scale=\"0.7\">\n",
    "\n",
    "\n",
    "### Inicializácia simulátora"
   ]
  },
  {
   "cell_type": "code",
   "execution_count": 1,
   "metadata": {},
   "outputs": [
    {
     "name": "stdout",
     "output_type": "stream",
     "text": [
      "Using MPI version 3.0, 1 processes\n"
     ]
    }
   ],
   "source": [
    "%reset -f \n",
    "%matplotlib inline\n",
    "\n",
    "import meep as mp\n",
    "import pylab as plt\n",
    "from scipy import *"
   ]
  },
  {
   "cell_type": "markdown",
   "metadata": {},
   "source": [
    "### Definícia oblasti simulácie\n",
    "\n",
    "Definícia oblasti simulácie pozostáva z definovania rozmerov simulačnej oblasti a vytvorenia zoznamu objektov  oblasti. Objekty presahujúce rozmery sú ignorované. Okolo simulovanej oblasti (z vnútornej strany) je možné vytvoriť ideálny absorbér s definovanou hrúbkou."
   ]
  },
  {
   "cell_type": "code",
   "execution_count": 2,
   "metadata": {},
   "outputs": [],
   "source": [
    "size = 200                        # pocet buniek v simulacii\n",
    "res = 20                          # rozlisenie - rozdelenie buniek \n",
    "\n",
    "area = mp.Vector3(0, 0, size)     # definovanie rozmerov oblasti simulacie (1D) \n",
    "                                  # v smere osi Z\n",
    "\n",
    "geometry = [                      # definicia vlastnosti prostredia pomocou 1D blokov\n",
    "    mp.Block(mp.Vector3(0,0,size-2), center=mp.Vector3(0,0,0),          material=mp.vacuum),\n",
    "    mp.Block(mp.Vector3(0,0,1),      center=mp.Vector3(0,0,size/2-1.5), material=mp.metal) \n",
    "  ]\n",
    "\n",
    "pml_layers = mp.PML(1.0)          # idealny obsorber okolo oblasti simulacie"
   ]
  },
  {
   "cell_type": "markdown",
   "metadata": {},
   "source": [
    "### Vytvorenie a definícia zdrojov\n",
    "\n",
    "Okrem sady preddefinovaných typov zdrojov je možné v *meep* definovať aj zdroje vlastné, v našom prípade zdroj generujúci impulz posunutý v čase on $t_0$ v tvare Gaussovej krivky o šírke $w$.\n",
    "\n",
    "\\begin{equation}\n",
    "s(t) = exp \\, ( {-\\frac{(t - t_0)^2} {w} } )\n",
    "\\end{equation}\n",
    "\n",
    "Zdrojov môže byť v simulovanom prostredí niekoľko, v definícii určíme polohu zdroja, zložku elektromagnetickej vlny a amplitúdu. Zdroje zaraddíme do zoznamu, ktorý sa odovzdá v parametroch objektu simulácie."
   ]
  },
  {
   "cell_type": "code",
   "execution_count": 3,
   "metadata": {},
   "outputs": [],
   "source": [
    "def pulse(t):\n",
    "    return -2*exp(-(t -20.)**2 / 20.0)\n",
    "\n",
    "sources = [mp.Source(mp.CustomSource(src_func=pulse), component=mp.Ex,\n",
    "                     center=mp.Vector3(0, 0, -size/2 + 1),  \n",
    "                     amplitude=1.0)\n",
    "          ]"
   ]
  },
  {
   "cell_type": "markdown",
   "metadata": {},
   "source": [
    "### Vytvorenie objektu simulácie\n",
    "\n",
    "Rozmery simulačnej oblasti, zoznam objektov v oblasti a zdrojov odovzdáme ako parametre triede *Simulation*."
   ]
  },
  {
   "cell_type": "code",
   "execution_count": 4,
   "metadata": {},
   "outputs": [],
   "source": [
    "sim = mp.Simulation(               # vytvorenie objektu simulacie s parametrami\n",
    "    cell_size=area,                \n",
    "    geometry=geometry,\n",
    "    sources=sources,\n",
    "    boundary_layers=[pml_layers],\n",
    "    resolution=res,\n",
    "    dimensions=1)"
   ]
  },
  {
   "cell_type": "markdown",
   "metadata": {},
   "source": [
    "### Simulácia šírenia sa impulzu\n",
    "\n",
    "Simuláciu môžeme spustiť pomocou metódy *run* s argumentom určujúcim dobu simulácie."
   ]
  },
  {
   "cell_type": "code",
   "execution_count": 5,
   "metadata": {},
   "outputs": [
    {
     "name": "stdout",
     "output_type": "stream",
     "text": [
      "-----------\n",
      "Initializing structure...\n",
      "run 0 finished at t = 70.0 (2800 timesteps)\n"
     ]
    }
   ],
   "source": [
    "sim.run(until=70)     # doba simulacie 200 krokov, impul je oneskoreny 20 jednotiek\n",
    "data_1 = sim.get_efield_x()"
   ]
  },
  {
   "cell_type": "code",
   "execution_count": 6,
   "metadata": {},
   "outputs": [
    {
     "name": "stdout",
     "output_type": "stream",
     "text": [
      "run 1 finished at t = 270.0 (10800 timesteps)\n"
     ]
    }
   ],
   "source": [
    "sim.run(until=200)     # pokracovanie simulacie o dalsich 200 krokov\n",
    "data_2 = sim.get_efield_x()"
   ]
  },
  {
   "cell_type": "markdown",
   "metadata": {},
   "source": [
    "## Vizualizácia výsledkov"
   ]
  },
  {
   "cell_type": "code",
   "execution_count": 7,
   "metadata": {},
   "outputs": [
    {
     "data": {
      "image/png": "[encoded data removed]",
      "text/plain": [
       "<Figure size 432x288 with 1 Axes>"
      ]
     },
     "metadata": {},
     "output_type": "display_data"
    }
   ],
   "source": [
    "x = arange(len(data_1))/res\n",
    "\n",
    "plt.plot(x, real(data_1), label='t=70')  # impulz v case 70 jednotiek, poloha 52 - zdroj je na pozicii [1]\n",
    "plt.plot(x, real(data_2), label='t=270')  # impulz v case 270, poloha 158 - dlzka oblasti je 200 - 4 \n",
    "plt.grid()\n",
    "plt.legend()\n",
    "plt.show()"
   ]
  },
  {
   "cell_type": "code",
   "execution_count": 8,
   "metadata": {},
   "outputs": [
    {
     "data": {
      "image/png": "[encoded data removed]",
      "text/plain": [
       "<Figure size 432x288 with 1 Axes>"
      ]
     },
     "metadata": {},
     "output_type": "display_data"
    }
   ],
   "source": [
    "from IPython.utils import io\n",
    "\n",
    "sim.reset_meep()                    # restart simulacie\n",
    "\n",
    "fig = plt.figure() #figsize=(10, 7), facecolor='r')\n",
    "ax = fig.add_subplot(111)\n",
    "\n",
    "for i in range(20):\n",
    "    with io.capture_output() as captured:\n",
    "        sim.run(until=20);     # pokracovanie simulacie o dalsich 200 krokov\n",
    "    data = real(sim.get_efield_x()) * 15\n",
    "    ax.plot(data +i*20, 'b', lw=1) \n",
    "plt.show()"
   ]
  }
 ],
 "metadata": {
  "kernelspec": {
   "display_name": "Python 3",
   "language": "python",
   "name": "python3"
  },
  "language_info": {
   "codemirror_mode": {
    "name": "ipython",
    "version": 3
   },
   "file_extension": ".py",
   "mimetype": "text/x-python",
   "name": "python",
   "nbconvert_exporter": "python",
   "pygments_lexer": "ipython3",
   "version": "3.6.7"
  },
  "latex_envs": {
   "LaTeX_envs_menu_present": true,
   "autoclose": false,
   "autocomplete": true,
   "bibliofile": "biblio.bib",
   "cite_by": "apalike",
   "current_citInitial": 1,
   "eqLabelWithNumbers": true,
   "eqNumInitial": 1,
   "hotkeys": {
    "equation": "Ctrl-E",
    "itemize": "Ctrl-I"
   },
   "labels_anchors": false,
   "latex_user_defs": false,
   "report_style_numbering": false,
   "user_envs_cfg": false
  },
  "varInspector": {
   "cols": {
    "lenName": 16,
    "lenType": 16,
    "lenVar": 40
   },
   "kernels_config": {
    "python": {
     "delete_cmd_postfix": "",
     "delete_cmd_prefix": "del ",
     "library": "var_list.py",
     "varRefreshCmd": "print(var_dic_list())"
    },
    "r": {
     "delete_cmd_postfix": ") ",
     "delete_cmd_prefix": "rm(",
     "library": "var_list.r",
     "varRefreshCmd": "cat(var_dic_list()) "
    }
   },
   "types_to_exclude": [
    "module",
    "function",
    "builtin_function_or_method",
    "instance",
    "_Feature"
   ],
   "window_display": false
  }
 },
 "nbformat": 4,
 "nbformat_minor": 2
}
