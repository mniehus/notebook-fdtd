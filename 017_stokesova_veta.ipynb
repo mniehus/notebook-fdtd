{
 "cells": [
  {
   "cell_type": "markdown",
   "metadata": {},
   "source": [
    "# Stokesova veta\n",
    "\n",
    "Stokesova veta dáva do súvisu integrál po uzatvorenej krivke $C$ vo vektorovom poli $\\mathbf{F}$ s integrálom rotácie poľa cez plochu, ktorá je touto krivkou ohraničená\n",
    "\n",
    "\\begin{equation}\n",
    "\\oint\\limits_C \\mathbf{F}\\cdot\\mathrm{d}\\mathbf{l} = \\int\\limits_S \\left({\\nabla \\times \\mathbf{F}}\\right) \\cdot \\mathrm{d}\\mathbf{s} \n",
    "\\end{equation}\n",
    "\n",
    "Stokesova veta v 2D priestore sa nazýva **Greenova veta**.\n"
   ]
  },
  {
   "cell_type": "markdown",
   "metadata": {},
   "source": [
    "## Odvodenie Stokesovej vety pre 2D prípad\n",
    "\n",
    "Predpokladajme, že vo vektorovom poli $\\mathbf{F}$ sa nachádza krivkou $C$ ohraničená plocha $S$, ktorú rozdelíme na veľa malých plošiek $ABCD$ o rozmeroch $dx \\times dy$. \n",
    "\n",
    "\n",
    "<!--\n",
    "<img src=\"./img/stokes_10.png\" width=50% >\n",
    "-->\n",
    "\\begin{figure}\n",
    "\\centerline{\\includegraphics[width=8cm]{./img/stokes_10.png}}\n",
    "\\caption{\\label{fig:example}Rozklad plochy na elementárne plôšky}\n",
    "\\end{figure}\n",
    "\n",
    "\n",
    "Vektorové pole $\\mathbf{F}$ môžeme formálne v strede plošky, ktorá sa nachádza na pozícii $(x,y)$ rozpísať ako superpozíciu dvoch kolmých zložiek poľa \n",
    "\n",
    "\\begin{equation*}\n",
    "\\mathbf{F} = \\mathbf{i} \\, F_x   +  \\mathbf{j} \\, F_y   = \\mathbf{i} \\, u(x,y)  + \\mathbf{j} \\, v(x,y)  \n",
    "\\end{equation*}\n",
    "\n",
    "Pre spehľadnenie zápisu zaveďme zjednodušené označenie\n",
    "\n",
    "\\begin{equation*}\n",
    "u  =  u(x,y) \\\\\n",
    "v  =  v(x,y)\n",
    "\\end{equation*}\n",
    "\n",
    "<!---\n",
    "<img src=\"./img/stokes_02.png\" width=500 >\n",
    "-->\n",
    "\n",
    "\n",
    "\\begin{figure}\n",
    "\\centerline{\\includegraphics[width=8cm]{./img/stokes_02.png}}\n",
    "\\caption{\\label{fig:example}Vektorové pole na ploche}\n",
    "\\end{figure}\n"
   ]
  },
  {
   "cell_type": "markdown",
   "metadata": {},
   "source": [
    "Zaujíma nás hodnota toku poľa pozdĺž krivky, ktorou je plôška ohraničená - v našom prípade štvorec. Výraz môžeme rozdeliť na samostatné časti pre jednotlivé strany plošky\n",
    "\n",
    "\\begin{align*}\n",
    "\\mathbf{F} \\, d \\, \\mathbf{l}  &=\n",
    "u \\, (x, y - \\frac{dy}{2}) \\,dx\n",
    "+  v \\, (x + \\frac{dx}{2}) \\,dy\n",
    "\\\\ &-  u \\, (x, y + \\frac{dy}{2}) \\,dx\n",
    "-  \\, (x - \\frac{dx}{2}) \\,dy\n",
    "\\end{align*}\n",
    "\n",
    "Pri rozklade sme využili smer integrácia a kolmosť medzi zložkami poľa a orientovaným dĺžkovým elementom, v skalárnom súčine sa uplatnia len paralelné zložky  \n",
    "\\begin{equation*}\n",
    "\\mathbf{F}(x,y) \\, d \\, \\mathbf{l} = \\big( \\mathbf{i} \\, u(x,y)  + \\mathbf{j} \\, v(x,y)  \\big) \\cdot \\big( \\mathbf{i} \\, d x   + \\mathbf{j} \\,d y \\big)\n",
    "\\end{equation*}\n",
    "\n",
    "Približnú hodnotu zložky poľa v strede hrany plošky získame rozvojom do Taylorovho radu, pre hranu $AB$\n",
    "\n",
    "\\begin{equation*}\n",
    "u(x, y-\\frac{d y}{2}) \\approx u(x,y) - \\frac{\\partial u(x,y)} {\\partial y} \\frac{d y}{2} = u - \\frac{\\partial u} {\\partial y} \\frac{d y}{2}\n",
    "\\end{equation*}\n",
    "\n",
    "podobne aj pre ostatné hrany plošky.\n"
   ]
  },
  {
   "cell_type": "markdown",
   "metadata": {},
   "source": [
    "Dosadením a úpravou dostaneme\n",
    "\n",
    "\\begin{align*}\n",
    "\\mathbf{F} \\, d \\, \\mathbf{l}  &=\n",
    "\\big( u - \\frac{\\partial u} {\\partial y} \\frac{d y}{2} \\big) \\,dx\n",
    "+  \\big( v + \\frac{\\partial v} {\\partial x} \\frac{d x}{2} \\big) \\,dy\n",
    "\\\\ &-  \\big( u + \\frac{\\partial u} {\\partial y} \\frac{d y}{2} \\big) \\,dx\n",
    "- \\big( v - \\frac{\\partial v} {\\partial x} \\frac{d x}{2} \\big) \\,dy\n",
    "\\\\&=  \\big( - \\frac{\\partial u} {\\partial y} + \\frac{\\partial v} {\\partial x} \\big) \\, d x \\, d y\n",
    "\\end{align*}\n"
   ]
  },
  {
   "cell_type": "markdown",
   "metadata": {},
   "source": [
    "**TODO - Obrazok**\n",
    "\n",
    "Výraz $d x \\, d y$ zodpovedá ploche elemetárnej plošky $ds$. Ak teraz 'vytapetujeme' ploškami celú plochu $S$, hodnoty toku na hranách susedných plošiek sa vyrušia a zostanú len hodnoty na vonkajšom obvode plochy, čo môžeme zapísať ako\n",
    "\n",
    "\\begin{equation*}\n",
    "\\oint\\limits_C \\mathbf{F} \\, d \\, \\mathbf{l}  =  \\int\\limits_C F_x \\, dx + F_y \\, dy  = \\int\\limits_S \\big( -\\frac{\\partial Fx}{\\partial y} + \\frac{\\partial Fy}{\\partial x} \\big) \\, ds\n",
    "\\end{equation*}\n",
    "\n",
    "Prehodením znamienka pri $F_x$ a úpravou dostaneme známy tvar **Greenovej vety**\n",
    "\n",
    "\\begin{equation}\n",
    "\\int\\limits_C F_y \\, dy  - F_x \\, dx = \\int\\limits_S \\big( \\frac{\\partial Fx}{\\partial y} + \\frac{\\partial Fy}{\\partial x} \\big) \\, ds\n",
    "\\end{equation}\n",
    "\n"
   ]
  }
 ],
 "metadata": {
  "kernelspec": {
   "display_name": "Python 3",
   "language": "python",
   "name": "python3"
  },
  "language_info": {
   "codemirror_mode": {
    "name": "ipython",
    "version": 3
   },
   "file_extension": ".py",
   "mimetype": "text/x-python",
   "name": "python",
   "nbconvert_exporter": "python",
   "pygments_lexer": "ipython3",
   "version": "3.6.7"
  },
  "latex_envs": {
   "LaTeX_envs_menu_present": true,
   "autoclose": false,
   "autocomplete": true,
   "bibliofile": "biblio.bib",
   "cite_by": "apalike",
   "current_citInitial": 1,
   "eqLabelWithNumbers": true,
   "eqNumInitial": 1,
   "hotkeys": {
    "equation": "Ctrl-E",
    "itemize": "Ctrl-I"
   },
   "labels_anchors": false,
   "latex_user_defs": false,
   "report_style_numbering": false,
   "user_envs_cfg": false
  },
  "varInspector": {
   "cols": {
    "lenName": 16,
    "lenType": 16,
    "lenVar": 40
   },
   "kernels_config": {
    "python": {
     "delete_cmd_postfix": "",
     "delete_cmd_prefix": "del ",
     "library": "var_list.py",
     "varRefreshCmd": "print(var_dic_list())"
    },
    "r": {
     "delete_cmd_postfix": ") ",
     "delete_cmd_prefix": "rm(",
     "library": "var_list.r",
     "varRefreshCmd": "cat(var_dic_list()) "
    }
   },
   "types_to_exclude": [
    "module",
    "function",
    "builtin_function_or_method",
    "instance",
    "_Feature"
   ],
   "window_display": false
  }
 },
 "nbformat": 4,
 "nbformat_minor": 2
}
