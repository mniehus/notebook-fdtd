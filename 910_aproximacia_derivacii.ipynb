{
 "cells": [
  {
   "cell_type": "markdown",
   "metadata": {},
   "source": [
    "# Aproximácie derivácií\n",
    "\n",
    "Odvodenie vzťahov pre numerické aproximácie derivácií pomocou konečných diferencií."
   ]
  },
  {
   "cell_type": "markdown",
   "metadata": {},
   "source": [
    "### Aproximácia prvej derivácie\n",
    "\n",
    "Aproximáciu prvej derivácie funkcie $f(x)$ v okolí bodu $x_0$ získame rozvojom fukcie do Taylorovho radu\n",
    "\n",
    "\\begin{equation}\n",
    "\\label{eq:t1}\n",
    "f \\left(x_0 + \\frac{\\delta}{2} \\right) \\approx f(x_0) + \\frac{\\delta}{2} f'(x_0) + \\frac{1}{2!} \\left(\\frac{\\delta}{2} \\right)^2 f''(x_0) + \\frac{1}{3!} \\left(\\frac{\\delta}{2} \\right)^3 f'''(x_0) + \\dots\n",
    "\\end{equation}\n",
    "\n",
    "\\begin{equation} \n",
    "\\label{eq:t2}\n",
    "f \\left(x_0 - \\frac{\\delta}{2} \\right) \\approx f(x_0) - \\frac{\\delta}{2} f'(x_0) + \\frac{1}{2!} \\left(\\frac{\\delta}{2} \\right)^2 f''(x_0) - \\frac{1}{3!} \\left(\\frac{\\delta}{2} \\right)^3 f'''(x_0) + \\dots\n",
    "\\end{equation}\n",
    "\n",
    "Odčítanim rovníc dostaneme\n",
    "\n",
    "\\begin{equation*}\n",
    "f \\left(x_0 + \\frac{\\delta}{2} \\right) - f \\left(x_0 - \\frac{\\delta}{2} \\right) \\approx \n",
    "\\delta f'(x_0) + \\frac{2}{3!} \\left(\\frac{\\delta}{2} \\right)^3 f'''(x_0) + \\dots\n",
    "\\end{equation*}\n",
    "\n",
    "z čoho po úpravách\n",
    "\n",
    "\\begin{equation*}\n",
    "f'(x_0) \\approx \\frac{f \\left(x_0 + \\frac{\\delta}{2} \\right) - f \\left(x_0 - \\frac{\\delta}{2} \\right)}{\\delta}  + O(\\delta^2)\n",
    "\\end{equation*}\n",
    "\n",
    "Výraz $O(\\delta^2)$ reprezentuje všetky neuvedené členy rozvoja a mocnina argumentu deklaruje najnižší rád v týchto členoch. Pre dostatočne malý krok $\\delta$ môžeme zaokrúhlovaciu chybu $O(\\delta^2)$ zanedbať\n",
    "\n",
    "\\begin{equation}\n",
    "\\frac{\\mathrm{d} f(x)}{\\mathrm{d} x} \\,  \\biggr\\rvert_{x = x_0} \\approx \\frac{f \\left(x_0 + \\frac{\\delta}{2} \\right) - f \\left(x_0 - \\frac{\\delta}{2} \\right)}{\\delta} \n",
    "\\end{equation}"
   ]
  },
  {
   "cell_type": "markdown",
   "metadata": {},
   "source": [
    "V literatúre sa používa aj vzťah pre $\\xi = 2 \\delta$\n",
    "\n",
    "\\begin{equation}\n",
    "\\frac{\\mathrm{d} f(x)}{\\mathrm{d} x} \\,  \\biggr\\rvert_{x = x_0} \\approx \\frac{f \\left(x_0 + \\xi \\right) - f \\left(x_0 - \\xi \\right)}{ 2 \\,\\xi} \n",
    "\\end{equation}"
   ]
  },
  {
   "cell_type": "markdown",
   "metadata": {},
   "source": [
    "### Presnejšia aproximácie prvej derivácia\n",
    "\n",
    "Pre niektoré numerické aplikécie nie je vhodné pri výpočte derivácie voliť krok veľmi malý, pretože výsledok môže byť zaťažený chybou z konečnej dĺžky slova resp. presnosti v počítači. V takomto prípade je vhodné počítať deriváciu funkcie $f(x)$ v širšom okolí bodu  $x_0$ ."
   ]
  },
  {
   "cell_type": "markdown",
   "metadata": {},
   "source": [
    "\\begin{equation*}\n",
    "f \\left(x_0 + \\frac{\\delta}{2} \\right) - f \\left(x_0 - \\frac{\\delta}{2} \\right) \\approx \n",
    "2 \\left(\\frac{\\delta}{2} \\right) f'(x_0) + \\frac{2}{3!} \\left(\\frac{\\delta}{2} \\right)^3 f^{(3)}(x_0) \n",
    "+ \\frac{2}{5!} \\left(\\frac{\\delta}{2} \\right)^5 f^{(5)}(x_0)\n",
    "+ \\dots\n",
    "\\end{equation*}\n",
    "\n",
    "\\begin{equation*}\n",
    "f \\left(x_0 + \\delta \\right) - f \\left(x_0 - \\delta \\right) \\approx \n",
    "2 \\delta f'(x_0) + \\frac{2}{3!} \\delta^3 f^{(3)}(x_0) \n",
    "+ \\frac{2}{5!} \\delta^5 f^{(5)}(x_0)\n",
    "+ \\dots\n",
    "\\end{equation*}\n",
    "\n",
    "Prvú rovnicu vynásobíme 8 a odčítame od druhej, eliminujeme člen s treťou deriváciou\n",
    "\n",
    "\\begin{equation*}\n",
    "-f \\left(x_0 + \\delta \\right)  + 8 f \\left(x_0 + \\frac{\\delta}{2} \\right) - 8 f \\left(x_0 - \\frac{\\delta}{2} \\right)                + f \\left(x_0 - \\delta \\right) \\approx 6 f'(x) \\delta +O(h^4)\n",
    "\\end{equation*}\n",
    "\n",
    "po úprave dostaneme\n",
    "\n",
    "\\begin{equation}\n",
    "\\frac{\\mathrm{d} f(x)}{\\mathrm{d} x} \\,  \\biggr\\rvert_{x = x_0} \\approx\n",
    "\\frac{-f \\left(x_0 + \\delta \\right)  + 8 f \\left(x_0 + \\frac{\\delta}{2} \\right) - 8 f \\left(x_0 - \\frac{\\delta}{2} \\right) + f \\left(x_0 - \\delta \\right) }{6 \\, \\delta}\n",
    "\\end{equation}\n"
   ]
  },
  {
   "cell_type": "markdown",
   "metadata": {},
   "source": [
    "alebo\n",
    "\n",
    "\\begin{equation}\n",
    "\\frac{\\mathrm{d} f(x)}{\\mathrm{d} x} \\,  \\biggr\\rvert_{x = x_0} \\approx\n",
    "\\frac{-f \\left(x_0 + 2 \\, \\xi \\right)  + 8 f \\left(x_0 + \\xi \\right) - 8 f \\left(x_0 - \\xi \\right) + f \\left(x_0 - 2 \\, \\xi \\right) }{12 \\, \\xi}\n",
    "\\end{equation}"
   ]
  },
  {
   "cell_type": "code",
   "execution_count": 17,
   "metadata": {},
   "outputs": [
    {
     "data": {
      "image/png": "[encoded data removed]",
      "text/plain": [
       "<Figure size 432x288 with 1 Axes>"
      ]
     },
     "metadata": {},
     "output_type": "display_data"
    }
   ],
   "source": [
    "# vypocet derivacie metodou konecnych diferencii v numpy\n",
    "%reset -f \n",
    "%matplotlib inline\n",
    "from numpy import *\n",
    "import matplotlib.pyplot as plt\n",
    "\n",
    "x = linspace(0., 10., 100)\n",
    "y = x*sin(2*x)**2 \n",
    "dy = diff(y)\n",
    "\n",
    "plt.plot(x,y,'r', label='y')\n",
    "plt.plot(x[0:-1],dy,'g', label='dy / dx')\n",
    "plt.grid()\n",
    "plt.legend()\n",
    "plt.show()"
   ]
  },
  {
   "cell_type": "markdown",
   "metadata": {},
   "source": [
    "### Aproximácia druhej derivácie\n",
    "\n",
    "Spočítaním vzťahov (\\ref{eq:t1}) a (\\ref{eq:t2}) dostaneme\n",
    "\n",
    "\\begin{equation*}\n",
    "f \\left(x_0 + \\frac{\\delta}{2} \\right) + f \\left(x_0 - \\frac{\\delta}{2} \\right) \\approx \n",
    "2\\, f(x_0) + \\frac{2}{2!} \\left(\\frac{\\delta}{2} \\right)^2 f''(x_0) + O(h^4)\n",
    "\\end{equation*}\n",
    "\n",
    "po úprave dostaneme\n",
    "\n",
    "\\begin{equation}\n",
    "\\frac{\\mathrm{d^2} f(x)}{\\mathrm{d} x^2} \\,  \\biggr\\rvert_{x = x_0} \\approx\n",
    "\\frac{f \\left(x_0 + \\frac{\\delta}{2} \\right) - 2 \\, f(x_0) + f \\left(x_0 - \\frac{\\delta}{2} \\right) }{\\frac{\\delta^2}{4} }\n",
    "\\end{equation}\n",
    "\n",
    "alebo\n",
    "\n",
    "\\begin{equation}\n",
    "\\frac{\\mathrm{d^2} f(x)}{\\mathrm{d} x^2} \\,  \\biggr\\rvert_{x = x_0} \\approx\n",
    "\\frac{f \\left(x_0 + \\xi \\right) - 2 \\, f(x_0) + f \\left(x_0 - \\xi \\right) }{\\xi^2 }\n",
    "\\end{equation}\n",
    "\n",
    "Použitím vyššie uvedených postupov môžeme odvodiť aproximačné vzťahy pre vyššiu presnosť a vyššie derivácie. Podrobnejšie odvodenie pre bivariantné funkcie je možné nájsť v literatúre napr. [Finite Differences](https://geometrictools.com/Documentation/FiniteDifferences.pdf)."
   ]
  },
  {
   "cell_type": "markdown",
   "metadata": {},
   "source": [
    "## Knižnica numdifftools\n",
    "\n",
    "Numerický výpočet derivácií do 10-teho rádu.\n"
   ]
  }
 ],
 "metadata": {
  "kernelspec": {
   "display_name": "Python 3",
   "language": "python",
   "name": "python3"
  },
  "language_info": {
   "codemirror_mode": {
    "name": "ipython",
    "version": 3
   },
   "file_extension": ".py",
   "mimetype": "text/x-python",
   "name": "python",
   "nbconvert_exporter": "python",
   "pygments_lexer": "ipython3",
   "version": "3.6.8"
  },
  "latex_envs": {
   "LaTeX_envs_menu_present": true,
   "autoclose": false,
   "autocomplete": true,
   "bibliofile": "biblio.bib",
   "cite_by": "apalike",
   "current_citInitial": 1,
   "eqLabelWithNumbers": true,
   "eqNumInitial": 1,
   "hotkeys": {
    "equation": "Ctrl-E",
    "itemize": "Ctrl-I"
   },
   "labels_anchors": false,
   "latex_user_defs": false,
   "report_style_numbering": false,
   "user_envs_cfg": false
  },
  "varInspector": {
   "cols": {
    "lenName": 16,
    "lenType": 16,
    "lenVar": 40
   },
   "kernels_config": {
    "python": {
     "delete_cmd_postfix": "",
     "delete_cmd_prefix": "del ",
     "library": "var_list.py",
     "varRefreshCmd": "print(var_dic_list())"
    },
    "r": {
     "delete_cmd_postfix": ") ",
     "delete_cmd_prefix": "rm(",
     "library": "var_list.r",
     "varRefreshCmd": "cat(var_dic_list()) "
    }
   },
   "types_to_exclude": [
    "module",
    "function",
    "builtin_function_or_method",
    "instance",
    "_Feature"
   ],
   "window_display": false
  }
 },
 "nbformat": 4,
 "nbformat_minor": 2
}
