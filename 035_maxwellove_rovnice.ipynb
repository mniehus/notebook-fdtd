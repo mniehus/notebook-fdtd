{
 "cells": [
  {
   "cell_type": "markdown",
   "metadata": {},
   "source": [
    "# Maxwellove rovnice\n",
    "\n",
    "## Statické polia\n",
    "\n",
    "V statickom prípade (veličiny nezávisia od času) sú elektrické a magnetické polia nezávislé. V jednoduchej interpretácii náboj nepôsobí na konštantný prúd pretekajúci vodičom, naopak na pretekajúci prúd vodičom nepôsobí statický náboj.  Maxwellove rovnice v tomto prípade popisujú charakter poľa, t.j. či je žriedlové alebo vírové.\n",
    "\n",
    "\\begin{align*}\n",
    "\\nabla \\cdot \\mathbf{D} &= \\rho_v\\\\\n",
    "\\nabla \\cdot \\mathbf{B} &= 0   \\\\\n",
    "\\nabla \\times \\mathbf{E} &= 0  \\\\\n",
    "\\nabla \\times \\mathbf{H} &= \\mathbf{J} \\\\\n",
    "\\end{align*}\n",
    "\n",
    "Na náboj pohybujúci sa konštantnou rýchlosťou $\\mathbf{v}$ v elektrickom a magnetickom poli pôsobí sila\n",
    "\n",
    "\\begin{equation*}\n",
    "\\mathbf{F} = Q \\, (\\mathbf{E} + \\mathbf{v} \\times \\mathbf{B} )\n",
    "\\end{equation*}\n"
   ]
  },
  {
   "cell_type": "markdown",
   "metadata": {},
   "source": [
    "### Časovo premenné polia"
   ]
  }
 ],
 "metadata": {
  "kernelspec": {
   "display_name": "Python 3",
   "language": "python",
   "name": "python3"
  },
  "language_info": {
   "codemirror_mode": {
    "name": "ipython",
    "version": 3
   },
   "file_extension": ".py",
   "mimetype": "text/x-python",
   "name": "python",
   "nbconvert_exporter": "python",
   "pygments_lexer": "ipython3",
   "version": "3.6.7"
  },
  "latex_envs": {
   "LaTeX_envs_menu_present": true,
   "autoclose": false,
   "autocomplete": true,
   "bibliofile": "biblio.bib",
   "cite_by": "apalike",
   "current_citInitial": 1,
   "eqLabelWithNumbers": true,
   "eqNumInitial": 1,
   "hotkeys": {
    "equation": "Ctrl-E",
    "itemize": "Ctrl-I"
   },
   "labels_anchors": false,
   "latex_user_defs": false,
   "report_style_numbering": false,
   "user_envs_cfg": false
  },
  "varInspector": {
   "cols": {
    "lenName": 16,
    "lenType": 16,
    "lenVar": 40
   },
   "kernels_config": {
    "python": {
     "delete_cmd_postfix": "",
     "delete_cmd_prefix": "del ",
     "library": "var_list.py",
     "varRefreshCmd": "print(var_dic_list())"
    },
    "r": {
     "delete_cmd_postfix": ") ",
     "delete_cmd_prefix": "rm(",
     "library": "var_list.r",
     "varRefreshCmd": "cat(var_dic_list()) "
    }
   },
   "types_to_exclude": [
    "module",
    "function",
    "builtin_function_or_method",
    "instance",
    "_Feature"
   ],
   "window_display": false
  }
 },
 "nbformat": 4,
 "nbformat_minor": 2
}
