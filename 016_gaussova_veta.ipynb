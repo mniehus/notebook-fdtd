{
 "cells": [
  {
   "cell_type": "markdown",
   "metadata": {},
   "source": [
    "# Gaussova veta\n",
    "\n",
    "Gaussova veta (Gauss-Ostrogradskeho veta alebo veta o divergencii) dáva do súvislosti tok vektorového poľa $\\mathbf{F}$ plochou $S$ tvoriacou povrch nejakého objemu $V$ so zdrojom poľa uzatvoreným v tomto objeme.\n",
    "\n",
    "\\begin{equation}\n",
    "\\int\\limits_V \\nabla \\cdot \\mathbf{F} \\, dV =  \\oint\\limits_S \\mathbf{F} \\, d\\mathbf{S}\n",
    "\\end{equation}\n",
    "\n",
    "kde \n",
    "\n",
    "\\begin{equation*}\n",
    "\\mathbf{F}(x,y,z) = F_x(x,y,z) \\, \\mathbf{i}  +  F_x(x,y,z) \\, \\mathbf{j} +  F_x(x,y,z) \\, \\mathbf{k}\n",
    "\\end{equation*}"
   ]
  },
  {
   "cell_type": "markdown",
   "metadata": {},
   "source": [
    "## Diskrétna aproximácia Gaussovej vety\n",
    "\n",
    "Objem $V$ rozdelíme na kocky s rozmermi hrán $\\mathrm{d} x \\, \\mathrm{d} y \\, \\mathrm{d} z$. Orientovaný element plochy $\\mathrm{d} \\mathbf{S}$ má smer kolmý na plochu a veľkosť rovnú veľkosti tejto plochy\n",
    "\n",
    "\\begin{equation*}\n",
    "\\mathrm{d} \\mathbf{S} = \\mathbf{n} \\, \\mathrm{d} S, \\,\\,\\,\\,\\,\\,   \\mathbf{n} \\perp S\n",
    "\\end{equation*}\n",
    "\n",
    "**TODO Obrazok**\n",
    "\n",
    "\\begin{align*}\n",
    "\\mathrm{d} \\mathbf{S_x} &= \\mathbf{i} \\, S_x  = \\mathbf{i} \\, \\mathrm{d} y \\,  \\mathrm{d} z\\\\\n",
    "\\mathrm{d} \\mathbf{S_y} &= \\mathbf{j} \\, S_y  = \\mathbf{j} \\, \\mathrm{d} x \\, \\mathrm{d} z \\\\\n",
    "\\mathrm{d} \\mathbf{S_z} &= \\mathbf{k} \\, S_z  = \\mathbf{k} \\, \\mathrm{d} x \\, \\mathrm{d} y \\\\\n",
    "\\end{align*}\n",
    "\n",
    "\n",
    "**TODO Obrazok**\n",
    "\n",
    "Divergenciu vektora môžeme potom rozpísať ako\n",
    "\n",
    "\\begin{align*}\n",
    "\\int\\limits_V \\nabla . \\mathbf{F} \\, \\mathrm{d} V = \\\n",
    "&\\sum_{i,j,k} \\left( \\frac{F_x(x_{i+1},y_j, z_k) - F_x(x_i,y_j,z_k)}{\\mathrm{d} x} \\right) \\mathrm{d} x \\, \\mathrm{d} y \\, \\mathrm{d} z   \\, + \\\\\n",
    "&\\sum_{i,j,k} \\left( \\frac{F_y(x_i,y_{j+1},z_k)  - F_y(x_i,y_j,z_k)}{\\mathrm{d} y} \\right) \\mathrm{d} x \\, \\mathrm{d} y, \\mathrm{d} z \\, + \\\\\n",
    "&\\sum_{i,j,k} \\left( \\frac{F_z(x_i,y_j,z_{k+1})  - F_z(x_i,y_j,z_k)}{\\mathrm{d} z} \\right) \\mathrm{d} x \\, \\mathrm{d} y, \\mathrm{d} z\n",
    "\\end{align*}\n",
    "\n",
    "Ak zoberieme prvú zložku vektorového poľa $F_x$, pre fixované indexy $j,k$ môžeme písať\n",
    "\n",
    "\\begin{equation*}\n",
    "\\sum_{i} \\left( \\frac{F_x(x_{i+1},y_j, z_k) - F_x(x_i,y_j,z_k)}{ \\mathrm{d} x} \\right) \\mathrm{d} x \\, \\mathrm{d}y \\, \\mathrm{d} z  \\, =  \\sum_{i} \\big( F_x(x_{i+1},y_j, z_k) - F_x(x_i,y_j,z_k)  \\big) \\, \\mathrm{d} y \\, \\mathrm{d} z\n",
    "\\end{equation*}"
   ]
  },
  {
   "cell_type": "markdown",
   "metadata": {},
   "source": [
    "Ak prevedieme sumáciu, hodnoty poľa na susedných kockách budú mať opačné hodnoty a vo výslednej sume nám zostane len tok cez vonkajšie steny krajných kociek\n",
    "\n",
    "\\begin{equation*}\n",
    "\\sum_{i} \\big( F_x(x_{i+1},y_j, z_k) - F_x(x_i,y_j,z_k)  \\big) \\, \\mathrm{d} y \\, \\mathrm{d} z = \\\n",
    " \\big( F_x(x_{n},y_j, z_k) - F_x(x_1,y_j,z_k)  \\big) \\, \\mathrm{d} y \\, \\mathrm{d} z\n",
    "\\end{equation*}"
   ]
  },
  {
   "cell_type": "markdown",
   "metadata": {},
   "source": [
    "Po úpravách potom môžeme vzťah pre divergenciu prepísať\n",
    "\n",
    "\\begin{align*}\n",
    "\\int\\limits_V \\nabla . \\mathbf{F} \\, \\mathrm{d} V = \\\n",
    "&\\sum_{j,k} \\big( F_x(x_{n},y_j, z_k) - F_x(x_1,y_j,z_k)  \\big) \\, \\mathrm{d} y \\, \\mathrm{d} z \\, + \\\\\n",
    "&\\sum_{i,k} \\big( F_y(x_i,y_n, z_k) - F_y(x_i,y_1,z_k)  \\big) \\, \\mathrm{d} x \\, \\mathrm{d} z \\, + \\\\\n",
    "&\\sum_{i,j} \\big( F_z(x_i,y_j, z_n) - F_z(x_i,y_j,z_1)  \\big) \\, \\mathrm{d} x \\, \\mathrm{d} y\n",
    "\\end{align*}\n",
    "\n",
    "čo je súčet tokov vektorového poľa cez všetky vonkajšie steny kociek tvoriace objem $V$. Z tohoto vyplýva\n",
    "\n",
    "\\begin{equation*}\n",
    "\\int\\limits_V \\nabla . \\mathbf{F} \\, \\mathrm{d} V = \\\n",
    "\\int\\limits_{S_x} ({F_{x_n} - F_{x_1}}) \\, \\mathrm{d} S_x + \\\n",
    "\\int\\limits_{S_y} ({F_{y_n} - F_{y_1}}) \\, \\mathrm{d} S_y + \\\n",
    "\\int\\limits_{S_z} ({F_{z_n} - F_{z_1}}) \\, \\mathrm{d} S_z \\\n",
    "=\\oint\\limits_S \\mathbf{F} \\, \\mathrm{d} \\mathbf{S}\n",
    "\\end{equation*}"
   ]
  },
  {
   "cell_type": "markdown",
   "metadata": {},
   "source": [
    "## Gaussova veta v 2D\n",
    "\n",
    "Do 2D geometrie $(x,y,0)$ môžeme Gaussovu vetu previesť pomocou jednoduchého priemetu do roviny, v tomto prípade sa objemový integrál redukuje na integrál cez plochu a integrál cez plochu na integrál po krivke tvoriacej hranicu plochy  \n",
    "\n",
    "\\begin{equation}\n",
    "\\iint\\limits_{\\Omega} \\left( \\nabla \\cdot \\mathbf{F} \\right) \\, \\mathrm{d} x \\, \\mathrm{d} y = \\\n",
    "=\\int\\limits_{\\partial \\, \\Omega} \\mathbf{F} \\, \\mathrm{d} \\mathbf{l_\\perp}\n",
    "\\end{equation}\n",
    "\n",
    "kde $\\Omega$ je plocha, $\\partial \\, \\Omega$ je jej krivka tvoriaca jej hranicu a $\\mathrm{d} \\mathbf{l_\\perp}$ je normálový vektor k elementu krivky.\n",
    "\n",
    "**TODO Obrazok**\n",
    "\n",
    "Ak je vektor tangenciálneho elementu krivky $d \\mathbf{l} = (dx, dy)$, zložky vektora kolmého určíme z podmienky kolmosti vektorov pri ich skalárnom súčine\n",
    "\n",
    "\\begin{equation*}\n",
    "\\mathbf{x} \\cdot \\mathbf{y} = (x_1, x_2) \\cdot (y_1, y_2) = x_1 y_1 + x_2 \\, y_2\n",
    "\\end{equation*}\n",
    "\n",
    "zároveň pre $\\mathbf{x} \\perp \\mathbf{y}$ platí\n",
    "\n",
    "\\begin{equation*}\n",
    "\\mathbf{x} \\cdot \\mathbf{y} = |\\mathbf{x}| \\, |\\mathbf{y}| \\, cos(\\phi) = 0\n",
    "\\end{equation*}\n",
    "\n",
    "z čoho \n",
    "\n",
    "\\begin{equation*}\n",
    "x_1 y_1 + x_2 \\, y_2  = 0, \\,\\,\\,\\, \\text{resp.} \\,\\,\\,\\, y_1 = x_2 \\,\\, \\text{a}  \\,\\, y_2 = -x_1 \n",
    "\\end{equation*}\n",
    "\n",
    "Po dosadení a rozpísaní má potom Gaussova veta pre 2D konfiguráciu tvar\n",
    "\n",
    "\\begin{equation*}\n",
    "\\iint\\limits_{\\Omega} \\left( \\frac{\\partial F_x}{\\partial x} + \\frac{\\partial F_y}{ \\partial y} \\right) \\, \\mathrm{d} x \\, \\mathrm{d} y = \\\n",
    "=\\int\\limits_{\\partial \\, \\Omega} F_x \\, \\mathrm{d} y - F_y \\, \\mathrm{d} x\n",
    "\\end{equation*}\n"
   ]
  },
  {
   "cell_type": "markdown",
   "metadata": {},
   "source": [
    "## Symbolický výpočet\n",
    "\n",
    "Symbolický výpočet toku vektora $\\mathbf{F}(x,y)$\n",
    "\n",
    "\\begin{equation*}\n",
    "\\mathbf{F}(x,y)  =   \\left( -y \\, (1-x-y)+ \\frac{x}{4} \\right) \\, \\mathbf{i}   +   \\left(2 -x^2 + \\frac{y}{4} \\right) \\, \\mathbf{j}  \n",
    "\\end{equation*}\n",
    "\n",
    "\n",
    "v 2D rovine cez krivku zadanú parametrickou rovnicou\n",
    "\n",
    "\\begin{align*}\n",
    "x &= \\cos(t) \\\\\n",
    "y &= \\sin(t)\n",
    "\\end{align*}\n",
    "\n",
    "Po úprave má vzťah pre výpočet toku cez hranicu oblasti v 2D tvar\n",
    "\n",
    "\\begin{equation*}\n",
    "\\Phi =\\int\\limits_{\\partial \\, \\Omega} F_x(x,y) \\, \\mathrm{d} y - F_y(x,y) \\, \\mathrm{d} x =\\int\\limits_{C} \\left(  F_x(t) \\, \\cos(t) - F_y(t) (-\\sin(t) \\right) \\mathrm{d} t\n",
    "\\end{equation*}\n",
    "\n"
   ]
  },
  {
   "cell_type": "code",
   "execution_count": 1,
   "metadata": {},
   "outputs": [
    {
     "data": {
      "text/latex": [
       "$\\mathbf{F}(x,y)=(\\frac{\\mathbf{{x}_{q}}}{4} - \\mathbf{{y}_{q}} \\left(- \\mathbf{{x}_{q}} - \\mathbf{{y}_{q}} + 1\\right))\\mathbf{\\hat{i}_{q}} + (- \\mathbf{{x}_{q}}^{2} + \\frac{\\mathbf{{y}_{q}}}{4} + 2)\\mathbf{\\hat{j}_{q}}$"
      ],
      "text/plain": [
       "<IPython.core.display.Latex object>"
      ]
     },
     "metadata": {},
     "output_type": "display_data"
    },
    {
     "data": {
      "text/latex": [
       "$\\Phi=\\frac{\\pi}{2}$"
      ],
      "text/plain": [
       "<IPython.core.display.Latex object>"
      ]
     },
     "metadata": {},
     "output_type": "display_data"
    }
   ],
   "source": [
    "%reset -sf \n",
    "from utils.utils import *\n",
    "from sympy import *\n",
    "from sympy.vector import CoordSys3D, divergence\n",
    "    \n",
    "q = CoordSys3D('q')                  # suradnicova sustava\n",
    "t, r = symbols(\"t,r\")                # parameter pre vypocet integralu\n",
    "                                     # vektorove pole a substitucia parametrov\n",
    "F = (-q.y*(1 - q.x - q.y) + q.x/4) * q.i + (2 - q.x**2 + q.y/4) * q.j\n",
    "Fs = F.subs([(q.x, cos(t)), (q.y, sin(t))])\n",
    "                                    \n",
    "ns = (cos(t)*q.i) - (-sin(t))*q.j    # normalovy vektor dl\n",
    "Ph = integrate(Fs.dot(ns), (t, 0, 2*pi) )\n",
    "\n",
    "ltxprint('\\mathbf{F}(x,y)', F)\n",
    "ltxprint('\\Phi', Ph)"
   ]
  },
  {
   "cell_type": "markdown",
   "metadata": {},
   "source": [
    "## Numerický výpočet\n",
    "\n",
    "Pre numerický výpočet použijeme funkciu *quad()* pre výpočet určitého integrálu funkcie."
   ]
  },
  {
   "cell_type": "code",
   "execution_count": 7,
   "metadata": {},
   "outputs": [
    {
     "name": "stdout",
     "output_type": "stream",
     "text": [
      "1.5707963267948961\n"
     ]
    }
   ],
   "source": [
    "from scipy.integrate import quad\n",
    "import numpy as np\n",
    "\n",
    "def Fp(t):\n",
    "    x = np.cos(t)\n",
    "    y = np.sin(t)\n",
    "    return (-y * (1-x-y)+ x/4)*(np.cos(t)) - (2 - x**2 + y/4) * (-np.sin(t))\n",
    "\n",
    "Flux, err = quad(Fp, 0, 2*np.pi)\n",
    "print(Flux)"
   ]
  },
  {
   "cell_type": "markdown",
   "metadata": {},
   "source": [
    "Pre porovnanie a ilustráciu výpočet zopakujeme pre ľavú stranu výrazu s výpočtom toku cez plochu kružnice o polomere $r$. Ak označíme\n",
    "\n",
    "\\begin{equation*}\n",
    "D(x,y) = \\nabla \\cdot \\mathbf{F}(x,y)\n",
    "\\end{equation*}\n",
    "\n",
    "potom po substitúcii \n",
    "\n",
    "\\begin{equation*}\n",
    "\\Phi = \\iint\\limits_{\\Omega}  \\nabla .\\mathbf{F}(x,y)  \\, \\mathrm{d} x \\, \\mathrm{d} y = \\\n",
    "\\int\\limits_0^{2 \\pi} \\int\\limits_0^1 D( \\,r\\, \\cos(\\psi), r\\, \\sin(\\psi) \\,) \\,  r \\, \\mathrm{d} r \\, \\mathrm{d} \\psi\n",
    "\\end{equation*}"
   ]
  },
  {
   "cell_type": "code",
   "execution_count": 3,
   "metadata": {},
   "outputs": [
    {
     "data": {
      "text/latex": [
       "$\\Phi=\\frac{\\pi}{2}$"
      ],
      "text/plain": [
       "<IPython.core.display.Latex object>"
      ]
     },
     "metadata": {},
     "output_type": "display_data"
    }
   ],
   "source": [
    "D = divergence(F)\n",
    "Ds = D.subs([(q.x, r*cos(t)), (q.y, r*sin(t))])\n",
    "Ph = integrate(  integrate(Ds*r, (r, 0, 1)), (t, 0, 2*pi) )\n",
    "\n",
    "ltxprint('\\Phi', Ph)"
   ]
  }
 ],
 "metadata": {
  "kernelspec": {
   "display_name": "Python 3",
   "language": "python",
   "name": "python3"
  },
  "language_info": {
   "codemirror_mode": {
    "name": "ipython",
    "version": 3
   },
   "file_extension": ".py",
   "mimetype": "text/x-python",
   "name": "python",
   "nbconvert_exporter": "python",
   "pygments_lexer": "ipython3",
   "version": "3.6.8"
  },
  "latex_envs": {
   "LaTeX_envs_menu_present": true,
   "autoclose": false,
   "autocomplete": true,
   "bibliofile": "biblio.bib",
   "cite_by": "apalike",
   "current_citInitial": 1,
   "eqLabelWithNumbers": true,
   "eqNumInitial": 1,
   "hotkeys": {
    "equation": "Ctrl-E",
    "itemize": "Ctrl-I"
   },
   "labels_anchors": false,
   "latex_user_defs": false,
   "report_style_numbering": false,
   "user_envs_cfg": false
  },
  "varInspector": {
   "cols": {
    "lenName": 16,
    "lenType": 16,
    "lenVar": 40
   },
   "kernels_config": {
    "python": {
     "delete_cmd_postfix": "",
     "delete_cmd_prefix": "del ",
     "library": "var_list.py",
     "varRefreshCmd": "print(var_dic_list())"
    },
    "r": {
     "delete_cmd_postfix": ") ",
     "delete_cmd_prefix": "rm(",
     "library": "var_list.r",
     "varRefreshCmd": "cat(var_dic_list()) "
    }
   },
   "types_to_exclude": [
    "module",
    "function",
    "builtin_function_or_method",
    "instance",
    "_Feature"
   ],
   "window_display": false
  }
 },
 "nbformat": 4,
 "nbformat_minor": 2
}
