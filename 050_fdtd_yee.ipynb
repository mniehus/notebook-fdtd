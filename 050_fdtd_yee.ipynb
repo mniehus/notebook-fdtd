{
 "cells": [
  {
   "cell_type": "markdown",
   "metadata": {},
   "source": [
    "# FDTD Yee Algoritmus\n",
    "\n",
    "Pre riešeni sústavy Maxwellových diferenciálnych rovníc v časovej oblasti predstavil v roku 1966  matematik [Kane Yee](https://en.wikipedia.org/wiki/Finite-difference_time-domain_method) algoritmus, ktorý nesie jeho meno. Podstatou algoritmu je výpočet časových a priestorových derivácii aproximácie derivácie pomocou konečných diferencií.\n",
    "\n",
    "## Aproximácia priestorových a časových derivácií\n",
    "\n",
    "Pre popis elektromagnetického poľa v priestore a čase zavedieme označenie, ktoré popisuje diskrétnu časovo-priestorovú lokalizáciu komponentov poľa $\\mathbf{E}$ a $\\mathbf{H}$\n",
    "\n",
    "\\begin{align*}\n",
    "\\mathbf{E}(\\mathbf{r},t) &\\approx \\mathbf{E}(m \\Delta x, n \\Delta y, k \\Delta z, q \\Delta t) = \\mathbf{E}^q[m,n,k] \\\\\n",
    "\\mathbf{H}(\\mathbf{r},t) &\\approx \\mathbf{H}(m \\Delta x, n \\Delta y, k \\Delta z, q \\Delta t) = \\mathbf{H}^q[m,n,k] \\\\\n",
    "\\end{align*}\n",
    "\n",
    "kde $m,n,k$ sú indexy priestorových diferencií v smere osí, $q$ je index časovej diferencie. Deriváciu komponentu poľa v nejakom bode priestoru a čase, napríklad $\\mathbf{H}$ v bode $(m \\Delta x, n \\Delta y, k \\Delta z)$ v smere osi $z$ a v čase $q$, potom môžeme formálne aproximovať ako\n",
    "\n",
    "\\begin{equation}\n",
    "\\frac{\\partial \\mathbf{H}^q[m,n,k]}{\\partial z} \\approx \\frac{\\mathbf{H}^q \\left[ m,n,k + \\frac{1}{2} \\right] - \\mathbf{H}^q \\left[m, n, k- \\frac{1}{2} \\right ]}{\\Delta z} + O[(\\Delta z)^2]\n",
    "\\\\\n",
    "\\end{equation}\n",
    "\n",
    "Z aproximácie (*two-point centered difference method*) vyplýva, že zložky poľa by mali byť definované v celočíselných bodoch mriežky (m,n), ako aj v medzi bodmi mriežky v polovičných vzdialenostiach (k+1/2, k-1/2). Derivácie zložky komponenty poľa, napríklad $H_z$ v smere osi $x$ môžeme aproximovať ako\n",
    "\n",
    "\\begin{equation}\n",
    "\\frac{\\partial H_z^q [m,n,k]}{\\partial z} \\approx \\frac{ H_z^q \\left[ m,n,k + \\frac{1}{2} \\right] - H_z^q \\left[m, n, k- \\frac{1}{2} \\right ]}{\\Delta z} + O[(\\Delta z)^2]\n",
    "\\\\\n",
    "\\end{equation}\n",
    "\n",
    "**Poznámka** - Komponenty $\\mathbf{E}$ a $\\mathbf{H}$ sú vektorové polia, takže každá zložka komponentu poľa je  skalárna funkcia, ktorá môže závisieť od všetkých súradníc. "
   ]
  },
  {
   "cell_type": "markdown",
   "metadata": {},
   "source": [
    "Rovnakým postupom môžeme aproximovať aj časové derivácie v Ampérovom a Faradayovom zákone. Pre jednoduchosť nebudeme v nasledujúcom zápise uvádzať priestorové súradnice.\n",
    "\n",
    "\\begin{align*}\n",
    "\\frac{\\partial \\mathbf{E}^{q+ 1/2}}{\\partial t} &\\approx \\frac{\\mathbf{E}^{q+1} - \\mathbf{E}^q }{\\Delta t} \n",
    "= \\frac{1}{\\epsilon}  \\left[ \\nabla \\times \\mathbf{H} \\right]^{q+1/2}\\\\\n",
    "\\\\\n",
    "\\frac{\\partial \\mathbf{H}^{q+ 1}}{\\partial t} &\\approx \\frac{\\mathbf{H}^{q+3/2} - \\mathbf{H}^{q+1/2} }{\\Delta t} \n",
    "= \\frac{1}{\\mu}  \\left[ \\nabla \\times \\mathbf{E} \\right]^{q+1}\n",
    "\\end{align*}\n",
    "\n",
    "Je zrejmé, že obe rovnice sú vzájomne previazané a princíp posunutia komponentov $\\mathbf{E}$ a $\\mathbf{H}$ o polovicu časového intervalu je zrejmý z nasledujúcej úpravy a obrázku\n",
    "\n",
    "\\begin{align*}\n",
    "\\mathbf{E}^{q+1} &= \\mathbf{E}^q  + \\frac{\\Delta t}{\\epsilon}  \\left[ \\nabla \\times \\mathbf{H} \\right]^{q+1/2}\\\\\n",
    "\\\\\n",
    "\\mathbf{H}^{q+3/2} &= \\mathbf{H}^{q+1/2} + \\frac{\\Delta t}{\\mu}  \\left[ \\nabla \\times \\mathbf{E} \\right]^{q+1}\n",
    "\\end{align*}\n",
    "\n",
    "\n",
    "**TODO OBRAZOK** Yee bunka"
   ]
  },
  {
   "cell_type": "markdown",
   "metadata": {},
   "source": [
    "## Yee Algoritmus v 1D \n",
    "\n",
    "Predpokladajme jednorozmenrný priestor v ktorom sa môže šíríť elektromagnetická vlna v smere osi $x$. Elektromagnetická vlna pozostáva len zo zložiek poľa v smere osí $y$ a $z$, tieto sú funkciou súradnice $x$.\n",
    "\n",
    "Podľa Faradayovho zákona potom môžeme písať\n",
    "\n",
    "\\begin{equation}\n",
    "-\\mu \\frac{\\partial \\mathbf{H}}{\\partial t} = \n",
    "-\\mu \\left[ \\frac{\\partial H_y}{\\partial t}\\mathbf{j} + \\frac{\\partial H_z}{\\partial t}\\mathbf{k} \\right]\n",
    "= \\nabla \\times \\mathbf{E} = \n",
    "\\begin{vmatrix} \\mathbf{i} & \\mathbf{j} & \\mathbf{k} \\\\\n",
    "{\\dfrac{\\partial}{\\partial x}} & 0 & 0 \\\\\n",
    "0 & E_y & E_z \\end{vmatrix} =\n",
    "-\\frac{\\partial E_z}{\\partial x} \\mathbf{j}  +  \\frac{\\partial E_y}{\\partial x} \\mathbf{k}\n",
    "\\end{equation}\n",
    "\n",
    "a z Ampérovho zákona vyplýva\n",
    "\n",
    "\\begin{equation}\n",
    "\\epsilon \\frac{\\partial \\mathbf{E}}{\\partial t} =\n",
    "\\epsilon \\left[ \\frac{\\partial E_y}{\\partial t} \\mathbf{j} + \\frac{\\partial E_z}{\\partial t} \\mathbf{k} \\right]=\n",
    "\\nabla \\times \\mathbf{H} = \n",
    "\\begin{vmatrix} \\mathbf{i} & \\mathbf{j} & \\mathbf{k} \\\\\n",
    "{\\dfrac{\\partial}{\\partial x}} & 0 & 0 \\\\\n",
    "0 & H_y & H_z \\end{vmatrix} =\n",
    "-\\frac{\\partial H_z}{\\partial x}\\mathbf{j} + \\frac{\\partial H_y}{\\partial x}\\mathbf{k}\n",
    "\\end{equation}\n"
   ]
  },
  {
   "cell_type": "markdown",
   "metadata": {},
   "source": [
    "Rozpísaní pre zložky polí dostaneme dve sústavu skalárnych rovníc, jednu pre vzájomne kolmé zložky $H_y$ a $E_z$, označované aj ako TM vlna\n",
    "\n",
    "\\begin{align}\n",
    "-\\mu \\frac{\\partial H_y}{\\partial t}  &= -\\frac{\\partial E_z}{\\partial x} \\\\\n",
    "\\epsilon \\frac{\\partial E_z}{\\partial t}  &= \\frac{\\partial H_y}{\\partial x}\n",
    "\\end{align}\n",
    "\n",
    "**TODO** Obrazok TM vlny\n",
    "\n",
    "a druhú pre zložky $E_y$ a $H_z$, označované aj ako TE vlna\n",
    "\n",
    "\\begin{align}\n",
    "-\\mu \\frac{\\partial H_z}{\\partial t}  &= \\frac{\\partial E_y}{\\partial x} \\\\\n",
    "\\epsilon \\frac{\\partial E_y}{\\partial t}  &= -\\frac{\\partial H_z}{\\partial x}\n",
    "\\end{align}\n",
    "\n",
    "**TODO** Obrazok TE vlny\n",
    "\n",
    "Z rovníc je zrejmé, že časová derivácia jednnej komponenty poľa závisí od priestorovej derivácia druhej komponenty. \n",
    "\n",
    "**Poznámka** Pri šírení sa elektromagnetickej vlny vo voľnom priestore sú TE a TM vlny nezávislé, zložky elektrického ako $E_y, E_z$ resp. magnetického poľa $H_y, H_z$ spolu nesúvisia. K zmene ich veľkosti môže dôjsť napríklad pri prechode prostredím, ktoré vykazuje polarizačné vlastnosti a pod.  "
   ]
  }
 ],
 "metadata": {
  "kernelspec": {
   "display_name": "Python 3",
   "language": "python",
   "name": "python3"
  },
  "language_info": {
   "codemirror_mode": {
    "name": "ipython",
    "version": 3
   },
   "file_extension": ".py",
   "mimetype": "text/x-python",
   "name": "python",
   "nbconvert_exporter": "python",
   "pygments_lexer": "ipython3",
   "version": "3.6.7"
  },
  "latex_envs": {
   "LaTeX_envs_menu_present": true,
   "autoclose": false,
   "autocomplete": true,
   "bibliofile": "biblio.bib",
   "cite_by": "apalike",
   "current_citInitial": 1,
   "eqLabelWithNumbers": true,
   "eqNumInitial": 1,
   "hotkeys": {
    "equation": "Ctrl-E",
    "itemize": "Ctrl-I"
   },
   "labels_anchors": false,
   "latex_user_defs": false,
   "report_style_numbering": false,
   "user_envs_cfg": false
  },
  "varInspector": {
   "cols": {
    "lenName": 16,
    "lenType": 16,
    "lenVar": 40
   },
   "kernels_config": {
    "python": {
     "delete_cmd_postfix": "",
     "delete_cmd_prefix": "del ",
     "library": "var_list.py",
     "varRefreshCmd": "print(var_dic_list())"
    },
    "r": {
     "delete_cmd_postfix": ") ",
     "delete_cmd_prefix": "rm(",
     "library": "var_list.r",
     "varRefreshCmd": "cat(var_dic_list()) "
    }
   },
   "types_to_exclude": [
    "module",
    "function",
    "builtin_function_or_method",
    "instance",
    "_Feature"
   ],
   "window_display": false
  }
 },
 "nbformat": 4,
 "nbformat_minor": 2
}
