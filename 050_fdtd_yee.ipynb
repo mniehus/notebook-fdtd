{
 "cells": [
  {
   "cell_type": "markdown",
   "metadata": {},
   "source": [
    "# FDTD - Yee Algoritmus\n",
    "\n",
    "Yee algoritnmus je pomenovaný po matematikovi [Kane Yee](https://en.wikipedia.org/wiki/Finite-difference_time-domain_method), ktorý ho predstavil v roku 1966. Všeobecný postup výpočtu elektromagnetických polí je možné defnovať nasledujúcimi krokmi\n",
    "\n",
    "- vo zvolenom priestore definujeme vybrané uzly, v ktorých budeme určovať hodnoty polí E a H \n",
    "- aproximujeme časové a priestorové derivácie v Ampérovom a Faradayovom zákone konečnými diferenciami \n",
    "- riešime sústavu diferenčných rovníc tak, aby sme získali *aktualizačné* rovnice, ktoré popisujú budúce hodnoty na základe predchádzajúcich hodnôt\n",
    "- pre zvolený čas simulácie v jednotlivých časových krokoch spočítame hodnoty polí pre všetky uzly priestoru   \n",
    "\n",
    "Vyššie uvedený postup ukážeme na odvodení algoritmu pre jednorozmerný prípad."
   ]
  },
  {
   "cell_type": "markdown",
   "metadata": {},
   "source": [
    "### Yee Algoritmus v 1D priestore\n",
    "\n",
    "Predpokladajme jednorozmenrný priestor v ktorom sa môže šíríť elektromagnetická vlna v smere osi $x$. Zložky elektromagnetického poľa sú na seba kolmé, predpokladajme, že elektrická zložka je orintovaná v smere osi $z$ a magnetická v smere osi $y$.\n",
    "\n",
    "Podľa Faradayovho zákona potom môžeme písať\n",
    "\n",
    "\\begin{equation}\n",
    "-\\mu \\frac{\\partial \\mathbf{H}}{\\partial t} = \\nabla \\times \\mathbf{E} = \n",
    "\\begin{vmatrix} \\mathbf{i} & \\mathbf{j} & \\mathbf{k} \\\\\n",
    "{\\dfrac{\\partial}{\\partial x}} & 0 & 0 \\\\\n",
    "0 & 0 & E_z \\end{vmatrix} =\n",
    "-\\mathbf{j} \\frac{\\partial E_z}{\\partial x}\n",
    "\\end{equation}\n",
    "\n",
    "a z Ampérovho zákona vyplýva\n",
    "\n",
    "\\begin{equation}\n",
    "-\\epsilon \\frac{\\partial \\mathbf{E}}{\\partial t} = \\nabla \\times \\mathbf{H} = \n",
    "\\begin{vmatrix} \\mathbf{i} & \\mathbf{j} & \\mathbf{k} \\\\\n",
    "{\\dfrac{\\partial}{\\partial x}} & 0 & 0 \\\\\n",
    "0 & H_y & 0 \\end{vmatrix} =\n",
    "-\\mathbf{k} \\frac{\\partial H_y}{\\partial x}\n",
    "\\end{equation}\n",
    "\n",
    "po rozpísaní na zložky dostaneme sústavu skalárnych rovníc\n",
    "\n",
    "\\begin{align}\n",
    "\\mu \\frac{\\partial H_y}{\\partial t}  &= \\frac{\\partial E_z}{\\partial x} \\\\\n",
    "\\epsilon \\frac{\\partial E_z}{\\partial t}  &= \\frac{\\partial H_y}{\\partial x}\n",
    "\\end{align}\n",
    "\n",
    "Z rovníc je zrejmé, že časová derivácia jedného poľa závisí od priestorovej derivácia druhého poľa. "
   ]
  },
  {
   "cell_type": "markdown",
   "metadata": {},
   "source": [
    "### Diskretizácia rovníc\n",
    "\n",
    "Pre disktertizáciu rovníc zavedieme označenie, ktoré popisuje časovo-priestorovú lokalizáciu polí, index $q$ nie je mocnina, ale časový krok\n",
    "\n",
    "\\begin{align*}\n",
    "E_z(x,t) &= E_z(m \\, \\Delta x, q \\, \\Delta t) = E_z^q[m] \\\\\n",
    "H_y(x,t) &= H_y(m \\, \\Delta x, q \\, \\Delta t) = H_y^q[m] \\\\\n",
    "\\end{align*}\n"
   ]
  },
  {
   "cell_type": "markdown",
   "metadata": {},
   "source": [
    "**Diskretizácia Faradayovho zákona**\n",
    "\n",
    "V priestorovo-časovej súradnici $[(m+1/2)\\Delta x, q \\Delta t]$ môžeme pre Faradayov zákon písať \n",
    "\n",
    "\\begin{equation*}\n",
    "\\mu \\frac{\\partial H_y}{\\partial t} \\biggr\\rvert_{(m+1/2)\\Delta x, \\, q \\Delta t}  = \n",
    "\\frac{\\partial E_z}{\\partial x} \\biggr\\rvert_{(m+1/2)\\Delta x, \\, q \\Delta t}\n",
    "\\end{equation*} \n",
    "\n",
    "Deriváciu $H_y$ v čase $q \\Delta t$ aproximovať pomocou dvoch po sebe nasledujúcich hodnôt\n",
    "\n",
    "\\begin{equation*}\n",
    "\\mu \\frac{\\partial H_y}{\\partial t} \\biggr\\rvert_{(m+1/2)\\Delta x, \\, q \\Delta t}  \\approx \\mu \\frac{H_y^{q+1/2}[m+1/2] - H_y^{q-1/2}[m+1/2]}{\\Delta t}\n",
    "\\end{equation*}\n",
    "\n",
    "Deriváciu $E_z$ na pozícii $(m+1/2)\\Delta x$  aproximovať pomocou dvoch susedných hodnôt\n",
    "\n",
    "\\begin{equation*}\n",
    "\\frac{\\partial E_z}{\\partial x} \\biggr\\rvert_{(m+1/2)\\Delta x, \\, q \\Delta t} \\approx \\frac{E_z^{q}[m+1] - E_z^{q}[m] }{\\Delta x}\n",
    "\\end{equation*}\n",
    "\n",
    "Z vyššie uvedeného potom vyplýva\n",
    "\n",
    "\\begin{equation*}\n",
    "\\mu \\frac{H_y^{q+1/2}[m+1/2] - H_y^{q-1/2}[m+1/2]}{\\Delta t} = \\frac{E_z^{q}[m+1] - E_z^{q}[m] }{\\Delta x}\n",
    "\\end{equation*}\n",
    "\n",
    "po úprave dostaneme pre hodnotu $H_y^{q+1/2}[m+1/2]$ *aktualizačnú* rovnicu v tvare \n",
    "\n",
    "\\begin{equation}\n",
    "H_y^{q+1/2}[m+1/2] = H_y^{q-1/2}[m+1/2] + \\frac{\\Delta t}{\\mu \\, \\Delta x} \\big( E_z^{q}[m+1] - E_z^{q}[m] \\big)\n",
    "\\end{equation}\n",
    "\n"
   ]
  },
  {
   "cell_type": "markdown",
   "metadata": {},
   "source": [
    "Priestorovo-časové rozloženie zložiek poľa $E_z$ a $H_y$ potom môžeme znázorniť na nasledujúcom diagrame, $\\otimes$ označuje bod $[(m+1/2)\\Delta x, q \\Delta t]$.\n",
    "\n",
    "<img src=\"./img/fdtd_01.png\" width=600px alt=\"Aktualizačná rovnica pre Faradayov zákon\" scale=\"1.25\"/>\n",
    "\n",
    "Je zrejmé, že budúca hodnota magnetického poľa závisí od predchádzajúcej hodnoty a susedných hodnôt elektrického poľa."
   ]
  },
  {
   "cell_type": "markdown",
   "metadata": {},
   "source": [
    "**Diskretizácia Ampérovho zákona**\n",
    "\n",
    "V priestorovo-časovej súradnici $[(m \\Delta x, (q+1/2) \\Delta t]$ môžeme pre Ampérov zákon písať \n",
    "\n",
    "\\begin{equation*}\n",
    "\\epsilon \\frac{\\partial E_z}{\\partial t} \\biggr\\rvert_{m \\Delta x, \\, (q+1/2) \\Delta t}  = \n",
    "\\frac{\\partial H_y}{\\partial x} \\biggr\\rvert_{m \\Delta x, \\, (q+1/2) \\Delta t}\n",
    "\\end{equation*} \n",
    "\n",
    "Z vyššie uvedeného potom vyplýva\n",
    "\n",
    "\\begin{equation*}\n",
    "\\epsilon \\frac{E_z^{q+1}[m] - E_z^{q}[m]}{\\Delta t} = \\frac{H_y^{q + 1/2}[m+1/2] - H_y^{q+1/2}[m-1/2] }{\\Delta x}\n",
    "\\end{equation*}\n",
    "\n",
    "po úprave dostaneme pre hodnotu $E_z^{q+1}[m]$ aktualizačnú rovnicu v tvare \n",
    "\n",
    "\\begin{equation}\n",
    "E_z^{q+1}[m] = E_z^{q}[m] + \\frac{\\Delta t}{\\epsilon \\, \\Delta x} \\big({H_y^{q + 1/2}[m + 1/2] - H_y^{q+1/2}[m-1/2] } \\big)\n",
    "\\end{equation}\n",
    "\n",
    "\n",
    "\n",
    "\n",
    "\n",
    "\n",
    "\n"
   ]
  },
  {
   "cell_type": "markdown",
   "metadata": {},
   "source": [
    "<img src=\"./img/fdtd_02.png\" width=600px alt=\"Aktualizačná rovnica pre Ampérov zákon\" scale=\"1.25\"/>\n",
    "\n",
    "Podobne ako pri diskretizovanom Faradayovom zákone budúca hodnota elektrického poľa závisí od predchádzajúcej hodnoty a susedných hodnôt magnetického poľa.\n"
   ]
  },
  {
   "cell_type": "markdown",
   "metadata": {},
   "source": [
    "### Courantovo číslo\n",
    "\n",
    "Koeficienty v aktualizačných rovniciach $\\Delta t\\, / \\, \\mu \\Delta x$ a $\\Delta t\\, / \\, \\epsilon \\Delta x$ určujú, ako ďaleko (v čase a priestore) sa môže šíriť elektromagnetická energia. Ich veľkosť má vplyv na stabiliu riešenia a zároveň určujú rozmerové paramere simulačného modelu. Pri platnosti vzťahov\n",
    "\n",
    "\\begin{align*}\n",
    "c &= \\frac{1}{\\sqrt{\\epsilon_0 \\mu_0}} \\\\\n",
    "z_0 &= \\sqrt{\\frac{\\mu_0}{\\epsilon_0}} \\\\\n",
    "\\mu &= \\mu_0 \\mu_r \\\\\n",
    "\\epsilon &= \\epsilon_0 \\epsilon_r\n",
    "\\end{align*}\n",
    "\n",
    "môžeme koeficienty prepísať do tvaru\n",
    "\n",
    "\\begin{equation*}\n",
    "\\frac{\\Delta t}{\\epsilon \\Delta x} = \n",
    "\\frac{1}{\\epsilon_0 \\epsilon_r} \\frac{ \\sqrt{\\epsilon_0 \\mu_0}}{ \\sqrt{\\epsilon_0 \\mu_0}} \\frac{\\Delta t}{\\Delta x} =\n",
    "\\frac{\\sqrt{\\epsilon_0 \\mu_0}}{\\epsilon_0 \\epsilon_r} \\frac{c \\Delta t}{\\Delta x} = \n",
    "\\frac{1}{\\epsilon_r} \\sqrt{\\frac{\\mu_0}{\\epsilon_0}} \\frac{c \\Delta t}{\\Delta x} = \\frac{z_0}{\\epsilon_r} S_c\n",
    "\\end{equation*}\n",
    "\n",
    "\\begin{equation*}\n",
    "\\frac{\\Delta t}{\\mu \\Delta x} = \n",
    "\\frac{1}{\\mu_0 \\mu_r} \\frac{ \\sqrt{\\epsilon_0 \\mu_0}}{ \\sqrt{\\epsilon_0 \\mu_0}} \\frac{\\Delta t}{\\Delta x} =\n",
    "\\frac{\\sqrt{\\epsilon_0 \\mu_0}}{\\mu_0 \\mu_r} \\frac{c \\Delta t}{\\Delta x} = \n",
    "\\frac{1}{\\mu_r} \\sqrt{\\frac{\\epsilon_0}{\\mu_0}} \\frac{c \\Delta t}{\\Delta x} = \n",
    "\\frac{1}{\\mu_r \\, z_0} S_c\n",
    "\\end{equation*}\n",
    "\n",
    "kde $S_c$ je veličina nazývaná Courantovo číslo, definované ako \n",
    "\n",
    "\\begin{equation*}\n",
    "S_c = \\frac{c \\Delta t}{\\Delta x} \n",
    "\\end{equation*}\n",
    "\n",
    "a pre minimalizáciu numerických chýb zvyčajne volíme hodnotu $S_c = 1$ \n"
   ]
  }
 ],
 "metadata": {
  "kernelspec": {
   "display_name": "Python 3",
   "language": "python",
   "name": "python3"
  },
  "language_info": {
   "codemirror_mode": {
    "name": "ipython",
    "version": 3
   },
   "file_extension": ".py",
   "mimetype": "text/x-python",
   "name": "python",
   "nbconvert_exporter": "python",
   "pygments_lexer": "ipython3",
   "version": "3.6.7"
  },
  "latex_envs": {
   "LaTeX_envs_menu_present": true,
   "autoclose": false,
   "autocomplete": true,
   "bibliofile": "biblio.bib",
   "cite_by": "apalike",
   "current_citInitial": 1,
   "eqLabelWithNumbers": true,
   "eqNumInitial": 1,
   "hotkeys": {
    "equation": "Ctrl-E",
    "itemize": "Ctrl-I"
   },
   "labels_anchors": false,
   "latex_user_defs": false,
   "report_style_numbering": false,
   "user_envs_cfg": false
  },
  "varInspector": {
   "cols": {
    "lenName": 16,
    "lenType": 16,
    "lenVar": 40
   },
   "kernels_config": {
    "python": {
     "delete_cmd_postfix": "",
     "delete_cmd_prefix": "del ",
     "library": "var_list.py",
     "varRefreshCmd": "print(var_dic_list())"
    },
    "r": {
     "delete_cmd_postfix": ") ",
     "delete_cmd_prefix": "rm(",
     "library": "var_list.r",
     "varRefreshCmd": "cat(var_dic_list()) "
    }
   },
   "types_to_exclude": [
    "module",
    "function",
    "builtin_function_or_method",
    "instance",
    "_Feature"
   ],
   "window_display": false
  }
 },
 "nbformat": 4,
 "nbformat_minor": 2
}
