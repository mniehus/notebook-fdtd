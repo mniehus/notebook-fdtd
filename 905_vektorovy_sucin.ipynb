{
 "cells": [
  {
   "cell_type": "markdown",
   "metadata": {},
   "source": [
    "# Vektorový súčin v 3D "
   ]
  },
  {
   "cell_type": "markdown",
   "metadata": {},
   "source": [
    "Sú dané dva vektory v 3D, vektor $\\mathbf{a} = [a_{1}, a_{2}, a_{3}]$ a vektor $\\mathbf{b} = [b_{1}, b_{2}, b_{3}]$. Úlohou je nájsť taký vektor $\\mathbf{n} = [n_{1}, n_{2}, n_{3}]$, ktorý bude ortogonálny (kolmý) na dané dva vektory $\\mathbf{a}$ a $\\mathbf{b}$. To znamená, že pre vektor $\\mathbf{n}$ musí platiť:"
   ]
  },
  {
   "cell_type": "markdown",
   "metadata": {},
   "source": [
    "\\begin{equation*} \\begin{alignedat}{4} & \\mathbf{a} \\bullet \\mathbf{n} && {} = {} && 0 && {} \\\\ & \\mathbf{b} \\bullet \\mathbf{n} && {} = {} && 0 ~~ && , \\end{alignedat} \\end{equation*}"
   ]
  },
  {
   "cell_type": "markdown",
   "metadata": {},
   "source": [
    "kde operátor $\\bullet$ znamená skalárny súčin vektorov. Po rozpísaní skalárneho súčinu prejde posledný systém rovníc do tohto tvaru:"
   ]
  },
  {
   "cell_type": "markdown",
   "metadata": {},
   "source": [
    "\\begin{equation} \\begin{alignedat}{3} & a_{1} n_{1} + a_{2} n_{2} + a_{3} n_{3} && {} = {} && 0 \\\\ & b_{1} n_{1} + b_{2} n_{2} + b_{3} n_{3} && {} = {} && 0 \\end{alignedat} \\label{eq:1} \\end{equation}"
   ]
  },
  {
   "cell_type": "markdown",
   "metadata": {},
   "source": [
    "Vidíme, že ide o systém dvoch lineárnych rovníc o troch neznámich $n_{1}$, $n_{2}$ a $n_{3}$, keď sú dané čísla $a_{1}$, $a_{2}$, $a_{3}$, $b_{1}$ $b_{2}$ a $b_{3}$. Aby bolo možné tento systém rovníc vyriešiť, potrebujeme ešte jednu rovnicu, aby sme mali systém troch rovníc o troch neznámych. Tou rovnicou môže byť napríklad podmienka, že vektor $\\mathbf{n}$ bude v normalizovanom tvare, t.j. že bude mať jednotkovú veľkosť. Preto zavedieme normalizovaný jednotkový vektor $\\mathbf{\\tilde{n}} = [ \\tilde{n}_{1}, \\tilde{n}_{2}, \\tilde{n}_{3} ]$, ktorý budeme hľadať, pre ktorý bude platiť tento systém troch rovníc o troch neznámych:"
   ]
  },
  {
   "cell_type": "markdown",
   "metadata": {},
   "source": [
    "\\begin{equation} \\begin{alignedat}{4} & \\mathbf{a} \\bullet \\mathbf{\\tilde{n}} && {} = {} && 0 && {} \\\\ & \\mathbf{b} \\bullet \\mathbf{\\tilde{n}} && {} = {} && 0 && {} \\\\ & \\, \\lVert \\mathbf{\\tilde{n}} \\rVert && {} = {} && 1 ~~ && , \\end{alignedat} \\label{eq:2} \\end{equation}"
   ]
  },
  {
   "cell_type": "markdown",
   "metadata": {},
   "source": [
    "kde operátor $\\lVert \\cdot \\rVert$ vráti veľkosť (dĺžku) vektora, ktorý sa nachádza vo vnútri operátora namiesto bodky medzi dvomi dvojitými vertikálnymi čiarami. Vzájomná súvislosť medzi vektorm $\\mathbf{n}$ a vektorom  $\\mathbf{\\tilde{n}}$ je zrejme táto:"
   ]
  },
  {
   "cell_type": "markdown",
   "metadata": {},
   "source": [
    "\\begin{equation*} \\mathbf{\\tilde{n}} = \\frac{\\mathbf{n}}{\\lVert \\mathbf{n} \\rVert} = \\left [ \\frac{~ n_{1}}{\\lVert \\mathbf{n} \\rVert}, \\frac{~ n_{2}}{\\lVert \\mathbf{n} \\rVert}, \\frac{~ n_{3}}{\\lVert \\mathbf{n} \\rVert}  \\right ] = [ \\tilde{n}_{1}, \\tilde{n}_{2}, \\tilde{n}_{3} ] \\end{equation*}"
   ]
  },
  {
   "cell_type": "markdown",
   "metadata": {},
   "source": [
    "Z poslednej rovnice vyplýva:"
   ]
  },
  {
   "cell_type": "markdown",
   "metadata": {},
   "source": [
    "\\begin{equation} \\begin{alignedat}{12} & \\tilde{n}_{1} && {} = {} && \\frac{~ n_{1}}{\\lVert \\mathbf{n} \\rVert} ~~ && , ~~~~ && \\tilde{n}_{2} && {} = {} && \\frac{~ n_{2}}{\\lVert \\mathbf{n} \\rVert} ~~ && , ~~~~ && \\tilde{n}_{3} && {} = {} && \\frac{~ n_{3}}{\\lVert \\mathbf{n} \\rVert} ~~ && . \\end{alignedat} \\label{eq:3} \\end{equation}"
   ]
  },
  {
   "cell_type": "markdown",
   "metadata": {},
   "source": [
    "Pretože z rovnice $\\lVert \\mathbf{\\tilde{n}} \\rVert = 1$ vyplýva rovnica ${ \\lVert \\mathbf{\\tilde{n}} \\rVert }^{2} = 1$ a vzhľadom k tomu, že platí: "
   ]
  },
  {
   "cell_type": "markdown",
   "metadata": {},
   "source": [
    "\\begin{equation} \\label{eq:4} { \\lVert \\mathbf{\\tilde{n}} \\rVert }^{2} = \\mathbf{\\tilde{n}} \\bullet \\mathbf{\\tilde{n}} = \\tilde{n}_{1}^{2} + \\tilde{n}_{2}^{2} + \\tilde{n}_{3}^{2} ~~ , \\end{equation}"
   ]
  },
  {
   "cell_type": "markdown",
   "metadata": {},
   "source": [
    "potom systém rovníc \\eqref{eq:2} prejde do tohto tvaru:"
   ]
  },
  {
   "cell_type": "markdown",
   "metadata": {},
   "source": [
    "\\begin{equation} \\begin{alignedat}{3} & \\mathbf{a} \\bullet \\mathbf{\\tilde{n}} && {} = {} && 0 \\\\ & \\mathbf{b} \\bullet \\mathbf{\\tilde{n}} && {} = {} && 0 \\\\ & \\mathbf{\\tilde{n}} \\bullet \\mathbf{\\tilde{n}} && {} = {} && 1 \\end{alignedat} \\label{eq:5} \\end{equation}"
   ]
  },
  {
   "cell_type": "markdown",
   "metadata": {},
   "source": [
    "Po rozpísaní do zložkového tvaru prejde systém troch rovníc \\eqref{eq:5} o troch neznámych $\\tilde{n}_{1}$, $\\tilde{n}_{2}$, $\\tilde{n}_{3}$ pre dané $a_{1}$, $a_{2}$, $a_{3}$, $b_{1}$ $b_{2}$, $b_{3}$ do tohto tvaru:"
   ]
  },
  {
   "cell_type": "markdown",
   "metadata": {},
   "source": [
    "\\begin{equation} \\begin{alignedat}{7} & \\vphantom{\\tilde{n}_{2}^{2}} a_{1} \\tilde{n}_{1} && {} + {} && a_{2} \\tilde{n}_{2} && {} + {} && a_{3} \\tilde{n}_{3} && {} = {} && 0 \\\\ & \\vphantom{\\tilde{n}_{2}^{2}} b_{1} \\tilde{n}_{1} && {} + {} && b_{2} \\tilde{n}_{2} && {} + {} && b_{3} \\tilde{n}_{3} && {} = {} && 0 \\\\ & \\hphantom{a_{1}} \\tilde{n}_{1}^{2} ~~ && {} + {} ~~ && \\hphantom{a_{2}} \\tilde{n}_{2}^{2} ~~ && {} + {} ~~ && \\hphantom{a_{3}} \\tilde{n}_{3}^{2} ~~ && {} = {} ~~ && 1 \\end{alignedat} \\label{eq:6} \\end{equation}"
   ]
  },
  {
   "cell_type": "markdown",
   "metadata": {},
   "source": [
    "V podstate sa jedná o systém troch nelinárnych rovníc o troch neznámych. Z tohto dôvodu riešenie tohto systému pre neznáme $\\tilde{n}_{1}$, $\\tilde{n}_{2}$, $\\tilde{n}_{3}$ a pre dané $a_{1}$, $a_{2}$, $a_{3}$, $b_{1}$ $b_{2}$, $b_{3}$ bude trochu komplikovanejšie v porovnaní s prípadom riešenia systému troch lineárnych rovníc o troch neznámych."
   ]
  },
  {
   "cell_type": "markdown",
   "metadata": {},
   "source": [
    "## Riešenie systému rovníc \\eqref{eq:6}"
   ]
  },
  {
   "cell_type": "markdown",
   "metadata": {},
   "source": [
    "### Riešenie pre $\\tilde{n}_{1}^{2}$"
   ]
  },
  {
   "cell_type": "markdown",
   "metadata": {},
   "source": [
    "Najprv si z tretej rovnice v systéme rovníc \\eqref{eq:6} vyjadríme $\\tilde{n}_{1}$:"
   ]
  },
  {
   "cell_type": "markdown",
   "metadata": {},
   "source": [
    "\\begin{equation*} \\tilde{n}_{1} = \\pm \\sqrt{1 - \\tilde{n}_{2}^{2} - \\tilde{n}_{3}^{2}} \\end{equation*}"
   ]
  },
  {
   "cell_type": "markdown",
   "metadata": {},
   "source": [
    "a dosadíme do prvých dvoch rovníc v systéme rovníc \\eqref{eq:6}. Potom tieto dve rovnice prejdú do tohto systému dvoch nelineárnych rovníc o dvoch neznámych $\\tilde{n}_{2}$ a $\\tilde{n}_{3}$:"
   ]
  },
  {
   "cell_type": "markdown",
   "metadata": {},
   "source": [
    "\\begin{equation} \\begin{alignedat}{10} & \\text{I} && : && ~~~~~~~~~~~~ && \\pm a_{1} \\sqrt{1 - \\tilde{n}_{2}^{2} - \\tilde{n}_{3}^{2}} && {} + {} && a_{2} \\tilde{n}_{2} && {} + {} && a_{3} \\tilde{n}_{3} && {} = {} && 0 \\\\ & \\text{II} && : && {} && \\pm b_{1} \\sqrt{1 - \\tilde{n}_{2}^{2} - \\tilde{n}_{3}^{2}} && {} + {} && b_{2} \\tilde{n}_{2} && {} + {} && b_{3} \\tilde{n}_{3} && {} = {} && 0 \\end{alignedat} \\label{eq:7} \\end{equation}"
   ]
  },
  {
   "cell_type": "markdown",
   "metadata": {},
   "source": [
    "Ak v systéme rovníc \\eqref{eq:7} a) vynásobíme rovnicu $\\text{I}$ číslom $b_{2}$, od ktorej odčítame rovnicu $\\text{II}$ vynásobenú číslom $a_{2}$ a b) vynásobíme rovnicu $\\text{I}$ číslom $b_{3}$, od ktorej odčítame rovnicu $\\text{II}$ vynásobenú číslom $a_{3}$, potom dostaneme tento systém dvoch nelineárnych rovníc o dvoch neznámych $\\tilde{n}_{2}$ a $\\tilde{n}_{3}$:"
   ]
  },
  {
   "cell_type": "markdown",
   "metadata": {},
   "source": [
    "\\begin{equation*} \\begin{alignedat}{8} & b_{2} \\text{ I} - a_{2} \\text{ II} && : && ~~~~~~~~~~~~ && \\pm \\big ( a_{1} b_{2} - a_{2} b_{1} \\big ) \\sqrt{1 - \\tilde{n}_{2}^{2} - \\tilde{n}_{3}^{2}} && {} + {} && \\big ( a_{3} b_{2} - a_{2} b_{3} \\big ) \\tilde{n}_{3} ~~ && {} = {} ~~ && 0 \\\\ & b_{3} \\text{ I} - a_{3} \\text{ II} && : && {} && \\pm \\big ( a_{1} b_{3} - a_{3} b_{1} \\big ) \\sqrt{1 - \\tilde{n}_{2}^{2} - \\tilde{n}_{3}^{2}} && {} + {} && \\big ( a_{2} b_{3} - a_{3} b_{2} \\big ) \\tilde{n}_{2} && {} = {} && 0 \\end{alignedat} \\end{equation*}"
   ]
  },
  {
   "cell_type": "markdown",
   "metadata": {},
   "source": [
    "Po drobnej úprave prejde posledný systém dvoch nelineárnych rovníc o dvoch neznámych $\\tilde{n}_{2}$ a $\\tilde{n}_{3}$ do tohto tvaru:"
   ]
  },
  {
   "cell_type": "markdown",
   "metadata": {},
   "source": [
    "\\begin{equation*} \\begin{alignedat}{4} & \\pm \\big ( a_{1} b_{2} - a_{2} b_{1} \\big ) \\sqrt{1 - \\tilde{n}_{2}^{2} - \\tilde{n}_{3}^{2}} ~~~ && {} = {} ~ && {} && \\big ( a_{2} b_{3} - a_{3} b_{2} \\big ) \\tilde{n}_{3} \\\\ & \\pm \\big ( a_{1} b_{3} - a_{3} b_{1} \\big ) \\sqrt{1 - \\tilde{n}_{2}^{2} - \\tilde{n}_{3}^{2}} && {} = {} && {} - {} && \\big ( a_{2} b_{3} - a_{3} b_{2} \\big ) \\tilde{n}_{2} \\end{alignedat} \\end{equation*}"
   ]
  },
  {
   "cell_type": "markdown",
   "metadata": {},
   "source": [
    "Ak v posledných dvoch rovniciach umocníme na druhú obidve strany rovníc, potom dostaneme:"
   ]
  },
  {
   "cell_type": "markdown",
   "metadata": {},
   "source": [
    "\\begin{equation*} \\begin{alignedat}{3} & \\big ( a_{1} b_{2} - a_{2} b_{1} \\big ) ^ {2} \\big ( 1 - \\tilde{n}_{2}^{2} - \\tilde{n}_{3}^{2} \\big ) ~~ && {} = {} ~~ && \\big ( a_{2} b_{3} - a_{3} b_{2} \\big ) ^ {2} ~ \\tilde{n}_{3}^{2} \\\\ & \\big ( a_{1} b_{3} - a_{3} b_{1} \\big ) ^ {2} \\big ( 1 - \\tilde{n}_{2}^{2} - \\tilde{n}_{3}^{2} \\big ) && {} = {} && \\big ( a_{2} b_{3} - a_{3} b_{2} \\big ) ^ {2} ~ \\tilde{n}_{2}^{2} \\end{alignedat} \\end{equation*}"
   ]
  },
  {
   "cell_type": "markdown",
   "metadata": {},
   "source": [
    "Ak v posledných dvoch rovniciach na ľavej strane roznásobíme druhú zátvorku prvou zátvorkou a výsledné rovnice upravíme tak, že na ľavej strane zostanú neznáme $\\tilde{n}_{2}$ a $\\tilde{n}_{3}$ a na pravej strane zostane všetko ostatné, potom dostaneme tento systém dvoch nelineárnych rovníc o dvoch neznámych $\\tilde{n}_{2}$ a $\\tilde{n}_{3}$:"
   ]
  },
  {
   "cell_type": "markdown",
   "metadata": {},
   "source": [
    "\\begin{equation*} \\begin{array}{ccccccccc} \\displaystyle \\text{I} & : & ~~~~~~~~~~~~~~~~ & {} & \\big ( a_{1} b_{2} - a_{2} b_{1} \\big ) ^ {2} & \\tilde{n}_{2}^{2} & {} + {} & {} & {} \\\\ \\displaystyle {} & {} & {} & {} + {} & \\Big ( \\big ( a_{1} b_{2} - a_{2} b_{1} \\big ) ^ {2} + \\big ( a_{2} b_{3} - a_{3} b_{2} \\big ) ^ {2} \\Big ) & \\tilde{n}_{3}^{2} & {} & {} = {} & \\big ( a_{1} b_{2} - a_{2} b_{1} \\big ) ^ {2} \\\\ \\displaystyle \\vphantom{\\text{I}} & {} & {} & {} & {} & {} & {} & {} & {} \\\\ \\displaystyle \\text{II} & : & {} & {} & \\Big ( \\big ( a_{1} b_{3} - a_{3} b_{1} \\big ) ^ {2} + \\big ( a_{2} b_{3} - a_{3} b_{2} \\big ) ^ {2} \\Big ) & \\tilde{n}_{2}^{2} & {} + {} & {} & {} \\\\ \\displaystyle {} & {} & {} & {} + {} & \\big ( a_{1} b_{3} - a_{3} b_{1} \\big ) ^ {2} &  \\tilde{n}_{3}^{2} & {} & {} = {} & \\big ( a_{1} b_{3} - a_{3} b_{1} \\big ) ^ {2} \\end{array} \\end{equation*}"
   ]
  },
  {
   "cell_type": "markdown",
   "metadata": {},
   "source": [
    "Ak sčítame posledné dve rovnice, potom dostaneme túto nelineárnu rovnicu o dvoch neznámych $\\tilde{n}_{2}$ a $\\tilde{n}_{3}$:"
   ]
  },
  {
   "cell_type": "markdown",
   "metadata": {},
   "source": [
    "\\begin{equation*} \\begin{array}{cccccccc} \\displaystyle {} & \\Big ( \\big ( a_{2} b_{3} - a_{3} b_{2} \\big ) ^ {2} + \\big ( a_{1} b_{3} - a_{3} b_{1} \\big ) ^ {2} + \\big ( a_{1} b_{2} - a_{2} b_{1} \\big ) ^ {2} \\Big ) & \\tilde{n}_{2}^{2} & {} + {} & {} & {} & {} & {} \\\\ \\displaystyle {} + {} & \\Big ( \\big ( a_{2} b_{3} - a_{3} b_{2} \\big ) ^ {2} + \\big ( a_{1} b_{3} - a_{3} b_{1} \\big ) ^ {2} + \\big ( a_{1} b_{2} - a_{2} b_{1} \\big ) ^ {2} \\Big ) & \\tilde{n}_{3}^{2} & {} & {} = {} & {} & \\big ( a_{1} b_{2} - a_{2} b_{1} \\big ) ^ {2} & {} + {} \\\\ \\displaystyle {} & {} & {} & {} & {} & {} + {} & \\big ( a_{1} b_{3} - a_{3} b_{1} \\big ) ^ {2} & {} \\end{array} \\end{equation*}"
   ]
  },
  {
   "cell_type": "markdown",
   "metadata": {},
   "source": [
    "V poslednej rovnici vidíme, že koeficienty (výrazy v zátvorkách) u druhých mocnín neznámych $\\tilde{n}_{2}$ a $\\tilde{n}_{3}$ sú rovnaké. Preto môžeme na ľavej strane vybrať výraz v zátvorkách pred zátvorku, čím dostaneme túto rovnicu:"
   ]
  },
  {
   "cell_type": "markdown",
   "metadata": {},
   "source": [
    "\\begin{equation*} \\begin{array}{ccccccc} \\displaystyle \\Big ( \\big ( a_{2} b_{3} - a_{3} b_{2} \\big ) ^ {2} + \\big ( a_{1} b_{3} - a_{3} b_{1} \\big ) ^ {2} + \\big ( a_{1} b_{2} - a_{2} b_{1} \\big ) ^ {2} \\Big ) & \\big ( \\tilde{n}_{2}^{2} + \\tilde{n}_{3}^{2} \\big ) & {} & {} = {} & {} & \\big ( a_{1} b_{2} - a_{2} b_{1} \\big ) ^ {2} & {} + {} \\\\ \\displaystyle {} & {} & {} & {} & {} + {} & \\big ( a_{1} b_{3} - a_{3} b_{1} \\big ) ^ {2} & {} \\end{array} \\end{equation*}"
   ]
  },
  {
   "cell_type": "markdown",
   "metadata": {},
   "source": [
    "Z tretej rovnice v systéme rovníc \\eqref{eq:6} môžeme odvodiť túto rovnosť: $\\tilde{n}_{2}^{2} + \\tilde{n}_{3}^{2} = 1 - \\tilde{n}_{1}^{2}$. Po jej dosadení do poslednej rovnice dostaneme jednu rovnicu o jednej neznámej $\\tilde{n}_{1}$:"
   ]
  },
  {
   "cell_type": "markdown",
   "metadata": {},
   "source": [
    "\\begin{equation*} \\begin{array}{ccccccc} \\displaystyle \\Big ( \\big ( a_{2} b_{3} - a_{3} b_{2} \\big ) ^ {2} + \\big ( a_{1} b_{3} - a_{3} b_{1} \\big ) ^ {2} + \\big ( a_{1} b_{2} - a_{2} b_{1} \\big ) ^ {2} \\Big ) & \\big ( 1 - \\tilde{n}_{1}^{2} \\big ) & {} & {} = {} & {} & \\big ( a_{1} b_{2} - a_{2} b_{1} \\big ) ^ {2} & {} + {} \\\\ \\displaystyle {} & {} & {} & {} & {} + {} & \\big ( a_{1} b_{3} - a_{3} b_{1} \\big ) ^ {2} & {} \\end{array} \\end{equation*}"
   ]
  },
  {
   "cell_type": "markdown",
   "metadata": {},
   "source": [
    "Po úprave prejde posledná rovnica do tohto tvaru:"
   ]
  },
  {
   "cell_type": "markdown",
   "metadata": {},
   "source": [
    "\\begin{equation*} \\Big ( \\big ( a_{2} b_{3} - a_{3} b_{2} \\big ) ^ {2} + \\big ( a_{1} b_{3} - a_{3} b_{1} \\big ) ^ {2} + \\big ( a_{1} b_{2} - a_{2} b_{1} \\big ) ^ {2} \\Big ) ~ \\tilde{n}_{1}^{2} ~~ = ~~ \\big ( a_{2} b_{3} - a_{3} b_{2} \\big ) ^ {2} \\end{equation*}"
   ]
  },
  {
   "cell_type": "markdown",
   "metadata": {},
   "source": [
    "Ak z poslednej rovnice vyjadríme $\\tilde{n}_{1}^{2}$, potom dostaneme:"
   ]
  },
  {
   "cell_type": "markdown",
   "metadata": {},
   "source": [
    "\\begin{equation} \\label{eq:8}\n",
    "\\tilde{n}_{1}^{2} = \\frac{ \\big ( a_{2} b_{3} - a_{3} b_{2} \\big ) ^ {2} } { \\big ( a_{2} b_{3} - a_{3} b_{2} \\big ) ^ {2} + \\big ( a_{1} b_{3} - a_{3} b_{1} \\big ) ^ {2} + \\big ( a_{1} b_{2} - a_{2} b_{1} \\big ) ^ {2} }\n",
    "\\end{equation}"
   ]
  },
  {
   "cell_type": "markdown",
   "metadata": {},
   "source": [
    "### Riešenie pre $\\tilde{n}_{2}^{2}$"
   ]
  },
  {
   "cell_type": "markdown",
   "metadata": {},
   "source": [
    "Ak budeme postupovať rovnako ako v predchádzajúcom prípade, ale namiesto $\\tilde{n}_{1}$ si v tomto prípade najprv z tretej rovnice v systéme rovníc \\eqref{eq:6} vyjadríme $\\tilde{n}_{2}$:"
   ]
  },
  {
   "cell_type": "markdown",
   "metadata": {},
   "source": [
    "\\begin{equation*} \\tilde{n}_{2} = \\pm \\sqrt{1 - \\tilde{n}_{1}^{2} - \\tilde{n}_{3}^{2}} \\end{equation*}"
   ]
  },
  {
   "cell_type": "markdown",
   "metadata": {},
   "source": [
    "a dosadíme do prvých dvoch rovníc v systéme rovníc \\eqref{eq:6} a budeme postupovať rovnakým spôsobom ako v predchádzajúcom prípade pri odvodzovaní explicitného vzťahu pre vyjadrenie $\\tilde{n}_{1}^{2}$ pomocou daných hodnôt $a_{1}$, $a_{2}$, $a_{3}$, $b_{1}$, $b_{2}$, $b_{3}$, potom nakoniec dostaneme tento vzťah pre explicitné vyjadrenie $\\tilde{n}_{2}^{2}$ pomocou daných hodnôt $a_{1}$, $a_{2}$, $a_{3}$, $b_{1}$, $b_{2}$ a $b_{3}$ formálne v rovnakom, no v skutočnosti trochu odlišnom tvare v porovnaní s predchádzajúcim prípadom:"
   ]
  },
  {
   "cell_type": "markdown",
   "metadata": {},
   "source": [
    "\\begin{equation} \\label{eq:9}\n",
    "\\tilde{n}_{2}^{2} = \\frac{ \\big ( a_{1} b_{3} - a_{3} b_{1} \\big ) ^ {2} } { \\big ( a_{2} b_{3} - a_{3} b_{2} \\big ) ^ {2} + \\big ( a_{1} b_{3} - a_{3} b_{1} \\big ) ^ {2} + \\big ( a_{1} b_{2} - a_{2} b_{1} \\big ) ^ {2} }\n",
    "\\end{equation}"
   ]
  },
  {
   "cell_type": "markdown",
   "metadata": {},
   "source": [
    "### Riešenie pre $\\tilde{n}_{3}^{2}$"
   ]
  },
  {
   "cell_type": "markdown",
   "metadata": {},
   "source": [
    "Ak zopakujeme predchádzajúci postup, ale v tomto prípade si najprv z tretej rovnice v systéme rovníc \\eqref{eq:6} vyjadríme $\\tilde{n}_{3}$:"
   ]
  },
  {
   "cell_type": "markdown",
   "metadata": {},
   "source": [
    "\\begin{equation*} \\tilde{n}_{3} = \\pm \\sqrt{1 - \\tilde{n}_{1}^{2} - \\tilde{n}_{2}^{2}} \\end{equation*}"
   ]
  },
  {
   "cell_type": "markdown",
   "metadata": {},
   "source": [
    "a ďalej budeme postupovať tak ako v predchádzajúcich dvoch prípadoch, dopracujeme sa nakoniec k tomuto vzťahu pre explicitné vyjadrenie $\\tilde{n}_{3}^{2}$ pomocou $a_{1}$, $a_{2}$, $a_{3}$, $b_{1}$, $b_{2}$, $b_{3}$ v tomto tvare:"
   ]
  },
  {
   "cell_type": "markdown",
   "metadata": {},
   "source": [
    "\\begin{equation} \\label{eq:10}\n",
    "\\tilde{n}_{3}^{2} = \\frac{ \\big ( a_{1} b_{2} - a_{2} b_{1} \\big ) ^ {2} } { \\big ( a_{2} b_{3} - a_{3} b_{2} \\big ) ^ {2} + \\big ( a_{1} b_{3} - a_{3} b_{1} \\big ) ^ {2} + \\big ( a_{1} b_{2} - a_{2} b_{1} \\big ) ^ {2} }\n",
    "\\end{equation}"
   ]
  },
  {
   "cell_type": "markdown",
   "metadata": {},
   "source": [
    "## Riešenie pre $n_{1}$, $n_{2}$ a $n_{3}$"
   ]
  },
  {
   "cell_type": "markdown",
   "metadata": {},
   "source": [
    "Ak ľavé aj pravé strany vzťahov \\eqref{eq:3} umocníme na druhú, potom dostaneme:"
   ]
  },
  {
   "cell_type": "markdown",
   "metadata": {},
   "source": [
    "\\begin{equation*} \\begin{alignedat}{12} & \\tilde{n}_{1}^{2} && {} = {} && \\frac{ n_{1}^{2} }{ { \\lVert \\mathbf{n} \\rVert }^{2} } ~~ && , ~~~~ && \\tilde{n}_{2}^{2} && {} = {} && \\frac{ n_{2}^{2} }{ { \\lVert \\mathbf{n} \\rVert }^{2} } ~~ && , ~~~~ && \\tilde{n}_{3}^{2} && {} = {} && \\frac{ n_{3}^{2} }{ { \\lVert \\mathbf{n} \\rVert }^{2} } ~~ && .\\end{alignedat} \\end{equation*}"
   ]
  },
  {
   "cell_type": "markdown",
   "metadata": {},
   "source": [
    "Ak do posledných vzťahov dosadíme za ${ \\lVert \\mathbf{n} \\rVert }^{2} = \\mathbf{n} \\bullet \\mathbf{n} = n_{1}^{2} + n_{2}^{2} + n_{3}^{2}$, potom dostaneme:"
   ]
  },
  {
   "cell_type": "markdown",
   "metadata": {},
   "source": [
    "\\begin{equation*} \\begin{alignedat}{12} & \\tilde{n}_{1}^{2} && {} = {} && \\frac{ n_{1}^{2} }{ n_{1}^{2} + n_{2}^{2} + n_{3}^{2} } ~~ && , ~~~~ && \\tilde{n}_{2}^{2} && {} = {} && \\frac{ n_{2}^{2} }{ n_{1}^{2} + n_{2}^{2} + n_{3}^{2} } ~~ && , ~~~~ && \\tilde{n}_{3}^{2} && {} = {} && \\frac{ n_{3}^{2} }{ n_{1}^{2} + n_{2}^{2} + n_{3}^{2} } ~~ && .\\end{alignedat} \\end{equation*}"
   ]
  },
  {
   "cell_type": "markdown",
   "metadata": {},
   "source": [
    "Ak porovnáme posledné tri vzťahy so vzťahmi \\eqref{eq:8}, \\eqref{eq:9} a \\eqref{eq:10}, potom z výsledku porovnania dostaneme tieto vzťahy pre druhé mocniny hľadaných súradníc $n_{1}$, $n_{2}$ a $n_{3}$ vektora $\\mathbf{n}$:"
   ]
  },
  {
   "cell_type": "markdown",
   "metadata": {},
   "source": [
    "\\begin{equation*} \\begin{alignedat}{12} & n_{1}^{2} && {} = {} && \\big ( a_{2} b_{3} - a_{3} b_{2} \\big ) ^ {2} ~~ && , ~~~~ && n_{2}^{2} && {} = {} && \\big ( a_{1} b_{3} - a_{3} b_{1} \\big ) ^ {2} ~~ && , ~~~~ && n_{3}^{2} && {} = {} && \\big ( a_{1} b_{2} - a_{2} b_{1} \\big ) ^ {2} ~~ && .\\end{alignedat} \\end{equation*}"
   ]
  },
  {
   "cell_type": "markdown",
   "metadata": {},
   "source": [
    "Z posledných troch vzťahov vyplývajú tieto vzťahy pre určenie súradníc $n_{1}$, $n_{2}$ a $n_{3}$ vektora $\\mathbf{n}$, keď sú dané súradnice $a_{1}$, $a_{2}$ a $a_{3}$ vektora $\\mathbf{a}$ a súradnice $b_{1}$, $b_{2}$ a $b_{3}$ vektora $\\mathbf{b}$:"
   ]
  },
  {
   "cell_type": "markdown",
   "metadata": {},
   "source": [
    "\\begin{equation} \\begin{alignedat}{12} & n_{1} && {} = {} && \\pm \\big ( a_{2} b_{3} - a_{3} b_{2} \\big ) ~~ && , ~~~~ && n_{2} && {} = {} && \\pm \\big ( a_{1} b_{3} - a_{3} b_{1} \\big ) ~~ && , ~~~~ && n_{3} && {} = {} && \\pm \\big ( a_{1} b_{2} - a_{2} b_{1} \\big ) ~~ && .\\end{alignedat} \\label{eq:11} \\end{equation}"
   ]
  },
  {
   "cell_type": "markdown",
   "metadata": {},
   "source": [
    "Z posledných troch vzťahov vidíme, že sa nám podarilo určiť hodnoty súradníc $n_{1}$, $n_{2}$ a $n_{3}$ hľadaného vektora $\\mathbf{n}$ až na znamienko. Presnejšie, zatiaľ sa nám podarilo určiť iba tvar vzťahov, pomocou ktorých je možné určiť vektor $\\mathbf{n}$, v tomto prípade jeho súradnice $n_{1}$, $n_{2}$ a $n_{3}$, ktorý bude ortogonálny s, resp. ktorý bude kolmý na dané dva vektory $\\mathbf{a}$ a $\\mathbf{b}$, keď poznáme ich súradnice $a_{1}$, $a_{2}$, $a_{3}$ a $b_{1}$, $b_{2}$, $b_{3}$."
   ]
  },
  {
   "cell_type": "markdown",
   "metadata": {},
   "source": [
    "Nejednoznačnosť výsledku je zrejme spôsobená tým, že v podstate neexistuje iba jeden, ale práve dva také vektory $\\mathbf{n}$, ktoré budú spĺňať tú vlastnosť, že budú kolmé na, resp. budú ortogonálne s danými dvomi vektormi $\\mathbf{a}$ a $\\mathbf{b}$. Tieto dva vektory $\\mathbf{n}$ sa zrejme budú líšiť iba v znamienku, t.j. obidva vektory $\\mathbf{n}$ budú mať rovnakú orientáciu ale opačný zmysel, t.j. budú navzájom opačné."
   ]
  },
  {
   "cell_type": "markdown",
   "metadata": {},
   "source": [
    "Na základe uvedeného, ak sa nám podarí určiť správnu kombináciu znamienok v jednotlivých vzťahoch \\eqref{eq:11} tak, aby výsledné hodnoty súradníc $n_{1}$, $n_{2}$ a $n_{3}$ vektora $\\mathbf{n}$ vyhovovali systému rovníc \\eqref{eq:1}, potom poznáme jeden z dvoch vektorov $\\mathbf{n}$, ktorý vyhovuje podmienke ortogonality s vektormi $\\mathbf{a}$ a $\\mathbf{b}$. Potom zrejme druhý vektor $\\mathbf{n}$, ktorý bude tiež vyhovovať podmienke ortogonality bude $-\\mathbf{n} = [-n_{1}, -n_{2}, -n_{1}]$."
   ]
  },
  {
   "cell_type": "markdown",
   "metadata": {},
   "source": [
    "Vzhľadom k tomu, že systém rovníc \\eqref{eq:1} predstavuje systém iba dvoch rovníc o troch neznámych $n_{1}$, $n_{2}$ a $n_{3}$, máme jeden stupeň voľnosti, t.j. môžeme si zvoliť resp. definovať znamienko, a teda aj hodnotu u jednej zo súradníc $n_{1}$, $n_{2}$ alebo $n_{3}$ vektora $\\mathbf{n}$ vo vzťahoch \\eqref{eq:11}. Potom túto súradnicu už nebudeme považovať za neznámu, a výsledný systém rovníc \\eqref{eq:1} sa zmení na systém dvoch rovníc o dvoch neznámych. Riešením takéhoto systému a s využitím vzťahov \\eqref{eq:11} dokážeme určiť správne hodnoty znamienok pre zostávajúce dve súradnice vektora $\\mathbf{n}$."
   ]
  },
  {
   "cell_type": "markdown",
   "metadata": {},
   "source": [
    "Preto na základe vzťahov \\eqref{eq:11} napríklad zvoľme:"
   ]
  },
  {
   "cell_type": "markdown",
   "metadata": {},
   "source": [
    "\\begin{equation} \\label{eq:12} n_{1} = a_{2} b_{3} - a_{3} b_{2} \\end{equation}"
   ]
  },
  {
   "cell_type": "markdown",
   "metadata": {},
   "source": [
    "a dosaďme túto hodnotu do systému rovníc \\eqref{eq:1}. Dostaneme tento systém rovníc:"
   ]
  },
  {
   "cell_type": "markdown",
   "metadata": {},
   "source": [
    "\\begin{equation*} \\begin{alignedat}{3} & a_{1} \\big ( a_{2} b_{3} - a_{3} b_{2} \\big ) + a_{2} n_{2} + a_{3} n_{3} && {} = {} && 0 \\\\ & b_{1} \\big ( a_{2} b_{3} - a_{3} b_{2} \\big ) + b_{2} n_{2} + b_{3} n_{3} && {} = {} && 0 \\end{alignedat} \\end{equation*}"
   ]
  },
  {
   "cell_type": "markdown",
   "metadata": {},
   "source": [
    "Po drobnej úprave systému posledných dvoch rovníc dostaneme:"
   ]
  },
  {
   "cell_type": "markdown",
   "metadata": {},
   "source": [
    "\\begin{equation} \\begin{alignedat}{3} & a_{2} \\big ( n_{2} + a_{1} b_{3} \\big ) + a_{3} \\big ( n_{3} - a_{1} b_{2} \\big ) && {} = {} && 0 \\\\ & b_{2} \\big ( n_{2} - a_{3} b_{1} \\big ) + b_{3} \\big ( n_{3} + a_{2} b_{1} \\big ) && {} = {} && 0 \\end{alignedat} \\label{eq:13} \\end{equation}"
   ]
  },
  {
   "cell_type": "markdown",
   "metadata": {},
   "source": [
    "Zoberme si výrazy v jednotlivých zátvorkách v posledných dvoch rovniciach a dosaďme za $n_{2}$ a $n_{3}$ zo vzťahov \\eqref{eq:11}:"
   ]
  },
  {
   "cell_type": "markdown",
   "metadata": {},
   "source": [
    "\\begin{equation} \\begin{alignedat}{5} & n_{2} + a_{1} b_{3} && {} = {} && \\pm \\big ( a_{1} b_{3} - a_{3} b_{1} \\big ) + a_{1} b_{3} && {} = {} && \\pm a_{1} b_{3} \\mp a_{3} b_{1} + a_{1} b_{3} \\\\ & n_{2} - a_{3} b_{1} && {} = {} && \\pm \\big ( a_{1} b_{3} - a_{3} b_{1} \\big ) - a_{3} b_{1} && {} = {} && \\pm a_{1} b_{3} \\mp a_{3} b_{1} - a_{3} b_{1} \\\\ & n_{3} - a_{1} b_{2} && {} = {} && \\pm \\big ( a_{1} b_{2} - a_{2} b_{1} \\big ) - a_{1} b_{2} && {} = {} && \\pm a_{1} b_{2} \\mp a_{2} b_{1} - a_{1} b_{2} \\\\ & n_{3} + a_{2} b_{1} && {} = {} && \\pm \\big ( a_{1} b_{2} - a_{2} b_{1} \\big ) + a_{2} b_{1} && {} = {} && \\pm a_{1} b_{2} \\mp a_{2} b_{1} + a_{2} b_{1} \\end{alignedat} \\label{eq:14} \\end{equation}"
   ]
  },
  {
   "cell_type": "markdown",
   "metadata": {},
   "source": [
    "Ak sa bližšie pozrieme na vzťahy \\eqref{eq:14} a zvolíme taký prístup ku voľbe znamienka pre $n_{2}$ a $n_{3}$ na pravej strane, ktorý by čo najviac zjednodušil hodnoty výrazov na ľavej strane, potom jednoznačne pre voľbu znamienka pre $n_{2}$ vychádza znamienko mínus a pre voľbu znamienka pre $n_{3}$ jednoznačne vychádza znamienko plus. Potom hodnota súradnice $n_{2}$ vektora $\\mathbf{n}$ bude:"
   ]
  },
  {
   "cell_type": "markdown",
   "metadata": {},
   "source": [
    "\\begin{equation} \\label{eq:15} n_{2} = a_{3} b_{1} - a_{1} b_{3} \\hphantom{ ~~ . } \\end{equation}"
   ]
  },
  {
   "cell_type": "markdown",
   "metadata": {},
   "source": [
    "a hodnota súradnice $n_{3}$ vektora $\\mathbf{n}$ bude:"
   ]
  },
  {
   "cell_type": "markdown",
   "metadata": {},
   "source": [
    "\\begin{equation} \\label{eq:16} n_{3} = a_{1} b_{2} - a_{2} b_{1} ~~ . \\end{equation}"
   ]
  },
  {
   "cell_type": "markdown",
   "metadata": {},
   "source": [
    "Za tohto predpokladu bude pre hodnoty výrazov \\eqref{eq:14} platiť:"
   ]
  },
  {
   "cell_type": "markdown",
   "metadata": {},
   "source": [
    "\\begin{equation} \\begin{alignedat}{3} & n_{2} + a_{1} b_{3} && {} = {} && \\hphantom{{} - {}} a_{3} b_{1} \\\\ & n_{2} - a_{3} b_{1} && {} = {} && - a_{1} b_{3} \\\\ & n_{3} - a_{1} b_{2} && {} = {} && - a_{2} b_{1} \\\\ & n_{3} + a_{2} b_{1} && {} = {} && \\hphantom{{} - {}} a_{1} b_{2} \\\\ \\end{alignedat} \\label{eq:17} \\end{equation}"
   ]
  },
  {
   "cell_type": "markdown",
   "metadata": {},
   "source": [
    "Po dosadení výrazov \\eqref{eq:17} do systému rovníc \\eqref{eq:13} dostaneme:"
   ]
  },
  {
   "cell_type": "markdown",
   "metadata": {},
   "source": [
    "\\begin{equation*} \\begin{alignedat}{3} & a_{2} \\big ( a_{3} b_{1} \\big ) + a_{3} \\big ( - a_{2} b_{1} \\big ) && {} = {} && 0 \\\\ & b_{2} \\big ( - a_{1} b_{3} \\big ) + b_{3} \\big ( a_{1} b_{2} \\big ) && {} = {} && 0 \\end{alignedat} \\end{equation*}"
   ]
  },
  {
   "cell_type": "markdown",
   "metadata": {},
   "source": [
    "## Záver"
   ]
  },
  {
   "cell_type": "markdown",
   "metadata": {},
   "source": [
    "Z posledného systému rovníc vidíme, že hodnoty na ľavých stranách neodporujú hodnotám na pravých stranách rovníc, a preto konštatujeme, že nájdené hodnoty súradníc $n_{1}$, $n_{2}$ a $n_{3}$ vektora $\\mathbf{n}$ v podobe vzťahov \\eqref{eq:12}, \\eqref{eq:15} a \\eqref{eq:16} jednoznačne odpovedajú vektoru $\\mathbf{n} = [n_{1}, n_{2}, n_{3}]$, ktorý je ortogonálny s, resp. je kolmý na dané dva vektory $\\mathbf{a} = [a_{1}, a_{2}, a_{3}]$ a $\\mathbf{b} = [b_{1}, b_{2}, b_{3}]$, ktorých súradnice sú $a_{1}$, $a_{2}$ a $a_{3}$ a $b_{1}$, $b_{2}$ a $b_{3}$. Taký vektor $\\mathbf{n}$ bude potom explicitne vyjadrený pomocou súradníc vektorov $\\mathbf{a}$ a $\\mathbf{b}$ týmto vzťahom:"
   ]
  },
  {
   "cell_type": "markdown",
   "metadata": {},
   "source": [
    "\\begin{equation*} \\mathbf{n} = [a_{2} b_{3} - a_{3} b_{2}, a_{3} b_{1} - a_{1} b_{3}, a_{1} b_{2} - a_{2} b_{1}] ~~ . \\end{equation*}"
   ]
  }
 ],
 "metadata": {
  "author": "n",
  "kernelspec": {
   "display_name": "Python 3",
   "language": "python",
   "name": "python3"
  },
  "language_info": {
   "codemirror_mode": {
    "name": "ipython",
    "version": 3
   },
   "file_extension": ".py",
   "mimetype": "text/x-python",
   "name": "python",
   "nbconvert_exporter": "python",
   "pygments_lexer": "ipython3",
   "version": "3.6.7"
  },
  "latex_envs": {
   "LaTeX_envs_menu_present": true,
   "autoclose": false,
   "autocomplete": true,
   "bibliofile": "biblio.bib",
   "cite_by": "apalike",
   "current_citInitial": 1,
   "eqLabelWithNumbers": true,
   "eqNumInitial": 1,
   "hotkeys": {
    "equation": "Ctrl-E",
    "itemize": "Ctrl-I"
   },
   "labels_anchors": false,
   "latex_user_defs": false,
   "report_style_numbering": false,
   "user_envs_cfg": false
  },
  "varInspector": {
   "cols": {
    "lenName": 16,
    "lenType": 16,
    "lenVar": 40
   },
   "kernels_config": {
    "python": {
     "delete_cmd_postfix": "",
     "delete_cmd_prefix": "del ",
     "library": "var_list.py",
     "varRefreshCmd": "print(var_dic_list())"
    },
    "r": {
     "delete_cmd_postfix": ") ",
     "delete_cmd_prefix": "rm(",
     "library": "var_list.r",
     "varRefreshCmd": "cat(var_dic_list()) "
    }
   },
   "types_to_exclude": [
    "module",
    "function",
    "builtin_function_or_method",
    "instance",
    "_Feature"
   ],
   "window_display": false
  }
 },
 "nbformat": 4,
 "nbformat_minor": 2
}
