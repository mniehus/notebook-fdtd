{
 "cells": [
  {
   "cell_type": "markdown",
   "metadata": {},
   "source": [
    "# Inštalácia MEEP\n",
    "\n",
    "[MIT Electromagnetic Equation Propagation](https://meep.readthedocs.io/en/latest/)"
   ]
  },
  {
   "cell_type": "markdown",
   "metadata": {},
   "source": [
    "## Transformácie elementárnych veličín\n",
    "\n",
    "### Dĺžka\n",
    "\n",
    "Všetky jednotky používané v *meep* sú relatívne. Základom pre konverziu veličín do reálnych hodnôt je jednotka dĺžky, v ktorej udávame rozmery oblasti, veľkosti geometrických objektov atď.\n",
    "\n",
    "\\begin{equation*}\n",
    "[l] = a \n",
    "\\end{equation*}\n",
    "\n",
    "Napr. jedna dĺžková jednotka v *meep* môže byť reprezentovaná ako $a=1 \\mu m, \\, 5 cm \\dots $ \n",
    "\n",
    "\n",
    "### Čas\n",
    "\n",
    "Rýchlosť svetla má v *meep* hodnotu $c = 1$, takže elektromagnetická vlna sa prejde jednu dĺžkovú jednotku za časovú jednotku\n",
    "\n",
    "\\begin{equation*}\n",
    "[t] = \\frac{a} {c} = 1 \n",
    "\\end{equation*}\n",
    "\n",
    "Pretože\n",
    "\n",
    "\n",
    "\\begin{equation*}\n",
    "c = \\frac {1} {\\epsilon_0 \\mu_0} \\quad \\longrightarrow \\quad {\\epsilon_0 \\mu_0} = 1\n",
    "\\end{equation*}"
   ]
  },
  {
   "cell_type": "markdown",
   "metadata": {},
   "source": [
    "### Prúd a hmotnosť\n",
    "\n",
    "Pre transformáciu odvodených veličín je potrebné poznať transformačné vzťahy pre prúd a hmotnosť.\n",
    "\n",
    "Prúd má v *meep* hodnotu $I = 1$. Transformačný vzťah pre hmotnost odvodíme z Coloumbovho zákona\n",
    "\n",
    "\\begin{equation*}\n",
    "F = \\frac{1} {4 \\pi \\epsilon_0} \\frac{Q_1 Q_2} {r^2} \\quad \\longrightarrow \\quad  [ kg \\, m \\, s^{-2} ] = \\frac{1}{\\epsilon_0} \\big[ \\frac{A^2 s^2}{m^2} \\big]\n",
    "\\end{equation*}\n",
    "\n",
    "\\begin{equation*}\n",
    "M \\, a \\, t^{-2} = \\frac{I^2 \\, t^2}{\\epsilon_0  \\, a^2}\n",
    "\\end{equation*}\n",
    "\n",
    "\\begin{equation*}\n",
    "M = \\frac{I^2 \\, t^4}{\\epsilon_0  \\, a^3} = \\frac{I^2 \\, a}{\\epsilon_0  \\, c^4}\n",
    "\\end{equation*}"
   ]
  },
  {
   "cell_type": "markdown",
   "metadata": {},
   "source": [
    "## Transformácie odvodených veličín\n",
    "\n",
    "### Intenzita elektrického poľa E\n",
    "\n",
    "Z definičného vzťahu vyplýva\n",
    "\n",
    "\\begin{equation*}\n",
    "E = \\frac{F}{Q} \\quad \\longrightarrow \\quad  \\frac {M \\, a } {I \\, t^3} = \\frac{I^2 \\, a}{\\epsilon_0  \\, c^4} \\frac {a } {I \\, t^3} = \\frac {I } {\\epsilon_0 \\, a \\, c}\n",
    "\\end{equation*}\n",
    "\n",
    "Transformačný vzťah pre hodnoty v SI sústave po dosadení numerických hodnôt\n",
    "\n",
    "\\begin{equation*}\n",
    "E_{SI} = E \\, \\frac{I} {a} \\,  3.7673*10^{2} \\,  \\big[ \\frac{V}{m} \\big]\n",
    "\\end{equation*}\n",
    "\n",
    "### Elektrická indukcia D\n",
    "\n",
    "\\begin{equation*}\n",
    "D = \\epsilon_0 \\, E \\quad \\longrightarrow \\quad   \\frac {I } { a \\, c}\n",
    "\\end{equation*}\n",
    "\n",
    "\n",
    "\\begin{equation*}\n",
    "D_{SI} = D \\, \\frac{I} {a} \\,  3.3356*10^{-9} \\,  \\big[ \\frac{C}{m^2} \\big]\n",
    "\\end{equation*}\n"
   ]
  },
  {
   "cell_type": "code",
   "execution_count": null,
   "metadata": {},
   "outputs": [],
   "source": []
  }
 ],
 "metadata": {
  "kernelspec": {
   "display_name": "Python 3",
   "language": "python",
   "name": "python3"
  },
  "language_info": {
   "codemirror_mode": {
    "name": "ipython",
    "version": 3
   },
   "file_extension": ".py",
   "mimetype": "text/x-python",
   "name": "python",
   "nbconvert_exporter": "python",
   "pygments_lexer": "ipython3",
   "version": "3.6.7"
  },
  "latex_envs": {
   "LaTeX_envs_menu_present": true,
   "autoclose": false,
   "autocomplete": true,
   "bibliofile": "biblio.bib",
   "cite_by": "apalike",
   "current_citInitial": 1,
   "eqLabelWithNumbers": true,
   "eqNumInitial": 1,
   "hotkeys": {
    "equation": "Ctrl-E",
    "itemize": "Ctrl-I"
   },
   "labels_anchors": false,
   "latex_user_defs": false,
   "report_style_numbering": false,
   "user_envs_cfg": false
  },
  "varInspector": {
   "cols": {
    "lenName": 16,
    "lenType": 16,
    "lenVar": 40
   },
   "kernels_config": {
    "python": {
     "delete_cmd_postfix": "",
     "delete_cmd_prefix": "del ",
     "library": "var_list.py",
     "varRefreshCmd": "print(var_dic_list())"
    },
    "r": {
     "delete_cmd_postfix": ") ",
     "delete_cmd_prefix": "rm(",
     "library": "var_list.r",
     "varRefreshCmd": "cat(var_dic_list()) "
    }
   },
   "types_to_exclude": [
    "module",
    "function",
    "builtin_function_or_method",
    "instance",
    "_Feature"
   ],
   "window_display": false
  }
 },
 "nbformat": 4,
 "nbformat_minor": 2
}
