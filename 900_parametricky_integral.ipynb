{
 "cells": [
  {
   "cell_type": "markdown",
   "metadata": {},
   "source": [
    "Pre výpočet toku vektora cez uzatvorenú krivku použijeme všeobecný vzťah pre parametrický výpočet integrálu\n",
    "\n",
    "\\begin{equation*}\n",
    "\\int\\limits_a^b f(  \\varphi(x))  \\, \\varphi'(x) \\, dx = \\int\\limits_a^b F'(\\varphi(x)) \\,dx = F(\\varphi(b)) - F(\\varphi(a)) = \\int\\limits_{\\varphi(a)}^{\\varphi(b)} f(u) \\, du\n",
    "\\end{equation*}\n",
    "\n",
    "ktorý rozpíšeme na zložky vektora pre parametrickú krivku\n",
    "\n",
    "\\begin{equation*}\n",
    "x  = u(t) = u \\\\\n",
    "y = v(t) = v\n",
    "\\end{equation*}\n",
    "\n",
    "pre 2D prípad\n",
    "\n",
    "\\begin{equation*}\n",
    "\\mathbf{\\Phi} = \\int\\limits_a^b  \\big(\\, \\hat{i} . f_x ( u, v ) + \\hat{j} . f_y(u, v) \\, \\big) . \\big(\\, \\hat{i} . u' +  \\hat{j} . v' \\, \\big) \\, dt = \\int\\limits_a^b  \\big(\\, f_x ( u, v ) \\, u' + f_y(u, v) \\, v' \\, \\big) \\, dt \n",
    "\\end{equation*}\n",
    "\n",
    "Vyšiie uvedené vzťahy môžeme jednoduchým spôsobom rozšíriť aj na trojrozmerný prípad. Implementácia výpočtu toku cez parametrickú krivku v tvare kružnice je v nasledujúcom fragmente kódu. "
   ]
  }
 ],
 "metadata": {
  "kernelspec": {
   "display_name": "Python 3",
   "language": "python",
   "name": "python3"
  },
  "language_info": {
   "codemirror_mode": {
    "name": "ipython",
    "version": 3
   },
   "file_extension": ".py",
   "mimetype": "text/x-python",
   "name": "python",
   "nbconvert_exporter": "python",
   "pygments_lexer": "ipython3",
   "version": "3.6.7"
  },
  "latex_envs": {
   "LaTeX_envs_menu_present": true,
   "autoclose": false,
   "autocomplete": true,
   "bibliofile": "biblio.bib",
   "cite_by": "apalike",
   "current_citInitial": 1,
   "eqLabelWithNumbers": true,
   "eqNumInitial": 1,
   "hotkeys": {
    "equation": "Ctrl-E",
    "itemize": "Ctrl-I"
   },
   "labels_anchors": false,
   "latex_user_defs": false,
   "report_style_numbering": false,
   "user_envs_cfg": false
  },
  "varInspector": {
   "cols": {
    "lenName": 16,
    "lenType": 16,
    "lenVar": 40
   },
   "kernels_config": {
    "python": {
     "delete_cmd_postfix": "",
     "delete_cmd_prefix": "del ",
     "library": "var_list.py",
     "varRefreshCmd": "print(var_dic_list())"
    },
    "r": {
     "delete_cmd_postfix": ") ",
     "delete_cmd_prefix": "rm(",
     "library": "var_list.r",
     "varRefreshCmd": "cat(var_dic_list()) "
    }
   },
   "types_to_exclude": [
    "module",
    "function",
    "builtin_function_or_method",
    "instance",
    "_Feature"
   ],
   "window_display": false
  }
 },
 "nbformat": 4,
 "nbformat_minor": 2
}
