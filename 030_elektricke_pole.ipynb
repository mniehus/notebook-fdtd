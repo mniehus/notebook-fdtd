{
 "cells": [
  {
   "cell_type": "markdown",
   "metadata": {},
   "source": [
    "# Elektrické pole\n",
    "\n",
    "## Coulombov zákon\n",
    "\n",
    "Coulombov zákon popisuje silové pôsobenie medzi nábojmi. \n",
    "\n",
    "<img src=\"./img/obr_f12.png\" width=350 >\n",
    "\n",
    "Náboj $Q_2$ pôsobí vo vákuu na náboj $Q_1$ vo vzdialenosti $r$  silou $\\mathbf{F}_{1}$ ktorú môžeme vyjadriť vo vektorovej forme\n",
    "\n",
    "\\begin{equation}\n",
    "\\mathbf{F}_{1} = \\frac{1}{4 \\pi \\epsilon_0} \\frac{Q_1 \\, Q_2}{{r^2}} \\, \\hat{r}_{21}\n",
    "\\end{equation}\n",
    "\n",
    "kde $\\hat{r}_{21}$ je jednotkový vektor smerujúci od $Q_2$ ku $Q_1$. Vektorová forma zohľadňuje polaritu nábojov, pri rovnakej polarite sa náboje odpodzujú, pri opačnej priťahujú. Podľa  tretieho Newtonvho zákona platí $\\mathbf{F}_{1} =-\\mathbf{F}_{2}$\n",
    "\n",
    "V skalárnej forme\n",
    "\n",
    "\\begin{equation}\n",
    "| \\mathbf{F}| = \\frac{1}{4 \\pi \\epsilon_0} \\frac{ | Q_1 \\, Q_2 |}{{r^2}}\n",
    "\\end{equation}\n"
   ]
  },
  {
   "cell_type": "markdown",
   "metadata": {},
   "source": [
    "## Elektrické pole\n",
    "\n",
    "Silové pôsobenie na náboj $Q_1$ vieme vyjadriť pomocou elektrického poľa náboja $Q_2$, ktoré tento vo svojom okolí vytvára\n",
    "\n",
    "\\begin{equation*}\n",
    "\\mathbf{F}_{1} =   Q_1 \\, \\mathbf{E}\n",
    "\\end{equation*}\n",
    "\n",
    "Vo všeobecnosti každý statický náboj vo svojom okolí vytvára elektrické pole\n",
    "\n",
    "\\begin{equation*}\n",
    "\\mathbf{E} = \\frac{1}{4 \\pi \\epsilon_0} \\frac{Q}{{r^2}} \\, \\hat{r}\n",
    "\\end{equation*}\n"
   ]
  }
 ],
 "metadata": {
  "kernelspec": {
   "display_name": "Python 3",
   "language": "python",
   "name": "python3"
  },
  "language_info": {
   "codemirror_mode": {
    "name": "ipython",
    "version": 3
   },
   "file_extension": ".py",
   "mimetype": "text/x-python",
   "name": "python",
   "nbconvert_exporter": "python",
   "pygments_lexer": "ipython3",
   "version": "3.6.7"
  },
  "latex_envs": {
   "LaTeX_envs_menu_present": true,
   "autoclose": false,
   "autocomplete": true,
   "bibliofile": "biblio.bib",
   "cite_by": "apalike",
   "current_citInitial": 1,
   "eqLabelWithNumbers": true,
   "eqNumInitial": 1,
   "hotkeys": {
    "equation": "Ctrl-E",
    "itemize": "Ctrl-I"
   },
   "labels_anchors": false,
   "latex_user_defs": false,
   "report_style_numbering": false,
   "user_envs_cfg": false
  },
  "varInspector": {
   "cols": {
    "lenName": 16,
    "lenType": 16,
    "lenVar": 40
   },
   "kernels_config": {
    "python": {
     "delete_cmd_postfix": "",
     "delete_cmd_prefix": "del ",
     "library": "var_list.py",
     "varRefreshCmd": "print(var_dic_list())"
    },
    "r": {
     "delete_cmd_postfix": ") ",
     "delete_cmd_prefix": "rm(",
     "library": "var_list.r",
     "varRefreshCmd": "cat(var_dic_list()) "
    }
   },
   "types_to_exclude": [
    "module",
    "function",
    "builtin_function_or_method",
    "instance",
    "_Feature"
   ],
   "window_display": false
  }
 },
 "nbformat": 4,
 "nbformat_minor": 2
}
