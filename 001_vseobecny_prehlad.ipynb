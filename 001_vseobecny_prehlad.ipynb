{
 "cells": [
  {
   "cell_type": "markdown",
   "metadata": {},
   "source": [
    "# Prehľad pojmov vektorovej analýzy\n",
    "\n",
    "## Skalárne pole\n",
    "\n",
    "V matematike a fyzike je skalárne pole funkciou priraďujúce skalárnu hodnotu (t.j. určenú jediným čiselným údajom) každému bodu priestoru, napríklad teplota, hustota nebo vlhkost vzduchu. Príklad definície skalárnej funkcia v 2D\n",
    "\n",
    "\\begin{equation*}\n",
    "f(x,y) = \\sin(x)*y^2 + \\cos(y)\n",
    "\\end{equation*}\n",
    "\n",
    "\n",
    "## Vektorové pole\n",
    "\n",
    "Vektorové pole je funkcia priraďujúca každému bodu priestoru vektor (t.j. veličinu, ktorá má veľkosť a smer). Vo fyzike sa vektorové pole používa na popis toho, ako sa daná vektorová veličina mení v priestore od bodu k bodu, napríklad rýchlosť kvapaliny, elektrické alebo magnetické pole. Príklad definície vektorovej funkcie v 2D  (zložky vektorov sú definované pomocou skalárnych funkcií)\n",
    "\n",
    "\\begin{equation*}\n",
    "    \\mathbf{F}(x,y) =  F_x(x,y) \\, \\mathbf{i} + F_y(x,y) \\, \\mathbf{j} =  ( x^2-y ) \\, \\mathbf{i}   + ( \\sin(x) + y^2 )  \\, \\mathbf{j} \n",
    "\\end{equation*}\n",
    "\n",
    "## Operátor $\\nabla$\n",
    "\n",
    "*Nabla operátor* je vektorový operátor, ktorý zavedol v roku 1837 írsky matematik a fyzik [William Rowan Hamilton](https://en.wikipedia.org/wiki/Nabla_symbol). V karteziánskych súradniciach je operátor formálne definovaný ako vektor \n",
    "\n",
    "\\begin{equation*}\n",
    "\\nabla \\equiv  \\frac{\\partial}{\\partial x} \\, \\mathbf{i} + \\frac{\\partial}{\\partial y} \\, \\mathbf{j} +  \\frac{\\partial}{\\partial z} \\, \\mathbf{k}\n",
    "\\end{equation*}\n",
    "\n",
    "Transformáciou súradníc je možné získať operátor  $\\nabla$ v iných súradnicových sústavách (cylindrickej, sférickej).\n",
    "\n",
    "## Gradient\n",
    "\n",
    "Uplatnením operátora $\\nabla$ na skalárne pole $f(x,y)$ dostaneme vektorové pole, ktoré popisuje zmeny strmosti alebo poklesu skalárnej funkcie.\n",
    "\n",
    "\\begin{equation*}\n",
    "\\operatorname{grad} \\, f(x,y,z) = \\nabla f(x,y, z) =  \\frac{\\partial f}{\\partial x} \\, \\mathbf{i} + \\frac{\\partial f}{\\partial y} \\, \\mathbf{j} + \\frac{\\partial f}{\\partial z} \\, \\mathbf{k}\n",
    "\\end{equation*}\n",
    "\n",
    "## Divergencia\n",
    "\n",
    "Skalárnym súčin operátora $\\nabla$ s vektorovým poľom dostaneme skalárne pole, ktoré popisuje žriedlovosť vektorového poľa. Ak v danom bode priestoru pole vzniká, divergencia má kladnú hodnotu, ak zaniká má hodnotu zápornú.  \n",
    "\n",
    "\\begin{equation*}\n",
    "div \\, \\mathbf{F}(x,y,z) = \\nabla \\cdot  \\mathbf{F}(x,y,z) = \\frac{\\partial F_x}{\\partial x} + \\frac{\\partial F_y}{\\partial y} + \\frac{\\partial F_z}{\\partial z}\n",
    "\\end{equation*}\n",
    "\n",
    "## Rotácia\n",
    "\n",
    "Vektorovým súčinom operátora $\\nabla$ s vektorovým poľom dostaneme vektorové pole, ktoré popisuje mieru vírovosti vektorového poľa, t.j. do akej miery sa v danom bode priestoru pole otáča alebo rotuje. Vektor rotácie v danom bode je v smere osi otáčania, jeho orientácia vzhľadom k rovine otáčania určíme pomocou pravidla pravej ruky.\n",
    "\n",
    "\\begin{equation*}\n",
    "curl \\, \\mathbf{F}(x,y,z) = \\nabla \\times \\mathbf{F}(x,y,z) \n",
    "= \\left(\\frac{\\partial F_z}{\\partial y} - \\frac{\\partial F_y}{\\partial z}\\right) \\mathbf{i}   +  \\left(\\frac{\\partial F_x}{\\partial z} - \\frac{\\partial F_z}{\\partial x} \\right) \\mathbf{j} + \\left(\\frac{\\partial F_y}{\\partial x} - \\frac{\\partial F_x}{\\partial y} \\right) \\mathbf{k} \n",
    "\\end{equation*}"
   ]
  },
  {
   "cell_type": "markdown",
   "metadata": {},
   "source": [
    "## Gaussova veta\n",
    "\n",
    "Gaussova veta (veta o divergencii) dáva do súvislosti tok vektorového poľa $\\mathbf{F}$ uzatvorenou hladkou plochou $S$ tvoriacou povrch nejakého objemu $V$ s integrálom cez divergenciu pola v tomto objeme  \n",
    "\n",
    "\\begin{equation*}\n",
    "\\oint\\limits_S \\mathbf{F} \\, \\mathrm{d}\\mathbf{S} = \\int\\limits_V \\nabla \\cdot  \\mathbf{F} \\, \\mathrm{d}V \n",
    "\\end{equation*}\n",
    "\n",
    "Ak sa v objeme $V$, ktorý je ohraničený plochou $S$ vyskytuje zdroj (source) vytvárajúci vektorové pole  $\\mathbf{F}$, potom integrál toku cez polochu je kladný, bez zdroja nulový a pri vtoku (sinks) je záporný. \n",
    "\n",
    "## Stokesova veta\n",
    "\n",
    "Stokesova veta dáva do súvisu integrál po uzatvorenej krivke $C$ vo vektorovom poli $\\mathbf{F}$ s integrálom rotácie poľa cez plochu, ktorá je touto krivkou ohraničená\n",
    "\n",
    "\\begin{equation*}\n",
    "\\oint\\limits_C \\mathbf{F}\\cdot\\mathrm{d}\\mathbf{l} = \\int\\limits_S \\left({\\nabla \\times \\mathbf{F}}\\right) \\cdot \\mathrm{d}\\mathbf{s} \n",
    "\\end{equation*}\n",
    "\n",
    "Stokesova veta v dvojrozmernom priestore sa nazýva **Greenova veta**.\n"
   ]
  },
  {
   "cell_type": "markdown",
   "metadata": {},
   "source": [
    "## Laplacián\n",
    "\n",
    "## Vlnová rovnica"
   ]
  }
 ],
 "metadata": {
  "kernelspec": {
   "display_name": "Python 3",
   "language": "python",
   "name": "python3"
  },
  "language_info": {
   "codemirror_mode": {
    "name": "ipython",
    "version": 3
   },
   "file_extension": ".py",
   "mimetype": "text/x-python",
   "name": "python",
   "nbconvert_exporter": "python",
   "pygments_lexer": "ipython3",
   "version": "3.6.8"
  },
  "latex_envs": {
   "LaTeX_envs_menu_present": true,
   "autoclose": false,
   "autocomplete": true,
   "bibliofile": "biblio.bib",
   "cite_by": "apalike",
   "current_citInitial": 1,
   "eqLabelWithNumbers": true,
   "eqNumInitial": 1,
   "hotkeys": {
    "equation": "Ctrl-E",
    "itemize": "Ctrl-I"
   },
   "labels_anchors": false,
   "latex_user_defs": false,
   "report_style_numbering": false,
   "user_envs_cfg": false
  },
  "varInspector": {
   "cols": {
    "lenName": 16,
    "lenType": 16,
    "lenVar": 40
   },
   "kernels_config": {
    "python": {
     "delete_cmd_postfix": "",
     "delete_cmd_prefix": "del ",
     "library": "var_list.py",
     "varRefreshCmd": "print(var_dic_list())"
    },
    "r": {
     "delete_cmd_postfix": ") ",
     "delete_cmd_prefix": "rm(",
     "library": "var_list.r",
     "varRefreshCmd": "cat(var_dic_list()) "
    }
   },
   "types_to_exclude": [
    "module",
    "function",
    "builtin_function_or_method",
    "instance",
    "_Feature"
   ],
   "window_display": false
  }
 },
 "nbformat": 4,
 "nbformat_minor": 2
}
