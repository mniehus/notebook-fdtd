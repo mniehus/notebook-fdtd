{
 "cells": [
  {
   "cell_type": "markdown",
   "metadata": {},
   "source": [
    "# Úvod\n",
    "\n",
    "Notebook je zameraný na prezentáciu možností simulácie šírenia sa elektromagnetického vlnia v prostredí pomocou metódy FDTD. V úvodných kapitolách je krátky prehľad pojmov vektorovej analýzy spolu s metódami pre manipuláciu s vektorovými poľami v Pythone. Nasleduje odvodenie metódy FDTD a elementárne jednorozmerné príklady demonštrujúce základné princípy a vlastnosti metódy. Pre riešenie komplexných problémov je popísané programové prostredie MEEP spolu s príkladmi použitia.\\\\\n",
    "\n",
    "Pre použitie notebooku predpokladáme základné znalosti programovacieho jazyka Python a elementárne znalosti pojmov vektorovej analýzy.\n",
    "\n",
    "\n",
    "## Sofware\n",
    "\n",
    "* [Jupyter Notebook](https://jupyter.org/) \n",
    "* [LaTex_envs prostredie pre Jupyter](https://github.com/jfbercher/jupyter_latex_envs)\n",
    "* python\n",
    "* matplotlib\n",
    "* numpy, scipy, sympy\n",
    "* [meep](http://www.simpetuscloud.com/index.html#platform)\n",
    "* [paraview](https://www.paraview.org/)\n",
    "* [numdifftools](https://github.com/pbrod/numdifftools)\n"
   ]
  },
  {
   "cell_type": "markdown",
   "metadata": {},
   "source": [
    "\n",
    "## Použité symboly\n",
    "\n",
    "\\begin{align*}\n",
    "&a, \\, b, \\dots                            \\,\\,\\,&  &\\textrm{skalárne premenné a konštanty} \\\\\n",
    "&f, \\,  f(), \\, f(x,y), \\, F_x,\\dots       \\,\\,\\,&  &\\textrm{skalárne funkcie a polia} \\\\\n",
    "&\\mathbf{i}, \\, \\mathbf{j}, \\, \\mathbf{k}  \\,\\,\\,&  &\\textrm{ jednotkové vektory v karteziánskej súradnicovej sústave} \\\\\n",
    "&\\mathbf{x}, \\mathbf{y}, \\mathbf{r} \\dots           \\,\\,\\,&   &\\textrm{vektorové premenné a konštanty} \\\\\n",
    "&\\mathbf{F}, \\, \\mathbf{F(r)}, \\, \\mathbf{F}(x,y) \\, \\dots  \\,\\,\\,&  &\\textrm{vektorové funkcie a polia} \\\\\n",
    "\\end{align*}\n",
    "\n",
    "## Skratky\n",
    "\n",
    "    FDTD    - Finite-difference time-domain method \n",
    "    PEC     - Perfect Electrical Conductor \n",
    "    PMC     - Perfect Magnetic Conductor\n",
    "    ABC     - Absorbing Boundary Conditions\n",
    "    "
   ]
  },
  {
   "cell_type": "markdown",
   "metadata": {},
   "source": [
    "## Literatúra\n",
    "\n",
    "* [John B. Schneider: Understanding the FDTD Method ](https://github.com/john-b-schneider/uFDTD)\n",
    "* [Dokumentácia k MEEP](https://meep.readthedocs.io/en/latest/)"
   ]
  }
 ],
 "metadata": {
  "kernelspec": {
   "display_name": "Python 3",
   "language": "python",
   "name": "python3"
  },
  "language_info": {
   "codemirror_mode": {
    "name": "ipython",
    "version": 3
   },
   "file_extension": ".py",
   "mimetype": "text/x-python",
   "name": "python",
   "nbconvert_exporter": "python",
   "pygments_lexer": "ipython3",
   "version": "3.6.8"
  },
  "latex_envs": {
   "LaTeX_envs_menu_present": true,
   "autoclose": false,
   "autocomplete": true,
   "bibliofile": "biblio.bib",
   "cite_by": "apalike",
   "current_citInitial": 1,
   "eqLabelWithNumbers": true,
   "eqNumInitial": 1,
   "hotkeys": {
    "equation": "Ctrl-E",
    "itemize": "Ctrl-I"
   },
   "labels_anchors": false,
   "latex_user_defs": false,
   "report_style_numbering": false,
   "user_envs_cfg": false
  },
  "varInspector": {
   "cols": {
    "lenName": 16,
    "lenType": 16,
    "lenVar": 40
   },
   "kernels_config": {
    "python": {
     "delete_cmd_postfix": "",
     "delete_cmd_prefix": "del ",
     "library": "var_list.py",
     "varRefreshCmd": "print(var_dic_list())"
    },
    "r": {
     "delete_cmd_postfix": ") ",
     "delete_cmd_prefix": "rm(",
     "library": "var_list.r",
     "varRefreshCmd": "cat(var_dic_list()) "
    }
   },
   "types_to_exclude": [
    "module",
    "function",
    "builtin_function_or_method",
    "instance",
    "_Feature"
   ],
   "window_display": false
  }
 },
 "nbformat": 4,
 "nbformat_minor": 2
}
