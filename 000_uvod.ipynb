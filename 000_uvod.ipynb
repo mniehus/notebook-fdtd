{
 "cells": [
  {
   "cell_type": "markdown",
   "metadata": {},
   "source": [
    "# Úvod\n",
    "\n",
    "Notebook je založený na dokumente [John B. Schneider:](https://www.eecs.wsu.edu/~schneidj/index.php)  [Understanding the Finite-Difference Time-Domain\n",
    "Method](https://www.eecs.wsu.edu/~schneidj/ufdtd/ufdtd.pdf), z ktorého je prevzaté členenie notebooku a odvodenie fundamenetálnych vzťahov. Implementácia príkladov je v Pythone a celý koncept je doplnený o príklady použitia simulátora MEEP. \n",
    "\n",
    "## Sofware\n",
    "\n",
    "* jupyter notebook s LaTex_envs rozšírením\n",
    "* python\n",
    "* matplotlib\n",
    "* numpy, scipy\n",
    "* [meep](http://www.simpetuscloud.com/index.html#platform)\n",
    "* [paraview](https://www.paraview.org/)\n"
   ]
  },
  {
   "cell_type": "markdown",
   "metadata": {},
   "source": [
    "\n",
    "## Použité symboly\n",
    "\n",
    "\\begin{align*}\n",
    "&a, \\, b, \\dots                            \\,\\,\\,&  &\\textrm{skalárne premenné a konštanty} \\\\\n",
    "&f, \\,  f(), \\, f(x,y), \\, F_x,\\dots       \\,\\,\\,&  &\\textrm{skalárne funkcie a polia} \\\\\n",
    "&\\mathbf{i}, \\, \\mathbf{j}, \\, \\mathbf{k}  \\,\\,\\,&  &\\textrm{ jednotkové vektory v karteziánskej súradnicovej sústave} \\\\\n",
    "&\\mathbf{x}, \\mathbf{y}, \\mathbf{r} \\dots           \\,\\,\\,&   &\\textrm{vektorové premenné a konštanty} \\\\\n",
    "&\\mathbf{F}, \\, \\mathbf{F(r)}, \\, \\mathbf{F}(x,y) \\, \\dots  \\,\\,\\,&  &\\textrm{vektorové funkcie a polia} \\\\\n",
    "\\end{align*}\n",
    "\n",
    "## Skratky\n",
    "\n",
    "    FDTD \n",
    "    PMC\n",
    "    PEC\n",
    "    ABC - Absorbing Boundary Conditions\n",
    "    "
   ]
  },
  {
   "cell_type": "markdown",
   "metadata": {},
   "source": [
    "## Literatúra\n",
    "\n",
    "https://github.com/john-b-schneider/uFDTD"
   ]
  }
 ],
 "metadata": {
  "kernelspec": {
   "display_name": "Python 3",
   "language": "python",
   "name": "python3"
  },
  "language_info": {
   "codemirror_mode": {
    "name": "ipython",
    "version": 3
   },
   "file_extension": ".py",
   "mimetype": "text/x-python",
   "name": "python",
   "nbconvert_exporter": "python",
   "pygments_lexer": "ipython3",
   "version": "3.6.7"
  },
  "latex_envs": {
   "LaTeX_envs_menu_present": true,
   "autoclose": false,
   "autocomplete": true,
   "bibliofile": "biblio.bib",
   "cite_by": "apalike",
   "current_citInitial": 1,
   "eqLabelWithNumbers": true,
   "eqNumInitial": 1,
   "hotkeys": {
    "equation": "Ctrl-E",
    "itemize": "Ctrl-I"
   },
   "labels_anchors": false,
   "latex_user_defs": false,
   "report_style_numbering": false,
   "user_envs_cfg": false
  },
  "varInspector": {
   "cols": {
    "lenName": 16,
    "lenType": 16,
    "lenVar": 40
   },
   "kernels_config": {
    "python": {
     "delete_cmd_postfix": "",
     "delete_cmd_prefix": "del ",
     "library": "var_list.py",
     "varRefreshCmd": "print(var_dic_list())"
    },
    "r": {
     "delete_cmd_postfix": ") ",
     "delete_cmd_prefix": "rm(",
     "library": "var_list.r",
     "varRefreshCmd": "cat(var_dic_list()) "
    }
   },
   "types_to_exclude": [
    "module",
    "function",
    "builtin_function_or_method",
    "instance",
    "_Feature"
   ],
   "window_display": false
  }
 },
 "nbformat": 4,
 "nbformat_minor": 2
}
